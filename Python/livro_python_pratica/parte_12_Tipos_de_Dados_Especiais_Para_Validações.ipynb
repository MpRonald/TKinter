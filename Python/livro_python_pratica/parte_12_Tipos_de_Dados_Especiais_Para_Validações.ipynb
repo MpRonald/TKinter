{
 "cells": [
  {
   "cell_type": "markdown",
   "metadata": {},
   "source": [
    "# Tipos de Dados Especiais Para Validações\n"
   ]
  },
  {
   "cell_type": "code",
   "execution_count": 1,
   "metadata": {},
   "outputs": [],
   "source": [
    "# tipo literal\n",
    "from typing import Literal"
   ]
  },
  {
   "cell_type": "code",
   "execution_count": 2,
   "metadata": {},
   "outputs": [],
   "source": [
    "def usuario(user: str) -> Literal['logado', 'deslogado']:\n",
    "    # Definimos que a função receberá um dado no formato string e retornará      \n",
    "    # literalmente/obrigatoriamente ou 'logado' ou 'deslogado'.      \n",
    "    if user == 'logado':          \n",
    "        print('Logado no sistema')      \n",
    "    if user == 'deslogado':          \n",
    "        print('Deslogado do sistema')      \n",
    "    if user != 'logado' and user != 'deslogado':          \n",
    "        print('Status inválido')"
   ]
  },
  {
   "cell_type": "code",
   "execution_count": 3,
   "metadata": {},
   "outputs": [
    {
     "name": "stdout",
     "output_type": "stream",
     "text": [
      "Deslogado do sistema\n"
     ]
    }
   ],
   "source": [
    "va1 = usuario('deslogado')"
   ]
  },
  {
   "cell_type": "markdown",
   "metadata": {},
   "source": [
    "# Tipo Union"
   ]
  },
  {
   "cell_type": "code",
   "execution_count": 4,
   "metadata": {},
   "outputs": [],
   "source": [
    "from typing import Union"
   ]
  },
  {
   "cell_type": "code",
   "execution_count": 5,
   "metadata": {},
   "outputs": [
    {
     "name": "stdout",
     "output_type": "stream",
     "text": [
      "O resultado da soma: 111\n"
     ]
    }
   ],
   "source": [
    "def soma(num1: int, num2: int) -> Union[str, int]:\n",
    "    # Recebe dois números do tipo int e permite que retorne um dado do tipo    \n",
    "    # string ou int.\n",
    "    res_soma = num1 + num2\n",
    "    print(f'O resultado da soma: {res_soma}')\n",
    "\n",
    "calculo1 = soma(99, 12)\n",
    "# Pode ser usado em qualquer parâmetro/argumento"
   ]
  },
  {
   "cell_type": "code",
   "execution_count": 8,
   "metadata": {},
   "outputs": [
    {
     "name": "stdout",
     "output_type": "stream",
     "text": [
      "O resultado da soma é: 112.2\n"
     ]
    }
   ],
   "source": [
    "def soma(num1: Union[int, float], num2: Union[int, float]) -> Union[str, int]:\n",
    "    # Recebe dois números do tipo int e permite que retorne um dado do tipo    \n",
    "    # string ou int.    \n",
    "    res_soma = num1 + num2    \n",
    "    print(f'O resultado da soma é: {res_soma}')    \n",
    "    return res_soma\n",
    "\n",
    "calculo1 = soma(99.3,12.9)"
   ]
  },
  {
   "cell_type": "markdown",
   "metadata": {},
   "source": [
    "# Tipo Final"
   ]
  },
  {
   "cell_type": "code",
   "execution_count": 9,
   "metadata": {},
   "outputs": [],
   "source": [
    "# Tipo de dado equivalente a uma constante\n",
    "from typing import Final"
   ]
  },
  {
   "cell_type": "code",
   "execution_count": 11,
   "metadata": {},
   "outputs": [
    {
     "name": "stdout",
     "output_type": "stream",
     "text": [
      "Ronald\n"
     ]
    }
   ],
   "source": [
    "NOME: Final = 'Ronald'\n",
    "print(NOME)"
   ]
  },
  {
   "cell_type": "code",
   "execution_count": 13,
   "metadata": {},
   "outputs": [],
   "source": [
    "# Em Python não existem literalmente constantes, porém uma máscara de identificação  \n",
    "# é criada tipando esse dado, usando do MyPy é possível verificar se algum  # iterador em algum momento tentou modificar essa \"constante\", e se sim, irá  # gerar um erro apontando que algo modificou o valor padrão desse objeto.\n",
    "# Decorador \"final\"\n",
    "from typing import final\n",
    "\n",
    "class Pessoa:\n",
    "    # sem restrições;\n",
    "    def acao1(self):\n",
    "        print('Trabalhando...')\n",
    "\n",
    "# Classe inteira protegida como constante pelo decorador;\n",
    "@final\n",
    "class Pessoa:\n",
    "    def acao1(self):\n",
    "        print('Trabalhando...')\n",
    "        # Nenhuma classe que herdar essa estrutura conseguirá sobrescrever dados  \n",
    "        # Via Mypy é possível ver um erro gerado, dizendo que não se deveria   \n",
    "        # iterar sobre a classe Pessoa\n",
    "\n",
    "\n",
    "# Método de classe protegida como constante pelo decorador  \n",
    "class Pessoa:    \n",
    "    @final    \n",
    "    def acao1(self):      \n",
    "        print('Trabalhando...')\n",
    "        # No código geral o interpretador contornará esse \"problema\" e \n",
    "        # executará os blocos das classes, porém é possível verificar  \n",
    "        # via MyPy que internamente são geradas pequenas exceções.\n",
    "        "
   ]
  },
  {
   "cell_type": "markdown",
   "metadata": {},
   "source": [
    "# Typed Dict"
   ]
  },
  {
   "cell_type": "code",
   "execution_count": 16,
   "metadata": {},
   "outputs": [
    {
     "name": "stdout",
     "output_type": "stream",
     "text": [
      "{'versao': '1.0.237', 'revisao': 0.01}\n"
     ]
    }
   ],
   "source": [
    "# dicionario tipado orientado a objetos;\n",
    "from typing import TypedDict\n",
    "class Programa(TypedDict):\n",
    "    versao: str\n",
    "    revisao: float\n",
    "        \n",
    "projeto1 = Programa(versao='1.0.237', revisao=0.01)\n",
    "print(projeto1)"
   ]
  },
  {
   "cell_type": "markdown",
   "metadata": {},
   "source": [
    "# Protocol \n",
    "##### Define objetos / atributos de classe tipados, onde uma tipagem é  definida e a partir daí todas classes filhas terão de \"seguir o protocolo\",   respeitando a tipagem para que seus dados internamente não gerem exceções.\n",
    "\n"
   ]
  },
  {
   "cell_type": "code",
   "execution_count": 20,
   "metadata": {},
   "outputs": [
    {
     "name": "stdout",
     "output_type": "stream",
     "text": [
      "Usuario identificado como: Ronald\n"
     ]
    }
   ],
   "source": [
    "from typing import Protocol\n",
    "\n",
    "class Pessoa(Protocol):\n",
    "    nome: str\n",
    "    # Define que obrigatoriamente classes herdeiras terão de ter um nome    \n",
    "    # do tipo string para que se comportem de acordo com a \"classe molde\"\n",
    "        \n",
    "    def identificacao(primeiro_nome: Pessoa) -> str:\n",
    "        # Função identificacao( ) recebe como parâmetro um primeiro_nome    \n",
    "        # que tem sua estrutura moldada e regrada por Pessoa(Protocol)\n",
    "        print(f'Usuario identificado como: {primeiro_nome.nome}')\n",
    "\n",
    "    \n",
    "class Pessoa1(Pessoa): # classe herdeira\n",
    "    nome='Ronald' # objeto obrigatorio segundo o protocolo;\n",
    "    \n",
    "pessoa1 = Pessoa1()\n",
    "identificacao(pessoa1)\n",
    "    "
   ]
  },
  {
   "cell_type": "code",
   "execution_count": null,
   "metadata": {},
   "outputs": [],
   "source": []
  }
 ],
 "metadata": {
  "kernelspec": {
   "display_name": "Python 3",
   "language": "python",
   "name": "python3"
  },
  "language_info": {
   "codemirror_mode": {
    "name": "ipython",
    "version": 3
   },
   "file_extension": ".py",
   "mimetype": "text/x-python",
   "name": "python",
   "nbconvert_exporter": "python",
   "pygments_lexer": "ipython3",
   "version": "3.8.3"
  }
 },
 "nbformat": 4,
 "nbformat_minor": 4
}
