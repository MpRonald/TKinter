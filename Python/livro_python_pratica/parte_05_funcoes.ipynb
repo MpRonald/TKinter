{
 "cells": [
  {
   "cell_type": "markdown",
   "metadata": {},
   "source": [
    "# Funções"
   ]
  },
  {
   "cell_type": "code",
   "execution_count": 1,
   "metadata": {},
   "outputs": [],
   "source": [
    "# sintaxe básica;\n",
    "def nome_da_funcao(parametros):\n",
    "    \"Corpo da Função\""
   ]
  },
  {
   "cell_type": "code",
   "execution_count": 2,
   "metadata": {},
   "outputs": [
    {
     "name": "stdout",
     "output_type": "stream",
     "text": [
      "Seja Bem Vindo!\n"
     ]
    }
   ],
   "source": [
    "# definindo uma função;\n",
    "# função sem retorno;\n",
    "def exibe_mensagem():\n",
    "    print(\"Seja Bem Vindo!\")\n",
    "exibe_mensagem()"
   ]
  },
  {
   "cell_type": "code",
   "execution_count": 3,
   "metadata": {},
   "outputs": [
    {
     "name": "stdout",
     "output_type": "stream",
     "text": [
      "Seja Bem Vindo!\n"
     ]
    },
    {
     "data": {
      "text/plain": [
       "'Seja Bem Vindo!'"
      ]
     },
     "execution_count": 3,
     "metadata": {},
     "output_type": "execute_result"
    }
   ],
   "source": [
    "# função com retorno;\n",
    "def exibe_mensagem():\n",
    "    return \"Seja Bem Vindo!\"\n",
    "\n",
    "print(exibe_mensagem()) # imprimindo a função;\n",
    "exibe_mensagem() # realizando a chamada da função;"
   ]
  },
  {
   "cell_type": "code",
   "execution_count": 4,
   "metadata": {},
   "outputs": [
    {
     "name": "stdout",
     "output_type": "stream",
     "text": [
      "Seja Bem Vindo!\n",
      "None\n"
     ]
    }
   ],
   "source": [
    "# Instanciando uma função;\n",
    "def mensagem():\n",
    "    print(\"Seja Bem Vindo!\")\n",
    "\n",
    "mensagem1 = mensagem()\n",
    "print(mensagem1)"
   ]
  },
  {
   "cell_type": "code",
   "execution_count": 5,
   "metadata": {},
   "outputs": [
    {
     "name": "stdout",
     "output_type": "stream",
     "text": [
      "Digite seu Nome: ronald\n",
      "Bem Vindo ronald\n",
      "None\n"
     ]
    }
   ],
   "source": [
    "# função com interação com usuário;\n",
    "usuario = input('Digite seu Nome: ')\n",
    "\n",
    "def mensagem(nome):\n",
    "    print(f'Bem Vindo {nome}')\n",
    "    \n",
    "print(mensagem(usuario))"
   ]
  },
  {
   "cell_type": "code",
   "execution_count": 6,
   "metadata": {},
   "outputs": [
    {
     "name": "stdout",
     "output_type": "stream",
     "text": [
      "Bem Vindo\n"
     ]
    }
   ],
   "source": [
    "# Parametrizando uma função;\n",
    "def funcao(msg):\n",
    "    print(msg)\n",
    "\n",
    "funcao('Bem Vindo')\n",
    "# A string será repassada para a função, substituindo o campo do parâmetro  \n",
    "# msg por este dado/valor."
   ]
  },
  {
   "cell_type": "code",
   "execution_count": 7,
   "metadata": {},
   "outputs": [
    {
     "name": "stdout",
     "output_type": "stream",
     "text": [
      "Bem Vindo Ronald!!\n",
      "<function mensagem at 0x00000195C83D8940>\n"
     ]
    }
   ],
   "source": [
    "# Instanciando e parametrizandfo uma função;\n",
    "def mensagem(nome):\n",
    "    print(f'Bem Vindo {nome}!!')\n",
    "    \n",
    "usuario = mensagem('Ronald')\n",
    "print(mensagem)"
   ]
  },
  {
   "cell_type": "code",
   "execution_count": 8,
   "metadata": {},
   "outputs": [
    {
     "data": {
      "text/plain": [
       "'Seu nome é Ronald e você tem 35 anos de idade!'"
      ]
     },
     "execution_count": 8,
     "metadata": {},
     "output_type": "execute_result"
    }
   ],
   "source": [
    "# Passando mais de um parametro para a função\n",
    "def pessoa(nome, idade):\n",
    "    return f\"Seu nome é {nome} e você tem {idade} anos de idade!\"\n",
    "pessoa('Ronald', 35)"
   ]
  },
  {
   "cell_type": "code",
   "execution_count": 9,
   "metadata": {},
   "outputs": [
    {
     "name": "stdout",
     "output_type": "stream",
     "text": [
      "Olá Usuário\n"
     ]
    }
   ],
   "source": [
    "# Definindo parametros inicializados(padronizado);\n",
    "def funcao(msg, nome='Usuário'):\n",
    "    print(msg, nome)\n",
    "    \n",
    "funcao('Olá')"
   ]
  },
  {
   "cell_type": "code",
   "execution_count": 10,
   "metadata": {},
   "outputs": [
    {
     "name": "stdout",
     "output_type": "stream",
     "text": [
      "Olá Ronald Seja bem Vindo\n"
     ]
    }
   ],
   "source": [
    "# Atribuindo valor a parametro já inicializado;\n",
    "def funcao(msg='Olá', nome='Usuário', msg_2='Seja bem Vindo'):\n",
    "    print(msg, nome, msg_2)\n",
    "\n",
    "funcao(nome='Ronald') # aqui substituimos o parametro nome ja inicializado por outro atributo;"
   ]
  },
  {
   "cell_type": "code",
   "execution_count": 12,
   "metadata": {},
   "outputs": [
    {
     "name": "stdout",
     "output_type": "stream",
     "text": [
      "Digite seu nomeronald\n",
      "Olá ronald\n"
     ]
    }
   ],
   "source": [
    "# Passando parametros e interagindo com usuario;\n",
    "def funcao(msg='Olá', nome = input('Digite seu nome')):\n",
    "    return f\"{msg} {nome}\"\n",
    "\n",
    "print(funcao())"
   ]
  },
  {
   "cell_type": "code",
   "execution_count": 29,
   "metadata": {},
   "outputs": [
    {
     "name": "stdout",
     "output_type": "stream",
     "text": [
      "Digite um numero: 12\n",
      "Digite outro numero: 25\n",
      "O resultado da soma é: 37\n"
     ]
    }
   ],
   "source": [
    "# realizando operações com funções;\n",
    "# FORMA 01;\n",
    "def soma(num1 = int(input('Digite um numero: ')), num2 = int(input('Digite outro numero: '))):\n",
    "    return f\"O resultado da soma é: {num1 + num2}\"\n",
    "print(soma())"
   ]
  },
  {
   "cell_type": "code",
   "execution_count": 30,
   "metadata": {},
   "outputs": [
    {
     "name": "stdout",
     "output_type": "stream",
     "text": [
      "Digite um numero: 43\n",
      "Digite outro numero: 27\n",
      "O resultado da soma é: 70\n"
     ]
    }
   ],
   "source": [
    "# realizando operações com funções;\n",
    "# FORMA 02;\n",
    "def soma(num1, num2):\n",
    "    return f\"O resultado da soma é: {num1 + num2}\"\n",
    "\n",
    "num1 = int(input('Digite um numero: '))\n",
    "num2 = int(input('Digite outro numero: '))\n",
    "print(soma(num1, num2))"
   ]
  },
  {
   "cell_type": "code",
   "execution_count": 19,
   "metadata": {},
   "outputs": [
    {
     "name": "stdout",
     "output_type": "stream",
     "text": [
      "Digite o valor: 12.9\n",
      "Digite o % de aumento: 63.98\n",
      "12.9 teve 63.98% de aumento, agora é: 21.15342\n"
     ]
    }
   ],
   "source": [
    "# funções compostas;\n",
    "def calculo(valor=float(input('Digite o valor: ')), percentual=float(input('Digite o % de aumento: '))):\n",
    "    return f\"{valor} teve {percentual}% de aumento, agora é: {valor + (valor * percentual / 100)}\"\n",
    "print(calculo())"
   ]
  },
  {
   "cell_type": "code",
   "execution_count": 24,
   "metadata": {},
   "outputs": [
    {
     "name": "stdout",
     "output_type": "stream",
     "text": [
      "Digite para repetir 5 vezes: chinforinpula\n",
      "chinforinpula\n",
      "chinforinpula\n",
      "chinforinpula\n",
      "chinforinpula\n",
      "chinforinpula\n",
      "None\n"
     ]
    }
   ],
   "source": [
    "# estruturas condicionais dentro de funções; EXEMPLO 01\n",
    "def repetidor(msg):\n",
    "    contador = 0\n",
    "    while contador < 5:\n",
    "        print(msg)\n",
    "        contador += 1\n",
    "print(repetidor(msg=input(\"Digite para repetir 5 vezes: \")))"
   ]
  },
  {
   "cell_type": "code",
   "execution_count": 37,
   "metadata": {},
   "outputs": [
    {
     "name": "stdout",
     "output_type": "stream",
     "text": [
      "Digite o Primeiro Número:10\n",
      "Digite o Segundo Número:2\n",
      "O resultado da divisão é: 5.0\n"
     ]
    }
   ],
   "source": [
    "# estruturas condicionais dentro de funções; EXEMPLO 02\n",
    "def divisao(n1, n2):    \n",
    "    if n1 == 0 or n2 == 0:      \n",
    "        return 'Operação Inválida'    \n",
    "    return n1 / n2  \n",
    "num1 = int(input('Digite o Primeiro Número:'))  \n",
    "num2 = int(input('Digite o Segundo Número:'))  \n",
    "print(f'O resultado da divisão é: {divisao(num1, num2)}')"
   ]
  },
  {
   "cell_type": "markdown",
   "metadata": {},
   "source": [
    "# Funções com Argmentos externos (*args)"
   ]
  },
  {
   "cell_type": "code",
   "execution_count": 38,
   "metadata": {},
   "outputs": [
    {
     "name": "stdout",
     "output_type": "stream",
     "text": [
      "(1, 2, 3, 'Ronald', 13.49, True)\n",
      "None\n"
     ]
    }
   ],
   "source": [
    "def funcao(*args):\n",
    "    for v in args:\n",
    "        print(v)\n",
    "\n",
    "argumentos = (1, 2, 3, 'Ronald', 13.49, True)\n",
    "print(funcao(argumentos))"
   ]
  },
  {
   "cell_type": "code",
   "execution_count": 39,
   "metadata": {},
   "outputs": [
    {
     "name": "stdout",
     "output_type": "stream",
     "text": [
      "Informações necessárias: \n",
      "('nome', 'idade', 'sexo', 'nacionalidade')\n"
     ]
    }
   ],
   "source": [
    "# desempacotando uma lista;\n",
    "lista = ['nome', 'idade', 'sexo', 'nacionalidade']\n",
    "\n",
    "def funcao(*args):\n",
    "    print(\"Informações necessárias: \")\n",
    "    print(args)\n",
    "\n",
    "funcao(*lista)"
   ]
  },
  {
   "cell_type": "markdown",
   "metadata": {},
   "source": [
    "# Função com parâmetros baseados em *args e **kwargs\n",
    "\n"
   ]
  },
  {
   "cell_type": "code",
   "execution_count": 41,
   "metadata": {},
   "outputs": [
    {
     "name": "stdout",
     "output_type": "stream",
     "text": [
      "([123456, 321654, 987654],)\n",
      "{'usuario': 'user', 'administrador': 'admin'}\n",
      "None\n"
     ]
    }
   ],
   "source": [
    "def funcao(*args, **kwargs):\n",
    "    print(args)\n",
    "    print(kwargs)\n",
    "    \n",
    "senha_padrao = [123456, 321654, 987654]\n",
    "resultado = funcao(senha_padrao, usuario='user', administrador='admin')\n",
    "print(resultado)\n",
    "# senhas_padrao substituirá *args e o parametro nomeado aqui usuario substituirá **kwargs"
   ]
  },
  {
   "cell_type": "code",
   "execution_count": 46,
   "metadata": {},
   "outputs": [
    {
     "name": "stdout",
     "output_type": "stream",
     "text": [
      "O usuário padrão é: user\n",
      "O administrador é:admin\n",
      "A senha padrão é: 12345\n",
      "A senha alternativa é: 11111\n"
     ]
    }
   ],
   "source": [
    "# Buscando dados do modelo anterior;\n",
    "def funcao(*args, **kwargs):\n",
    "    nome = kwargs['usuario']\n",
    "    nome2 = kwargs['administrador']\n",
    "    senha1 = args[0]\n",
    "    senha2 = args[1]\n",
    "    print(f'O usuário padrão é: {nome}')    \n",
    "    print(f'O administrador é:{nome2}')    \n",
    "    print(f'A senha padrão é: {senha1}')    \n",
    "    print(f'A senha alternativa é: {senha2}')  \n",
    "senhas_padrao = [12345, 11111]  \n",
    "funcao(*senhas_padrao, usuario='user', administrador='admin')\n",
    "\n"
   ]
  },
  {
   "cell_type": "markdown",
   "metadata": {},
   "source": [
    "# Função que recebe outra função como parâmetro\n",
    "\n"
   ]
  },
  {
   "cell_type": "code",
   "execution_count": 47,
   "metadata": {},
   "outputs": [
    {
     "name": "stdout",
     "output_type": "stream",
     "text": [
      "Seja Bem Vindo!\n"
     ]
    }
   ],
   "source": [
    "def msg_boas_vindas():\n",
    "    return 'Seja Bem Vindo!'\n",
    "\n",
    "def mestre(funcao):\n",
    "    return funcao()\n",
    "\n",
    "executa = mestre(msg_boas_vindas)\n",
    "print(executa)"
   ]
  },
  {
   "cell_type": "markdown",
   "metadata": {},
   "source": [
    "# Função que recebe um tipo de dado como parâmetro, e retorna outro tipo de dado pré-definido\n",
    "\n"
   ]
  },
  {
   "cell_type": "code",
   "execution_count": 51,
   "metadata": {},
   "outputs": [
    {
     "name": "stdout",
     "output_type": "stream",
     "text": [
      "Digite o valor: 143\n",
      "R$ 143\n",
      "<class 'str'>\n"
     ]
    }
   ],
   "source": [
    "def funcao(valor: int) -> str: # recebe int, retorna str;\n",
    "    return f'R$ {valor}'\n",
    "\n",
    "var1 = input('Digite o valor: ')\n",
    "var2 = funcao(var1)\n",
    "\n",
    "print(var2)\n",
    "print(type(var2))"
   ]
  },
  {
   "cell_type": "markdown",
   "metadata": {},
   "source": [
    "# Escopo Global Vs Escopo Local\n",
    "\n"
   ]
  },
  {
   "cell_type": "code",
   "execution_count": 52,
   "metadata": {},
   "outputs": [
    {
     "name": "stdout",
     "output_type": "stream",
     "text": [
      "Print da variavel global: ronald\n",
      "Print da varivel local: Toddy\n"
     ]
    }
   ],
   "source": [
    "variavel1 = 'ronald'\n",
    "\n",
    "def funcao1():\n",
    "    print(f\"Print da variavel global: {variavel1}\")\n",
    "funcao1()\n",
    "\n",
    "def funcao2():\n",
    "    variavel2 = 'Toddy'\n",
    "    print(f\"Print da varivel local: {variavel2}\")\n",
    "funcao2()"
   ]
  },
  {
   "cell_type": "markdown",
   "metadata": {},
   "source": [
    "# Modificando uma variável global de dentro de uma função\n",
    "\n"
   ]
  },
  {
   "cell_type": "code",
   "execution_count": 54,
   "metadata": {},
   "outputs": [
    {
     "name": "stdout",
     "output_type": "stream",
     "text": [
      "Variavel com seu valor inicial: 100\n",
      "Variavel com seu valor modificado dentro da função: 200\n",
      "Variavel com seu valor modificado impressa fora da função: 200\n"
     ]
    }
   ],
   "source": [
    "num1 = 100\n",
    "print(f'Variavel com seu valor inicial: {num1}')\n",
    "\n",
    "def modificador():\n",
    "    global num1\n",
    "    num1 = 200\n",
    "    print(f'Variavel com seu valor modificado dentro da função: {num1}')\n",
    "modificador()\n",
    "\n",
    "print(f'Variavel com seu valor modificado impressa fora da função: {num1}')"
   ]
  },
  {
   "cell_type": "code",
   "execution_count": null,
   "metadata": {},
   "outputs": [],
   "source": []
  },
  {
   "cell_type": "code",
   "execution_count": null,
   "metadata": {},
   "outputs": [],
   "source": []
  },
  {
   "cell_type": "code",
   "execution_count": null,
   "metadata": {},
   "outputs": [],
   "source": []
  },
  {
   "cell_type": "code",
   "execution_count": null,
   "metadata": {},
   "outputs": [],
   "source": []
  },
  {
   "cell_type": "code",
   "execution_count": null,
   "metadata": {},
   "outputs": [],
   "source": []
  },
  {
   "cell_type": "code",
   "execution_count": null,
   "metadata": {},
   "outputs": [],
   "source": []
  },
  {
   "cell_type": "code",
   "execution_count": null,
   "metadata": {},
   "outputs": [],
   "source": []
  },
  {
   "cell_type": "code",
   "execution_count": null,
   "metadata": {},
   "outputs": [],
   "source": []
  },
  {
   "cell_type": "code",
   "execution_count": null,
   "metadata": {},
   "outputs": [],
   "source": []
  },
  {
   "cell_type": "code",
   "execution_count": null,
   "metadata": {},
   "outputs": [],
   "source": []
  },
  {
   "cell_type": "code",
   "execution_count": null,
   "metadata": {},
   "outputs": [],
   "source": []
  }
 ],
 "metadata": {
  "kernelspec": {
   "display_name": "Python 3",
   "language": "python",
   "name": "python3"
  }
 },
 "nbformat": 4,
 "nbformat_minor": 4
}
