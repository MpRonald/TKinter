{
 "cells": [
  {
   "cell_type": "markdown",
   "metadata": {},
   "source": [
    "# Strings (avançado)\n",
    "##### Máscara de substituição tem a mesma notação de um dicionário  em função disso, ao trabalhar com dicionários em máscaras de  substituição não é preciso fazer nada além de puramente iterar  sobre os dados.\n",
    "\n"
   ]
  },
  {
   "cell_type": "code",
   "execution_count": 1,
   "metadata": {},
   "outputs": [],
   "source": [
    "pessoa1 = {\n",
    "    'Nome': 'Ronald',\n",
    "    'Linguagem': 'Python'\n",
    "}"
   ]
  },
  {
   "cell_type": "code",
   "execution_count": 4,
   "metadata": {},
   "outputs": [
    {
     "name": "stdout",
     "output_type": "stream",
     "text": [
      "Ronald estuda Python\n"
     ]
    }
   ],
   "source": [
    "print(f\"{pessoa1['Nome']} estuda {pessoa1['Linguagem']}\")"
   ]
  },
  {
   "cell_type": "code",
   "execution_count": 5,
   "metadata": {},
   "outputs": [
    {
     "name": "stdout",
     "output_type": "stream",
     "text": [
      "Seno: 0.8084964038195901\n",
      "Coseno: -0.5885011172553458\n"
     ]
    }
   ],
   "source": [
    "# operações matemáticas diretamente na mascara de substituição;\n",
    "import math\n",
    "\n",
    "num = 2.2\n",
    "print(f\"Seno: {math.sin(num)}\")\n",
    "print(f\"Coseno: {math.cos(num)}\")"
   ]
  },
  {
   "cell_type": "code",
   "execution_count": 7,
   "metadata": {},
   "outputs": [
    {
     "name": "stdout",
     "output_type": "stream",
     "text": [
      "Nome: Ronald\n",
      "Idade: 35\n",
      "Sexo: M\n"
     ]
    }
   ],
   "source": [
    "# Saída de múltiplas linhas via print( ) + f’strings\n",
    "nome = 'Ronald'\n",
    "idade = 35\n",
    "sexo = 'M'\n",
    "\n",
    "msg1 = (f'Nome: {nome}\\nIdade: {idade}\\nSexo: {sexo}')\n",
    "print(msg1)"
   ]
  },
  {
   "cell_type": "code",
   "execution_count": 8,
   "metadata": {},
   "outputs": [
    {
     "name": "stdout",
     "output_type": "stream",
     "text": [
      "O resultado da soma é: 92\n"
     ]
    }
   ],
   "source": [
    "# f'String chamando função do corpo do código\n",
    "def soma(n1, n2):\n",
    "    return n1 + n2\n",
    "\n",
    "n1 = 15\n",
    "n2 = 77\n",
    "\n",
    "print(f\"O resultado da soma é: {soma(n1, n2)}\")\n"
   ]
  },
  {
   "cell_type": "code",
   "execution_count": 9,
   "metadata": {},
   "outputs": [
    {
     "name": "stdout",
     "output_type": "stream",
     "text": [
      "Ronald é um Estudante de ADS\n"
     ]
    }
   ],
   "source": [
    "# f'String como retorno de um método mágico\n",
    "\n",
    "class Pessoa:\n",
    "    def __init__(self, nome, profissao):\n",
    "        self.nome = nome\n",
    "        self.profissao = profissao\n",
    "    \n",
    "    def __repr__(self):\n",
    "        return f'{self.nome} é um {self.profissao}'\n",
    "    \n",
    "pessoa = Pessoa('Ronald', 'Estudante de ADS')\n",
    "print(f'{pessoa}')\n"
   ]
  },
  {
   "cell_type": "code",
   "execution_count": null,
   "metadata": {},
   "outputs": [],
   "source": []
  }
 ],
 "metadata": {
  "kernelspec": {
   "display_name": "Python 3",
   "language": "python",
   "name": "python3"
  },
  "language_info": {
   "codemirror_mode": {
    "name": "ipython",
    "version": 3
   },
   "file_extension": ".py",
   "mimetype": "text/x-python",
   "name": "python",
   "nbconvert_exporter": "python",
   "pygments_lexer": "ipython3",
   "version": "3.8.3"
  }
 },
 "nbformat": 4,
 "nbformat_minor": 4
}
