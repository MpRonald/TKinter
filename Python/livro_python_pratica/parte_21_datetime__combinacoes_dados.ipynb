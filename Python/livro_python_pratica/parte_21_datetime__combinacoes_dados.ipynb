{
 "cells": [
  {
   "cell_type": "markdown",
   "metadata": {},
   "source": [
    "# Módulos Nativos Python"
   ]
  },
  {
   "cell_type": "markdown",
   "metadata": {},
   "source": [
    "### DateTime"
   ]
  },
  {
   "cell_type": "code",
   "execution_count": 1,
   "metadata": {},
   "outputs": [],
   "source": [
    "from datetime import datetime, date, time"
   ]
  },
  {
   "cell_type": "code",
   "execution_count": 2,
   "metadata": {},
   "outputs": [],
   "source": [
    "data = datetime(2020,6,12,15,24,59)\n",
    "# Por justaposição, os parâmetros estarão como:  \n",
    "# ano, mês, dia, hora, minuto, segundo"
   ]
  },
  {
   "cell_type": "code",
   "execution_count": 3,
   "metadata": {},
   "outputs": [
    {
     "name": "stdout",
     "output_type": "stream",
     "text": [
      "2020-06-12\n"
     ]
    }
   ],
   "source": [
    "print(data.date())"
   ]
  },
  {
   "cell_type": "code",
   "execution_count": 5,
   "metadata": {},
   "outputs": [
    {
     "name": "stdout",
     "output_type": "stream",
     "text": [
      "15:24:59\n"
     ]
    }
   ],
   "source": [
    "print(data.time())"
   ]
  },
  {
   "cell_type": "code",
   "execution_count": 6,
   "metadata": {},
   "outputs": [
    {
     "name": "stdout",
     "output_type": "stream",
     "text": [
      "2020\n",
      "6\n",
      "12\n"
     ]
    }
   ],
   "source": [
    "print(data.year)\n",
    "print(data.month)\n",
    "print(data.day)"
   ]
  },
  {
   "cell_type": "code",
   "execution_count": 7,
   "metadata": {},
   "outputs": [
    {
     "name": "stdout",
     "output_type": "stream",
     "text": [
      "15\n",
      "24\n",
      "59\n"
     ]
    }
   ],
   "source": [
    "print(data.hour)\n",
    "print(data.minute)\n",
    "print(data.second)"
   ]
  },
  {
   "cell_type": "code",
   "execution_count": 11,
   "metadata": {},
   "outputs": [
    {
     "name": "stdout",
     "output_type": "stream",
     "text": [
      "06/12/2020 15:24\n"
     ]
    }
   ],
   "source": [
    "# Datetime com Strings\n",
    "print(data.strftime('%m/%d/%Y %H:%M'))"
   ]
  },
  {
   "cell_type": "code",
   "execution_count": 13,
   "metadata": {},
   "outputs": [
    {
     "name": "stdout",
     "output_type": "stream",
     "text": [
      "2020-01-01 00:00:00\n"
     ]
    }
   ],
   "source": [
    "# Convertendo uma string em datetime;\n",
    "data2 = datetime.strptime('20200101', '%Y%m%d')\n",
    "print(data2)"
   ]
  },
  {
   "cell_type": "code",
   "execution_count": 15,
   "metadata": {},
   "outputs": [
    {
     "name": "stdout",
     "output_type": "stream",
     "text": [
      "2020-06-12 15:24:59\n",
      "2001-06-12 15:24:59\n"
     ]
    }
   ],
   "source": [
    "# Substituindo um valor de datetime;\n",
    "data3 = datetime(2020,6,12,15,24,59)\n",
    "print(data3)\n",
    "data3 = data3.replace(year = 2001)\n",
    "print(data3)"
   ]
  },
  {
   "cell_type": "code",
   "execution_count": 16,
   "metadata": {},
   "outputs": [
    {
     "name": "stdout",
     "output_type": "stream",
     "text": [
      "163 days, 15:24:59\n"
     ]
    }
   ],
   "source": [
    "# Diferença entre dois datetimes;\n",
    "data2 = datetime.strptime('20200101', '%Y%m%d')\n",
    "data3 = datetime(2020,6,12,15,24,59)\n",
    "delta = data3 - data2\n",
    "print(delta)"
   ]
  },
  {
   "cell_type": "code",
   "execution_count": 19,
   "metadata": {},
   "outputs": [
    {
     "name": "stdout",
     "output_type": "stream",
     "text": [
      "21707 days, 0:00:00\n"
     ]
    }
   ],
   "source": [
    "nasc = datetime(1961,10,24)\n",
    "data_hoje = datetime(2021,3,30)\n",
    "dias = data_hoje - nasc\n",
    "print(dias)"
   ]
  },
  {
   "cell_type": "markdown",
   "metadata": {},
   "source": [
    "# Combinações, Permutações e Produto (Itertools)\n",
    "\n"
   ]
  },
  {
   "cell_type": "code",
   "execution_count": 22,
   "metadata": {},
   "outputs": [
    {
     "name": "stdout",
     "output_type": "stream",
     "text": [
      "('Ana', 'Bianca')\n",
      "('Ana', 'Carla')\n",
      "('Ana', 'Daniela')\n",
      "('Ana', 'Franciele')\n",
      "('Ana', 'Maria')\n",
      "('Bianca', 'Carla')\n",
      "('Bianca', 'Daniela')\n",
      "('Bianca', 'Franciele')\n",
      "('Bianca', 'Maria')\n",
      "('Carla', 'Daniela')\n",
      "('Carla', 'Franciele')\n",
      "('Carla', 'Maria')\n",
      "('Daniela', 'Franciele')\n",
      "('Daniela', 'Maria')\n",
      "('Franciele', 'Maria')\n"
     ]
    }
   ],
   "source": [
    "from itertools import combinations  \n",
    "lista10 = ['Ana', 'Bianca', 'Carla', 'Daniela', 'Franciele', 'Maria']\n",
    "for combinacoes in combinations(lista10, 2): # possiveis combinações em grupos de 2;\n",
    "    print(combinacoes)\n"
   ]
  },
  {
   "cell_type": "code",
   "execution_count": 23,
   "metadata": {},
   "outputs": [
    {
     "name": "stdout",
     "output_type": "stream",
     "text": [
      "[(1, 2), (1, 3), (1, 4), (2, 3), (2, 4), (3, 4)]\n"
     ]
    }
   ],
   "source": [
    "from itertools import combinations\n",
    "combina = combinations([1,2,3,4], 2)\n",
    "# combinação entre os elementos seprados em grupos de 2 elementos;\n",
    "print(list(combina))"
   ]
  },
  {
   "cell_type": "code",
   "execution_count": 24,
   "metadata": {},
   "outputs": [
    {
     "name": "stdout",
     "output_type": "stream",
     "text": [
      "('Ana', 'Bianca')\n",
      "('Ana', 'Carla')\n",
      "('Ana', 'Daniela')\n",
      "('Ana', 'Franciele')\n",
      "('Ana', 'Maria')\n",
      "('Bianca', 'Ana')\n",
      "('Bianca', 'Carla')\n",
      "('Bianca', 'Daniela')\n",
      "('Bianca', 'Franciele')\n",
      "('Bianca', 'Maria')\n",
      "('Carla', 'Ana')\n",
      "('Carla', 'Bianca')\n",
      "('Carla', 'Daniela')\n",
      "('Carla', 'Franciele')\n",
      "('Carla', 'Maria')\n",
      "('Daniela', 'Ana')\n",
      "('Daniela', 'Bianca')\n",
      "('Daniela', 'Carla')\n",
      "('Daniela', 'Franciele')\n",
      "('Daniela', 'Maria')\n",
      "('Franciele', 'Ana')\n",
      "('Franciele', 'Bianca')\n",
      "('Franciele', 'Carla')\n",
      "('Franciele', 'Daniela')\n",
      "('Franciele', 'Maria')\n",
      "('Maria', 'Ana')\n",
      "('Maria', 'Bianca')\n",
      "('Maria', 'Carla')\n",
      "('Maria', 'Daniela')\n",
      "('Maria', 'Franciele')\n"
     ]
    }
   ],
   "source": [
    "# Permutações;\n",
    "from itertools import permutations\n",
    "lista10 = ['Ana', 'Bianca', 'Carla', 'Daniela', 'Franciele', 'Maria']\n",
    "for combinacoes in permutations(lista10, 2):\n",
    "    print(combinacoes)\n",
    "    \n",
    "# Neste caso, as combinações podem se repetir, alterando a ordem dos elementos\n",
    "# diferente do combinations;\n",
    "\n"
   ]
  },
  {
   "cell_type": "code",
   "execution_count": 25,
   "metadata": {},
   "outputs": [
    {
     "name": "stdout",
     "output_type": "stream",
     "text": [
      "[(1, 2, 3), (1, 3, 2), (2, 1, 3), (2, 3, 1), (3, 1, 2), (3, 2, 1)]\n"
     ]
    }
   ],
   "source": [
    "from itertools import permutations\n",
    "permuta = permutations([1,2,3])\n",
    "print(list(permuta))"
   ]
  },
  {
   "cell_type": "code",
   "execution_count": 27,
   "metadata": {},
   "outputs": [
    {
     "name": "stdout",
     "output_type": "stream",
     "text": [
      "('Ana', 'Ana')\n",
      "('Ana', 'Bianca')\n",
      "('Ana', 'Carla')\n",
      "('Ana', 'Daniela')\n",
      "('Ana', 'Franciele')\n",
      "('Ana', 'Maria')\n",
      "('Bianca', 'Ana')\n",
      "('Bianca', 'Bianca')\n",
      "('Bianca', 'Carla')\n",
      "('Bianca', 'Daniela')\n",
      "('Bianca', 'Franciele')\n",
      "('Bianca', 'Maria')\n",
      "('Carla', 'Ana')\n",
      "('Carla', 'Bianca')\n",
      "('Carla', 'Carla')\n",
      "('Carla', 'Daniela')\n",
      "('Carla', 'Franciele')\n",
      "('Carla', 'Maria')\n",
      "('Daniela', 'Ana')\n",
      "('Daniela', 'Bianca')\n",
      "('Daniela', 'Carla')\n",
      "('Daniela', 'Daniela')\n",
      "('Daniela', 'Franciele')\n",
      "('Daniela', 'Maria')\n",
      "('Franciele', 'Ana')\n",
      "('Franciele', 'Bianca')\n",
      "('Franciele', 'Carla')\n",
      "('Franciele', 'Daniela')\n",
      "('Franciele', 'Franciele')\n",
      "('Franciele', 'Maria')\n",
      "('Maria', 'Ana')\n",
      "('Maria', 'Bianca')\n",
      "('Maria', 'Carla')\n",
      "('Maria', 'Daniela')\n",
      "('Maria', 'Franciele')\n",
      "('Maria', 'Maria')\n"
     ]
    }
   ],
   "source": [
    "# Product;\n",
    "from itertools import product\n",
    "lista10 = ['Ana', 'Bianca', 'Carla', 'Daniela', 'Franciele', 'Maria']\n",
    "for combinacoes in product(lista10, repeat = 2):\n",
    "    print(combinacoes)\n",
    "    \n",
    "# Parecido com Permutations, mas aqui é permitido que um elemento se combine  \n",
    "# com ele mesmo.    "
   ]
  },
  {
   "cell_type": "code",
   "execution_count": 28,
   "metadata": {},
   "outputs": [
    {
     "name": "stdout",
     "output_type": "stream",
     "text": [
      "[(1, 3), (1, 4), (2, 3), (2, 4)]\n"
     ]
    }
   ],
   "source": [
    "from itertools import product\n",
    "produto = product([1,2], [3,4])\n",
    "print(list(produto))\n",
    "# Irá retornar uma lista onde cada elemento de cada lista é combinado  \n",
    "# por cada elemento da outra. Ex: 1 e 3, 1 e 4, 2 e 3, 2 e 4."
   ]
  },
  {
   "cell_type": "code",
   "execution_count": 29,
   "metadata": {},
   "outputs": [
    {
     "name": "stdout",
     "output_type": "stream",
     "text": [
      "[(1, 1), (1, 2), (1, 3), (1, 4), (2, 2), (2, 3), (2, 4), (3, 3), (3, 4), (4, 4)]\n"
     ]
    }
   ],
   "source": [
    "# Combinatios with replacement\n",
    "# Forma alternativa de combinations, permitindo a repetição de elementos\n",
    "from itertools import combinations_with_replacement\n",
    "combina = combinations_with_replacement([1,2,3,4], 2)\n",
    "print(list(combina))"
   ]
  },
  {
   "cell_type": "code",
   "execution_count": 32,
   "metadata": {},
   "outputs": [
    {
     "name": "stdout",
     "output_type": "stream",
     "text": [
      "[1, 3, 6, 10]\n"
     ]
    }
   ],
   "source": [
    "# Acumulate;\n",
    "# Como acumulação entenda-se a soma dos elementos subsequentes\n",
    "from itertools import accumulate\n",
    "acumula = accumulate([1,2,3,4])\n",
    "print(list(acumula))\n",
    "\n",
    "# Retornará o equivalente a (1) no índice 0, (1 + 2) no índice 1, (1 + 2 + 3)  \n",
    "# no índice 2 e (1 + 2 + 3 + 4) no índice 3 da lista retornada."
   ]
  },
  {
   "cell_type": "code",
   "execution_count": 34,
   "metadata": {},
   "outputs": [
    {
     "name": "stdout",
     "output_type": "stream",
     "text": [
      "[1, 2, 6, 24]\n"
     ]
    }
   ],
   "source": [
    "# accumulate interagindo com operador aritmético;\n",
    "from itertools import accumulate\n",
    "import operator\n",
    "acumula2 = accumulate([1,2,3,4], func=operator.mul)\n",
    "print(list(acumula2))\n",
    "# Irá retornar o equivalente a (1 * 1) para o índice 0, (1 * 2) no índice 1,  \n",
    "# (1 * 2 * 3) no índice 2 e finalmente o equivalente a (1 * 2 * 3 * 4) para o  \n",
    "# índice 3 da lista retornada."
   ]
  },
  {
   "cell_type": "code",
   "execution_count": 37,
   "metadata": {},
   "outputs": [
    {
     "name": "stdout",
     "output_type": "stream",
     "text": [
      "(None, <itertools._grouper object at 0x000001DDEAD66BE0>)\n",
      "(2, <itertools._grouper object at 0x000001DDEAD66F40>)\n",
      "(None, <itertools._grouper object at 0x000001DDEAD66EB0>)\n",
      "(4, <itertools._grouper object at 0x000001DDEAD66DF0>)\n",
      "(None, <itertools._grouper object at 0x000001DDEAD66490>)\n",
      "(6, <itertools._grouper object at 0x000001DDEAD668E0>)\n",
      "(None, <itertools._grouper object at 0x000001DDEAD66220>)\n",
      "(8, <itertools._grouper object at 0x000001DDEAD7E070>)\n",
      "(None, <itertools._grouper object at 0x000001DDEAD7E130>)\n",
      "(10, <itertools._grouper object at 0x000001DDEAD7E1F0>)\n"
     ]
    }
   ],
   "source": [
    "# GroupBy\n",
    "from itertools import groupby\n",
    "def par(n):\n",
    "    if n % 2 == 0:\n",
    "        return n\n",
    "    \n",
    "grupo = groupby([1,2,3,4,5,6,7,8,9,10], key=par)\n",
    "for num in grupo:\n",
    "    print(num)"
   ]
  },
  {
   "cell_type": "code",
   "execution_count": 45,
   "metadata": {},
   "outputs": [
    {
     "name": "stdout",
     "output_type": "stream",
     "text": [
      "(None, <itertools._grouper object at 0x000001DDEAD7E910>)\n",
      "(2, <itertools._grouper object at 0x000001DDEAD7E5E0>)\n",
      "(None, <itertools._grouper object at 0x000001DDEAD7E3D0>)\n",
      "(4, <itertools._grouper object at 0x000001DDEAD7E460>)\n",
      "(None, <itertools._grouper object at 0x000001DDEAD7E820>)\n",
      "(6, <itertools._grouper object at 0x000001DDEAD7E550>)\n",
      "(None, <itertools._grouper object at 0x000001DDEAD66D00>)\n",
      "(8, <itertools._grouper object at 0x000001DDEAD665B0>)\n",
      "(None, <itertools._grouper object at 0x000001DDEAD66130>)\n",
      "(10, <itertools._grouper object at 0x000001DDEAD66FD0>)\n"
     ]
    }
   ],
   "source": [
    "# GroupBy(refatorando com a função lambda)\n",
    "from itertools import groupby\n",
    "lambda n: n % 2 == 0 \n",
    "grupo = groupby([1,2,3,4,5,6,7,8,9,10], key=par)\n",
    "for num in grupo:\n",
    "    print(num)"
   ]
  },
  {
   "cell_type": "code",
   "execution_count": 49,
   "metadata": {},
   "outputs": [
    {
     "name": "stdout",
     "output_type": "stream",
     "text": [
      "Python\n",
      "Python\n",
      "Python\n",
      "Python\n",
      "Python\n",
      "Python\n",
      "Python\n",
      "Python\n"
     ]
    }
   ],
   "source": [
    "# Repeat\n",
    "from itertools import count, cycle, repeat\n",
    "var1 = 'Python'\n",
    "for i in repeat(var1, 8):\n",
    "    print(i)"
   ]
  },
  {
   "cell_type": "code",
   "execution_count": null,
   "metadata": {},
   "outputs": [],
   "source": []
  },
  {
   "cell_type": "code",
   "execution_count": null,
   "metadata": {},
   "outputs": [],
   "source": []
  }
 ],
 "metadata": {
  "kernelspec": {
   "display_name": "Python 3",
   "language": "python",
   "name": "python3"
  },
  "language_info": {
   "codemirror_mode": {
    "name": "ipython",
    "version": 3
   },
   "file_extension": ".py",
   "mimetype": "text/x-python",
   "name": "python",
   "nbconvert_exporter": "python",
   "pygments_lexer": "ipython3",
   "version": "3.8.3"
  }
 },
 "nbformat": 4,
 "nbformat_minor": 4
}
