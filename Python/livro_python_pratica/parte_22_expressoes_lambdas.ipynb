{
 "cells": [
  {
   "cell_type": "markdown",
   "metadata": {},
   "source": [
    "# Expressões lambda"
   ]
  },
  {
   "cell_type": "code",
   "execution_count": 1,
   "metadata": {},
   "outputs": [
    {
     "data": {
      "text/plain": [
       "<function __main__.<lambda>(x)>"
      ]
     },
     "execution_count": 1,
     "metadata": {},
     "output_type": "execute_result"
    }
   ],
   "source": [
    "# função usada normalmente;\n",
    "def mensagem(x):\n",
    "    return x\n",
    "\n",
    "# função lambda;\n",
    "lambda x: x"
   ]
  },
  {
   "cell_type": "code",
   "execution_count": 2,
   "metadata": {},
   "outputs": [
    {
     "name": "stdout",
     "output_type": "stream",
     "text": [
      "Olá mundo!\n",
      "None\n"
     ]
    }
   ],
   "source": [
    "# versão normal;\n",
    "def mensagem():\n",
    "    print('Olá mundo!')\n",
    "    \n",
    "msg1 = mensagem()\n",
    "print(msg1)"
   ]
  },
  {
   "cell_type": "code",
   "execution_count": 5,
   "metadata": {},
   "outputs": [
    {
     "name": "stdout",
     "output_type": "stream",
     "text": [
      "Olá Mundo!!\n"
     ]
    }
   ],
   "source": [
    "# usando a lambda\n",
    "msg2 = lambda: 'Olá Mundo!!'\n",
    "print(msg2())"
   ]
  },
  {
   "cell_type": "code",
   "execution_count": 6,
   "metadata": {},
   "outputs": [
    {
     "name": "stdout",
     "output_type": "stream",
     "text": [
      "Digite um numero: 10\n",
      "Digite outro numero: 3\n",
      "10\n",
      "3\n",
      "30\n",
      "None\n"
     ]
    }
   ],
   "source": [
    "variavel1 = lambda n1, n2: n1 * n2\n",
    "n1 = int(input(\"Digite um numero: \"))\n",
    "n2 = int(input(\"Digite outro numero: \"))\n",
    "print(n1)\n",
    "print(n2)\n",
    "print(print(variavel1(n1, n2)))"
   ]
  },
  {
   "cell_type": "code",
   "execution_count": null,
   "metadata": {},
   "outputs": [],
   "source": []
  }
 ],
 "metadata": {
  "kernelspec": {
   "display_name": "Python 3",
   "language": "python",
   "name": "python3"
  },
  "language_info": {
   "codemirror_mode": {
    "name": "ipython",
    "version": 3
   },
   "file_extension": ".py",
   "mimetype": "text/x-python",
   "name": "python",
   "nbconvert_exporter": "python",
   "pygments_lexer": "ipython3",
   "version": "3.8.3"
  }
 },
 "nbformat": 4,
 "nbformat_minor": 4
}
