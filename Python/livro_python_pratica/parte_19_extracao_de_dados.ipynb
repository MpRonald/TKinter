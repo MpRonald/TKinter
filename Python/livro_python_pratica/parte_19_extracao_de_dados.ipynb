{
 "cells": [
  {
   "cell_type": "markdown",
   "metadata": {},
   "source": [
    "# Map, Filter, Reduce + Comprehension\n",
    "\n"
   ]
  },
  {
   "cell_type": "code",
   "execution_count": 4,
   "metadata": {},
   "outputs": [
    {
     "name": "stdout",
     "output_type": "stream",
     "text": [
      "Preços de estoque (normal)[39.9]\n",
      "Preços de estoque (normal)[39.9, 37.9]\n",
      "Preços de estoque (normal)[39.9, 37.9, 79.9]\n",
      "Preços de estoque (normal)[39.9, 37.9, 79.9, 69.9]\n",
      "Preços de estoque (normal)[39.9, 37.9, 79.9, 69.9, 59.9]\n"
     ]
    }
   ],
   "source": [
    "# Método convencional para extração de dados \n",
    "estoque = [      \n",
    "    {'Item01': 'Camisa Nike', 'Preco':39.90},      \n",
    "    {'Item02': 'Camisa Adidas', 'Preco':37.90},      \n",
    "    {'Item03': 'Moletom 00', 'Preco':79.90},      \n",
    "    {'Item04': 'Calca Jeans', 'Preco': 69.90},      \n",
    "    {'Item05': 'Tenis AllStar', 'Preco': 59.90}  ]  \n",
    "precos01 = []  \n",
    "for preco in estoque:      \n",
    "    precos01.append(preco['Preco'])  \n",
    "    print(f'Preços de estoque (normal){precos01}') \n",
    "\n"
   ]
  },
  {
   "cell_type": "code",
   "execution_count": 12,
   "metadata": {},
   "outputs": [
    {
     "name": "stdout",
     "output_type": "stream",
     "text": [
      "Preços de estoque (map + lambda) [39.9, 37.9, 79.9, 69.9, 59.9]\n"
     ]
    }
   ],
   "source": [
    "# extraindo valores via função map() + função lambda;\n",
    "precos2 = list(map(lambda p: p['Preco'], estoque))\n",
    "# map( ) percorrendo cada elemento de estoque, retornando a cada laço  \n",
    "# especificamente o valor de 'Preco', retornando esses valores em forma  \n",
    "# de lista\n",
    "\n",
    "print(f\"Preços de estoque (map + lambda) {precos2}\")"
   ]
  },
  {
   "cell_type": "code",
   "execution_count": 13,
   "metadata": {},
   "outputs": [
    {
     "name": "stdout",
     "output_type": "stream",
     "text": [
      "Preços de estoque list comprehentions: [39.9, 37.9, 79.9, 69.9, 59.9]\n"
     ]
    }
   ],
   "source": [
    "# extraindo valores via list comprehentions\n",
    "precos03 = [preco['Preco'] for preco in estoque]\n",
    "print(f\"Preços de estoque list comprehentions: {precos03}\")"
   ]
  },
  {
   "cell_type": "code",
   "execution_count": 17,
   "metadata": {},
   "outputs": [
    {
     "name": "stdout",
     "output_type": "stream",
     "text": [
      "Preços de estoque (Filter) [{'Item03': 'Moletom 00', 'Preco': 79.9}, {'Item04': 'Calca Jeans', 'Preco': 69.9}]\n"
     ]
    }
   ],
   "source": [
    "#extraindo dados via filter()\n",
    "precos04 = list(filter(lambda p: p['Preco'] >= 60, estoque))\n",
    "print(f'Preços de estoque (Filter) {precos04}')"
   ]
  },
  {
   "cell_type": "code",
   "execution_count": 19,
   "metadata": {},
   "outputs": [
    {
     "name": "stdout",
     "output_type": "stream",
     "text": [
      "Preços de estoque (Filter + List Comprehentions): [79.9, 69.9]\n"
     ]
    }
   ],
   "source": [
    "# combinando filter + list comprehentions;\n",
    "precos05 = [preco['Preco'] for preco in estoque if preco ['Preco'] > 60]\n",
    "print(f'Preços de estoque (Filter + List Comprehentions): {precos05}')"
   ]
  },
  {
   "cell_type": "code",
   "execution_count": 20,
   "metadata": {},
   "outputs": [
    {
     "name": "stdout",
     "output_type": "stream",
     "text": [
      "Preços de estoque (Map + Filter): [39.9, 37.9, 79.9, 69.9, 59.9]\n"
     ]
    }
   ],
   "source": [
    "# Combinando map + filter;\n",
    "precos06 = list(map(lambda p: p['Preco'],\n",
    "                   filter(lambda p: p['Preco'], estoque)))\n",
    "print(f'Preços de estoque (Map + Filter): {precos06}')"
   ]
  },
  {
   "cell_type": "code",
   "execution_count": 21,
   "metadata": {},
   "outputs": [
    {
     "name": "stdout",
     "output_type": "stream",
     "text": [
      "Preços de estoque (Reduce): 287.5\n"
     ]
    }
   ],
   "source": [
    "# extraindo dados via reduce;\n",
    "from functools import reduce\n",
    "def func_reduce(soma, valores):\n",
    "    return soma + valores['Preco']\n",
    "\n",
    "precos_total = reduce(func_reduce, estoque, 0)\n",
    "print(f'Preços de estoque (Reduce): {precos_total}')"
   ]
  },
  {
   "cell_type": "code",
   "execution_count": 24,
   "metadata": {},
   "outputs": [
    {
     "name": "stdout",
     "output_type": "stream",
     "text": [
      "Preços de estoque (Reduce Otimizada): 287.5\n"
     ]
    }
   ],
   "source": [
    "# extraindo dados via reduce (REFATORADO);\n",
    "from functools import reduce\n",
    "precos_total = sum([preco['Preco'] for preco in estoque])\n",
    "print(f'Preços de estoque (Reduce Otimizada): {precos_total}')"
   ]
  },
  {
   "cell_type": "code",
   "execution_count": 23,
   "metadata": {},
   "outputs": [
    {
     "name": "stdout",
     "output_type": "stream",
     "text": [
      "Preços de estoque (Reduce + List Comprehentions): 287.5\n"
     ]
    }
   ],
   "source": [
    "# extraindo dados via reduce + list comprehentions;\n",
    "from functools import reduce\n",
    "precos_total = reduce(lambda soma, valores: soma + valores['Preco'], estoque, 0)\n",
    "print(f'Preços de estoque (Reduce + List Comprehentions): {precos_total}')"
   ]
  },
  {
   "cell_type": "code",
   "execution_count": null,
   "metadata": {},
   "outputs": [],
   "source": []
  },
  {
   "cell_type": "code",
   "execution_count": null,
   "metadata": {},
   "outputs": [],
   "source": []
  }
 ],
 "metadata": {
  "kernelspec": {
   "display_name": "Python 3",
   "language": "python",
   "name": "python3"
  },
  "language_info": {
   "codemirror_mode": {
    "name": "ipython",
    "version": 3
   },
   "file_extension": ".py",
   "mimetype": "text/x-python",
   "name": "python",
   "nbconvert_exporter": "python",
   "pygments_lexer": "ipython3",
   "version": "3.8.3"
  }
 },
 "nbformat": 4,
 "nbformat_minor": 4
}
