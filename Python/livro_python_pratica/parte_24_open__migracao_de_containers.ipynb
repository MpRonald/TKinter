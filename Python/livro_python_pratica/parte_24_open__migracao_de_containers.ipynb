{
 "cells": [
  {
   "cell_type": "markdown",
   "metadata": {},
   "source": [
    "# Funções Built-In"
   ]
  },
  {
   "cell_type": "markdown",
   "metadata": {},
   "source": [
    "#### open()"
   ]
  },
  {
   "cell_type": "code",
   "execution_count": null,
   "metadata": {},
   "outputs": [],
   "source": [
    "arquivo1 = open('pareceres.txt', 'r')\n",
    "print(arquivo1.read())"
   ]
  },
  {
   "attachments": {
    "image.png": {
     "image/png": "[encoded data removed]"
    }
   },
   "cell_type": "markdown",
   "metadata": {},
   "source": [
    "![image.png](attachment:image.png)"
   ]
  },
  {
   "cell_type": "markdown",
   "metadata": {},
   "source": [
    "#### slice()"
   ]
  },
  {
   "cell_type": "code",
   "execution_count": 2,
   "metadata": {},
   "outputs": [],
   "source": [
    "# Fatia e extrai informação dos elementos de uma tupla, a contar do número  \n",
    "# de índice 0 até o número especificado.\n",
    "nomes = ('Ana', 'Carlos', 'Daniela', 'Elis', 'Fernando', 'Mariana', 'Paulo')\n",
    "primeiros3 = slice(3)"
   ]
  },
  {
   "cell_type": "code",
   "execution_count": 4,
   "metadata": {},
   "outputs": [
    {
     "name": "stdout",
     "output_type": "stream",
     "text": [
      "('Ana', 'Carlos', 'Daniela')\n"
     ]
    }
   ],
   "source": [
    "print(nomes[primeiros3])"
   ]
  },
  {
   "cell_type": "markdown",
   "metadata": {},
   "source": [
    "# Contêineres de Dados \n",
    "#### Desempacotando e iterando sobre contêineres.  Entende-se por contêiner toda variável/objeto que guarda múltiplos  # dados atribuídos para si.\n",
    "\n"
   ]
  },
  {
   "cell_type": "code",
   "execution_count": 7,
   "metadata": {},
   "outputs": [
    {
     "name": "stdout",
     "output_type": "stream",
     "text": [
      "Os primeiros numeros são: [1, 2, 3, 4, 5, 6, 7, 8, 9]\n",
      "O ultimo numero é: 10\n"
     ]
    }
   ],
   "source": [
    "numeros1 = (1,2,3,4,5,6,7,8,9,10)\n",
    "*primeiros, ultimo = numeros1\n",
    "print(f'Os primeiros numeros são: {primeiros}')\n",
    "print(f'O ultimo numero é: {ultimo}')"
   ]
  },
  {
   "cell_type": "code",
   "execution_count": 13,
   "metadata": {},
   "outputs": [
    {
     "name": "stdout",
     "output_type": "stream",
     "text": [
      "O primeiros numero é: 1\n",
      "Os ultimos numeros são: [2, 3, 4, 5, 6, 7, 8, 9, 10]\n"
     ]
    }
   ],
   "source": [
    "numeros2 = (1, 2, 3, 4, 5, 6, 7, 8, 9, 10)  \n",
    "primeiro, *ultimos = numeros2\n",
    "print(f'O primeiros numero é: {primeiro}')\n",
    "print(f'Os ultimos numeros são: {ultimos}')"
   ]
  },
  {
   "cell_type": "code",
   "execution_count": 14,
   "metadata": {},
   "outputs": [
    {
     "name": "stdout",
     "output_type": "stream",
     "text": [
      "O primeiros numero é: 1\n",
      "Os ultimos numeros são: [2, 3, 4, 5, 6, 7, 8, 9]\n",
      "Os ultimos numeros são: 10\n"
     ]
    }
   ],
   "source": [
    "numeros3 = (1, 2, 3, 4, 5, 6, 7, 8, 9, 10)  \n",
    "primeiro, *intermediarios, ultimo = numeros3\n",
    "print(f'O primeiros numero é: {primeiro}')\n",
    "print(f'Os ultimos numeros são: {intermediarios}')\n",
    "print(f'Os ultimos numeros são: {ultimo}')"
   ]
  },
  {
   "cell_type": "code",
   "execution_count": 15,
   "metadata": {},
   "outputs": [
    {
     "name": "stdout",
     "output_type": "stream",
     "text": [
      "A lista de chamada começa com: Ana Luiza\n",
      "E termina com: Maria\n"
     ]
    }
   ],
   "source": [
    "nomes = ['Ana Luiza', 'Carolina', 'Daiane', 'Franciele', 'Maria']  \n",
    "primeiro, *intermediarios, ultimo = nomes  \n",
    "print(f'A lista de chamada começa com: {primeiro}')  \n",
    "print(f'E termina com: {ultimo}')"
   ]
  },
  {
   "cell_type": "markdown",
   "metadata": {},
   "source": [
    "# Migrando dados de Container"
   ]
  },
  {
   "cell_type": "code",
   "execution_count": 16,
   "metadata": {},
   "outputs": [
    {
     "name": "stdout",
     "output_type": "stream",
     "text": [
      "[1, 2, 3, 4, 5, 6]\n"
     ]
    }
   ],
   "source": [
    "tupla = (1,2,3)\n",
    "conjunto = {4,5,6}\n",
    "lista = [*tupla, *conjunto]\n",
    "# Um marcador \" * \" pois estamos trabalhando com elementos independentes\n",
    "\n",
    "print(lista)"
   ]
  },
  {
   "cell_type": "code",
   "execution_count": 17,
   "metadata": {},
   "outputs": [
    {
     "name": "stdout",
     "output_type": "stream",
     "text": [
      "{'one': 1, 'two': 2, 'three': 3, 'four': 4}\n"
     ]
    }
   ],
   "source": [
    "dicionario1 = {'one': 1, 'two': 2}  \n",
    "dicionario2 = {'three': 3, 'four': 4}  \n",
    "dicionario3 = {**dicionario1, **dicionario2}  \n",
    "# Marcador \" ** \" pois em dicionários estamos trabalhando com chaves : valores  \n",
    "print(dicionario3)"
   ]
  },
  {
   "cell_type": "code",
   "execution_count": null,
   "metadata": {},
   "outputs": [],
   "source": []
  }
 ],
 "metadata": {
  "kernelspec": {
   "display_name": "Python 3",
   "language": "python",
   "name": "python3"
  },
  "language_info": {
   "codemirror_mode": {
    "name": "ipython",
    "version": 3
   },
   "file_extension": ".py",
   "mimetype": "text/x-python",
   "name": "python",
   "nbconvert_exporter": "python",
   "pygments_lexer": "ipython3",
   "version": "3.8.3"
  }
 },
 "nbformat": 4,
 "nbformat_minor": 4
}
