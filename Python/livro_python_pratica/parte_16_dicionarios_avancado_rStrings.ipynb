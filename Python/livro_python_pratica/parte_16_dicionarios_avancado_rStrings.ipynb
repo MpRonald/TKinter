{
 "cells": [
  {
   "cell_type": "markdown",
   "metadata": {},
   "source": [
    "# Dicionários (avançado)"
   ]
  },
  {
   "cell_type": "code",
   "execution_count": 1,
   "metadata": {},
   "outputs": [],
   "source": [
    "from collections import OrderedDict"
   ]
  },
  {
   "cell_type": "code",
   "execution_count": 3,
   "metadata": {},
   "outputs": [
    {
     "name": "stdout",
     "output_type": "stream",
     "text": [
      "OrderedDict([('a', 1), ('b', 2), ('c', 3), ('d', 4), ('e', 5)])\n"
     ]
    }
   ],
   "source": [
    "dicionario = OrderedDict()\n",
    "dicionario['a'] = 1\n",
    "dicionario['b'] = 2\n",
    "dicionario['c'] = 3\n",
    "dicionario['d'] = 4\n",
    "dicionario['e'] = 5\n",
    "print(dicionario)"
   ]
  },
  {
   "cell_type": "code",
   "execution_count": 4,
   "metadata": {},
   "outputs": [
    {
     "name": "stdout",
     "output_type": "stream",
     "text": [
      "a 1\n",
      "b 2\n",
      "c 3\n",
      "d 4\n",
      "e 5\n"
     ]
    }
   ],
   "source": [
    "for k, v in dicionario.items():\n",
    "    print(k, v)"
   ]
  },
  {
   "cell_type": "markdown",
   "metadata": {},
   "source": [
    "Internamente é gerado um mapeamento da ordem aos quais os itens foram inseridos. Caso uma nova entrada tente atualizar uma chave:valor do dicionário, a posição  # original é mantida, esse log de alterações pode ser visualizado via MyPy.\n",
    "\n"
   ]
  },
  {
   "cell_type": "markdown",
   "metadata": {},
   "source": [
    "# DefaultDict \n",
    "##### Mesmas funcionalidades de um dicionário padrão, porém caso o usuário tente  consultar uma entrada inexistente, ao invés de um erro é retornado um valor padrão\n",
    "\n"
   ]
  },
  {
   "cell_type": "code",
   "execution_count": 5,
   "metadata": {},
   "outputs": [
    {
     "name": "stdout",
     "output_type": "stream",
     "text": [
      "dict_items([('ano', 2021), ('mes', 5)])\n",
      "0\n"
     ]
    }
   ],
   "source": [
    "from collections import defaultdict\n",
    "dicionario = defaultdict(int)\n",
    "dicionario['ano'] = 2021\n",
    "dicionario['mes'] = 5\n",
    "\n",
    "print(dicionario.items())\n",
    "print(dicionario['dia'])"
   ]
  },
  {
   "cell_type": "markdown",
   "metadata": {},
   "source": [
    "# Expressões Regulares\n",
    "#### r'String"
   ]
  },
  {
   "cell_type": "code",
   "execution_count": 3,
   "metadata": {},
   "outputs": [],
   "source": [
    "import re"
   ]
  },
  {
   "cell_type": "code",
   "execution_count": 7,
   "metadata": {},
   "outputs": [
    {
     "name": "stdout",
     "output_type": "stream",
     "text": [
      "['mengo']\n"
     ]
    }
   ],
   "source": [
    "minha_string = 'O flamengo será Campeão!'\n",
    "print(re.findall(r'meng.', minha_string))\n",
    "\n",
    "# Método findall( ) irá buscar na origem uma string específica,  \n",
    "# o ponto no lugar do o em 'meng.'' é um validador regular, \n",
    "# permitindo que neste ponto esteja todo e qualquer caractere."
   ]
  },
  {
   "cell_type": "code",
   "execution_count": 8,
   "metadata": {},
   "outputs": [],
   "source": [
    "# meta caractere\n",
    "texto1 = '''No dia trinta de março de dois mil e vinte  foi inaugurado o novo ginásio \n",
    "            de esportes da escola  estatual Professor Annes Dias, na cidade de Cruz Alta,  \n",
    "            no estado do Rio Grande do Sul. A obra inicialmente   orçada em um milhão de, \n",
    "            reais acabou não utilizando de  todo o recurso, uma vez que dois grandes \n",
    "            empresários da   cidade, João Fagundes e Maria Terres doaram juntos em   \n",
    "            torno de duzentos mil reais. João Fagundes se manifestou  dizendo que apoiou a \n",
    "            obra pois acredita no desenvolvimento  da cidade, assim investe regularmente \n",
    "            para hospitais e  escolas da mesma. maria Terres não quis se pronunciar   \n",
    "            sobre o assunto.'''"
   ]
  },
  {
   "cell_type": "code",
   "execution_count": 10,
   "metadata": {},
   "outputs": [
    {
     "name": "stdout",
     "output_type": "stream",
     "text": [
      "['João', 'João']\n"
     ]
    }
   ],
   "source": [
    "print(re.findall(r'.oão', texto1))"
   ]
  },
  {
   "cell_type": "code",
   "execution_count": 14,
   "metadata": {},
   "outputs": [
    {
     "name": "stdout",
     "output_type": "stream",
     "text": [
      "['Terres', 'Terres']\n"
     ]
    }
   ],
   "source": [
    "print(re.findall(r'.erres', texto1))"
   ]
  },
  {
   "cell_type": "markdown",
   "metadata": {},
   "source": [
    "##### O metacaractere \" . \" no início de uma sentença serve para validar o caractere inicial sa string, que nesse caso poderia ser uma letra maiúscula ou minúscula.\n",
    "\n"
   ]
  },
  {
   "cell_type": "code",
   "execution_count": 15,
   "metadata": {},
   "outputs": [
    {
     "name": "stdout",
     "output_type": "stream",
     "text": [
      "['João', 'Maria', 'João', 'maria']\n"
     ]
    }
   ],
   "source": [
    "print(re.findall(r'.oão|.aria', texto1))"
   ]
  },
  {
   "cell_type": "markdown",
   "metadata": {},
   "source": [
    "#### Meta caractere \" | \" significa \"ou\"  | significa ou, e tem suporte a número de palavras ilimitadas\n",
    "\n"
   ]
  },
  {
   "cell_type": "code",
   "execution_count": 19,
   "metadata": {},
   "outputs": [
    {
     "name": "stdout",
     "output_type": "stream",
     "text": [
      "['Annes', 'João', 'Maria', 'João', 'maria']\n"
     ]
    }
   ],
   "source": [
    "print(re.findall(r'.oão|.aria|.nnes', texto1))"
   ]
  },
  {
   "cell_type": "code",
   "execution_count": 20,
   "metadata": {},
   "outputs": [
    {
     "name": "stdout",
     "output_type": "stream",
     "text": [
      "['João', 'Maria', 'João', 'maria']\n"
     ]
    }
   ],
   "source": [
    "print(re.findall(r'[Jj]oão|.aria', texto1))  \n",
    "# Suponto que toos os caracteres possíveis no início de João são J  \n",
    "# maiúsculo e j minúsculo. Nesse caso sabemos que os possíveis caracteres  \n",
    "# são J ou j, mas em outras strings precisaremos ampliar a abordagem."
   ]
  },
  {
   "cell_type": "code",
   "execution_count": 21,
   "metadata": {},
   "outputs": [
    {
     "name": "stdout",
     "output_type": "stream",
     "text": [
      "['João', 'João']\n"
     ]
    }
   ],
   "source": [
    "# pode conter quantos possíveis caracteres forem necessarios  \n",
    "print(re.findall(r'[AaBbCcDdEeFfGgHhIiJj]oão', texto1))"
   ]
  },
  {
   "cell_type": "code",
   "execution_count": 22,
   "metadata": {},
   "outputs": [
    {
     "name": "stdout",
     "output_type": "stream",
     "text": [
      "['João', 'João']\n",
      "['João', 'João']\n"
     ]
    }
   ],
   "source": [
    "# otimizado com um intervalo predefinido  \n",
    "print(re.findall(r'[a-z]oão|[A-Z]oão', texto1))  \n",
    "print(re.findall(r'[a-zA-Z]oão', texto1))"
   ]
  },
  {
   "cell_type": "markdown",
   "metadata": {},
   "source": [
    "## Alterando o comportamento de uma expressão regular via flags"
   ]
  },
  {
   "cell_type": "code",
   "execution_count": 24,
   "metadata": {},
   "outputs": [
    {
     "name": "stdout",
     "output_type": "stream",
     "text": [
      "['João', 'Maria', 'João', 'maria']\n"
     ]
    }
   ],
   "source": [
    "# ignore case\n",
    "print(re.findall(r'jOãO|maRIA', texto1, flags = re.I))\n",
    "# Flags serve para passar uma instrução local, nesse caso, re.I  \n",
    "# significa ignore case (não diferenciar letras maiúsculas de minúsculas)"
   ]
  },
  {
   "cell_type": "markdown",
   "metadata": {},
   "source": [
    "# Metacaracteres quantificadores \n",
    "##### * significa 0 ou ilimitado número de vezes + significa 1 ou ilimitado número de vezes ? significa 0 ou 1, apenas uma vez  {} significa um número específico, por exemplo {8} define 8 repetições  {} com dois parâmetros justapostos definem um intervalo, por exemplo {0,15} define que algo será repetido 15 vezes, iniciando o contador em 0.\n",
    "\n"
   ]
  },
  {
   "cell_type": "code",
   "execution_count": 26,
   "metadata": {},
   "outputs": [
    {
     "name": "stdout",
     "output_type": "stream",
     "text": [
      "['não']\n",
      "['Nãããããããããão']\n",
      "['Nããããããããããooooooo']\n",
      "['Nããããããããããooooooo', 'não']\n"
     ]
    }
   ],
   "source": [
    "mensagem = 'Nããããããããããooooooo esquecer de pagar a conta, não deixar para depois'  \n",
    "print(re.findall(r'não', mensagem, flags = re.I))  \n",
    "print(re.findall(r'Nã+o', mensagem))  \n",
    "\n",
    "# o operador \" + \" ao lado de ã diz que esse caractere, naquela posição  \n",
    "# pode se repetir uma ou mais vezes \n",
    "\n",
    "print(re.findall(r'Nã+o+', mensagem))  \n",
    "print(re.findall(r'[Nn]ã+o+', mensagem))"
   ]
  },
  {
   "cell_type": "markdown",
   "metadata": {},
   "source": [
    "### Metacaracteres aplicados a um intervalo de caracteres de uma expressão regular\n",
    "##### [A-Za-z0-9]+ significa que vai permitir qualquer caractere,  # quantas vezes o mesmo estiver repetido...  \n",
    "\n"
   ]
  },
  {
   "cell_type": "code",
   "execution_count": 27,
   "metadata": {},
   "outputs": [
    {
     "name": "stdout",
     "output_type": "stream",
     "text": [
      "['Fernnnnnnnannnnndo']\n"
     ]
    }
   ],
   "source": [
    "chamando_nome = 'Fernnnnnnnannnnndo'  \n",
    "print(re.findall(r'fer[a-z]+a[Nn]+do', chamando_nome, flags = re.I)) "
   ]
  },
  {
   "cell_type": "markdown",
   "metadata": {},
   "source": [
    "## Substituindo um elemento de uma string via expressão regular\n",
    "\n"
   ]
  },
  {
   "cell_type": "code",
   "execution_count": 28,
   "metadata": {},
   "outputs": [],
   "source": [
    "texto1 = '''No dia trinta de março de dois mil e vinte  foi inaugurado o novo ginásio \n",
    "            de esportes da escola  estatual Professor Annes Dias, na cidade de Cruz Alta, \n",
    "            no estado do Rio Grande do Sul. A obra inicialmente orçada em um milhão de, \n",
    "            reais acabou não utilizando de  todo o recurso, uma vez que dois grandes \n",
    "            empresários da   cidade, João Fagundes e Maria Terres doaram juntos em   \n",
    "            torno de duzentos mil reais. João Fagundes se manifestou  dizendo que apoiou \n",
    "            a obra pois acredita no desenvolvimento  da cidade, assim investe regularmente\n",
    "            para hospitais e  escolas da mesma. maria Terres não quis se pronunciar   \n",
    "            sobre o assunto.'''"
   ]
  },
  {
   "cell_type": "code",
   "execution_count": 29,
   "metadata": {},
   "outputs": [
    {
     "name": "stdout",
     "output_type": "stream",
     "text": [
      "No dia trinta de março de dois mil e vinte  foi inaugurado o novo ginásio \n",
      "            de esportes da escola  estatual Professor Annes Dias, na cidade de Cruz Alta, \n",
      "            no estado do Rio Grande do Sul. A obra inicialmente orçada em um milhão de, \n",
      "            reais acabou não utilizando de  todo o recurso, uma vez que dois grandes \n",
      "            empresários da   cidade, Carlos Fagundes e Maria Terres doaram juntos em   \n",
      "            torno de duzentos mil reais. Carlos Fagundes se manifestou  dizendo que apoiou \n",
      "            a obra pois acredita no desenvolvimento  da cidade, assim investe regularmente\n",
      "            para hospitais e  escolas da mesma. maria Terres não quis se pronunciar   \n",
      "            sobre o assunto.\n"
     ]
    }
   ],
   "source": [
    "print(re.sub(r'jOãO', 'Carlos', texto1, flags = re.I))  \n",
    "# método sub( ) recebe três parâmetros, sendo o primeiro a string a ser  \n",
    "# substituída, seguido da string substituta, seguido da fonte onde serão  \n",
    "# lidas e feitas as devidas alterações."
   ]
  },
  {
   "cell_type": "markdown",
   "metadata": {},
   "source": [
    "# Separando uma string em partes\n",
    "\n"
   ]
  },
  {
   "cell_type": "code",
   "execution_count": 35,
   "metadata": {},
   "outputs": [],
   "source": [
    "minha_string = \"\"\"A obra inicialmente orçada em um milhão de,\n",
    "reais acabou não utilizando de  todo o recurso, uma vez que dois grandes \n",
    "empresários da   cidade, João Fagundes e Maria Terres doaram juntos em   \n",
    "torno de duzentos mil reais\"\"\""
   ]
  },
  {
   "cell_type": "code",
   "execution_count": 36,
   "metadata": {},
   "outputs": [
    {
     "name": "stdout",
     "output_type": "stream",
     "text": [
      "['A obra inicialmente orçada em um milhão de', '\\nreais acabou não utilizando de  todo o recurso', ' uma vez que dois grandes \\nempresários da   cidade', ' João Fagundes e Maria Terres doaram juntos em   \\ntorno de duzentos mil reais']\n"
     ]
    }
   ],
   "source": [
    "print(re.split(r',', minha_string))"
   ]
  },
  {
   "cell_type": "code",
   "execution_count": null,
   "metadata": {},
   "outputs": [],
   "source": []
  }
 ],
 "metadata": {
  "kernelspec": {
   "display_name": "Python 3",
   "language": "python",
   "name": "python3"
  },
  "language_info": {
   "codemirror_mode": {
    "name": "ipython",
    "version": 3
   },
   "file_extension": ".py",
   "mimetype": "text/x-python",
   "name": "python",
   "nbconvert_exporter": "python",
   "pygments_lexer": "ipython3",
   "version": "3.8.3"
  }
 },
 "nbformat": 4,
 "nbformat_minor": 4
}
