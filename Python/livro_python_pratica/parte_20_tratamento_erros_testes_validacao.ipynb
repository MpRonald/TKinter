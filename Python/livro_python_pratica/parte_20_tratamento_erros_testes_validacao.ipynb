{
 "cells": [
  {
   "cell_type": "markdown",
   "metadata": {},
   "source": [
    "# Try, Except, Finally, Raise (Avançado)\n",
    "\n"
   ]
  },
  {
   "cell_type": "code",
   "execution_count": 1,
   "metadata": {},
   "outputs": [
    {
     "name": "stdout",
     "output_type": "stream",
     "text": [
      "Conteúdo não pode ser exibido!\n"
     ]
    }
   ],
   "source": [
    "# tratando exceções;\n",
    "try:\n",
    "    print(abc)\n",
    "except:\n",
    "    print('Conteúdo não pode ser exibido!')"
   ]
  },
  {
   "cell_type": "code",
   "execution_count": 2,
   "metadata": {},
   "outputs": [
    {
     "name": "stdout",
     "output_type": "stream",
     "text": [
      "Conteúdo não pode ser exibido!\n"
     ]
    }
   ],
   "source": [
    "# except genérico;\n",
    "try:\n",
    "    print(abc)\n",
    "except Exception as erro:\n",
    "    print('Conteúdo não pode ser exibido!')"
   ]
  },
  {
   "cell_type": "code",
   "execution_count": 4,
   "metadata": {},
   "outputs": [
    {
     "name": "stdout",
     "output_type": "stream",
     "text": [
      "Ocorreu o seguinte erro name 'abc' is not defined\n"
     ]
    }
   ],
   "source": [
    "# exibindo erro especifico;\n",
    "try:\n",
    "    print(abc)\n",
    "except Exception as erro:\n",
    "    print(f'Ocorreu o seguinte erro {erro}')"
   ]
  },
  {
   "cell_type": "markdown",
   "metadata": {},
   "source": [
    "# Try e except como condicional, servindo para prever exceções geradas pelo usuário\n",
    "\n"
   ]
  },
  {
   "cell_type": "code",
   "execution_count": 5,
   "metadata": {},
   "outputs": [
    {
     "name": "stdout",
     "output_type": "stream",
     "text": [
      "Digite um número: 85\n",
      "185\n"
     ]
    }
   ],
   "source": [
    "def conversor_num(num):\n",
    "    try:\n",
    "        num = int(num) # tentará converter para int\n",
    "        return num\n",
    "    except valueError:\n",
    "        try:\n",
    "            num = float(num) # tentará converter para float\n",
    "            return num\n",
    "        except valueError:\n",
    "            pass # caso não consiga nenhuma opção anterior irá retornar none;\n",
    "        \n",
    "num1 = conversor_num(input(\"Digite um número: \"))\n",
    "if num1 is not None:\n",
    "    print(num1 + 100)\n",
    "else:\n",
    "    (\"Operação inválida!\")"
   ]
  },
  {
   "cell_type": "markdown",
   "metadata": {},
   "source": [
    "# Finally"
   ]
  },
  {
   "cell_type": "code",
   "execution_count": 7,
   "metadata": {},
   "outputs": [
    {
     "name": "stdout",
     "output_type": "stream",
     "text": [
      "Digite um número: 101\n",
      "Você digitou um caractere inválido!\n"
     ]
    }
   ],
   "source": [
    "def conversor_num(num):\n",
    "    try:\n",
    "        num = int(num)\n",
    "        return num\n",
    "    except:\n",
    "        num = float(num)\n",
    "        return num\n",
    "    finally:\n",
    "        print(\"Você digitou um caractere inválido!\")\n",
    "        \n",
    "num1 = conversor_num(input(\"Digite um número: \"))"
   ]
  },
  {
   "cell_type": "markdown",
   "metadata": {},
   "source": [
    "# Raise"
   ]
  },
  {
   "cell_type": "code",
   "execution_count": 10,
   "metadata": {},
   "outputs": [
    {
     "name": "stdout",
     "output_type": "stream",
     "text": [
      "Digite sua idade: 35\n",
      "Você tem 35 anos de idade:\n"
     ]
    }
   ],
   "source": [
    "idade = int(input('Digite sua idade: '))\n",
    "if idade <= 0:\n",
    "    raise Exception('Idade inválida!!!')\n",
    "print(f'Você tem {idade} anos de idade:')"
   ]
  },
  {
   "cell_type": "code",
   "execution_count": 12,
   "metadata": {},
   "outputs": [
    {
     "name": "stdout",
     "output_type": "stream",
     "text": [
      "13\n",
      "Teste de validação\n"
     ]
    }
   ],
   "source": [
    "# if __name__ == ('__main__')\n",
    "# arquivo soma.py\n",
    "def soma_num(num1, num2):\n",
    "    return num1 + num2\n",
    "    \n",
    "#print(__name__) \n",
    "# irá retornar __main__  \n",
    "#print(soma_num(9, 4))  \n",
    "if __name__ == '__main__':      \n",
    "    print(soma_num(9, 4))      \n",
    "    print('Teste de validação')  \n",
    "# Esse é um código de teste, se executar este arquivo, esse resultado será \n",
    "# impresso, quando esse arquivo for importado como módulo para outro arquivo,  \n",
    "# esse arquivo deixará de ter o __name__ igual a __main__ e passará a ter o  \n",
    "# __name__ igual a soma, então, esse código de teste não será executado."
   ]
  },
  {
   "cell_type": "code",
   "execution_count": 16,
   "metadata": {},
   "outputs": [
    {
     "name": "stdout",
     "output_type": "stream",
     "text": [
      "Digite um número: 120\n",
      "Digite outro número: 13\n"
     ]
    },
    {
     "ename": "AttributeError",
     "evalue": "'function' object has no attribute 'soma_num'",
     "output_type": "error",
     "traceback": [
      "\u001b[1;31m---------------------------------------------------------------------------\u001b[0m",
      "\u001b[1;31mAttributeError\u001b[0m                            Traceback (most recent call last)",
      "\u001b[1;32m<ipython-input-16-20771dd31caf>\u001b[0m in \u001b[0;36m<module>\u001b[1;34m\u001b[0m\n\u001b[0;32m      5\u001b[0m \u001b[0mnum1\u001b[0m \u001b[1;33m=\u001b[0m \u001b[0mint\u001b[0m\u001b[1;33m(\u001b[0m\u001b[0minput\u001b[0m\u001b[1;33m(\u001b[0m\u001b[1;34m'Digite um número: '\u001b[0m\u001b[1;33m)\u001b[0m\u001b[1;33m)\u001b[0m\u001b[1;33m\u001b[0m\u001b[1;33m\u001b[0m\u001b[0m\n\u001b[0;32m      6\u001b[0m \u001b[0mnum2\u001b[0m \u001b[1;33m=\u001b[0m \u001b[0mint\u001b[0m\u001b[1;33m(\u001b[0m\u001b[0minput\u001b[0m\u001b[1;33m(\u001b[0m\u001b[1;34m'Digite outro número: '\u001b[0m\u001b[1;33m)\u001b[0m\u001b[1;33m)\u001b[0m\u001b[1;33m\u001b[0m\u001b[1;33m\u001b[0m\u001b[0m\n\u001b[1;32m----> 7\u001b[1;33m \u001b[0mresultado\u001b[0m \u001b[1;33m=\u001b[0m \u001b[0msoma\u001b[0m\u001b[1;33m.\u001b[0m\u001b[0msoma_num\u001b[0m\u001b[1;33m(\u001b[0m\u001b[0mnum1\u001b[0m\u001b[1;33m,\u001b[0m \u001b[0mnum2\u001b[0m\u001b[1;33m)\u001b[0m\u001b[1;33m\u001b[0m\u001b[1;33m\u001b[0m\u001b[0m\n\u001b[0m\u001b[0;32m      8\u001b[0m \u001b[0mprint\u001b[0m\u001b[1;33m(\u001b[0m\u001b[0mresultado\u001b[0m\u001b[1;33m)\u001b[0m\u001b[1;33m\u001b[0m\u001b[1;33m\u001b[0m\u001b[0m\n\u001b[0;32m      9\u001b[0m \u001b[1;31m# irá retornar soma porque o módulo passa a ter o nome do próprio arquivo\u001b[0m\u001b[1;33m\u001b[0m\u001b[1;33m\u001b[0m\u001b[1;33m\u001b[0m\u001b[0m\n",
      "\u001b[1;31mAttributeError\u001b[0m: 'function' object has no attribute 'soma_num'"
     ]
    }
   ],
   "source": [
    "# Teste de validação\n",
    "# arquivo meuprograma.py  \n",
    "def soma_num(num1, num2):\n",
    "    return num1 + num2 \n",
    "num1 = int(input('Digite um número: '))  \n",
    "num2 = int(input('Digite outro número: '))  \n",
    "resultado = soma.soma_num(num1, num2)  \n",
    "print(resultado)  \n",
    "# irá retornar soma porque o módulo passa a ter o nome do próprio arquivo  \n",
    "# quando importado  print(__name__)  \n",
    "# irá retornar __main__"
   ]
  },
  {
   "cell_type": "code",
   "execution_count": null,
   "metadata": {},
   "outputs": [],
   "source": []
  }
 ],
 "metadata": {
  "kernelspec": {
   "display_name": "Python 3",
   "language": "python",
   "name": "python3"
  },
  "language_info": {
   "codemirror_mode": {
    "name": "ipython",
    "version": 3
   },
   "file_extension": ".py",
   "mimetype": "text/x-python",
   "name": "python",
   "nbconvert_exporter": "python",
   "pygments_lexer": "ipython3",
   "version": "3.8.3"
  }
 },
 "nbformat": 4,
 "nbformat_minor": 4
}
