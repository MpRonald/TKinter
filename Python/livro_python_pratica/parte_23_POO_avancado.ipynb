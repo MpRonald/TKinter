{
 "cells": [
  {
   "cell_type": "markdown",
   "metadata": {},
   "source": [
    "# Tópicos Avançados de POO"
   ]
  },
  {
   "cell_type": "code",
   "execution_count": 6,
   "metadata": {},
   "outputs": [],
   "source": [
    "class Usuario:\n",
    "    def __init__(self, nome):\n",
    "        self.__nome = nome\n",
    "        self.__logar = None\n",
    "    @property\n",
    "    def nome(self):\n",
    "        return self.__nome\n",
    "    @property\n",
    "    def logar(self):\n",
    "        return self.__logar\n",
    "    @logar.setter\n",
    "    def logar(self, logar):\n",
    "        self.__logar = logar"
   ]
  },
  {
   "cell_type": "code",
   "execution_count": 7,
   "metadata": {},
   "outputs": [],
   "source": [
    "class Identificador:\n",
    "    def __init__(self, numero):\n",
    "        self.__numero = numero\n",
    "    @property\n",
    "    def numero(self):\n",
    "        return self.__numero\n",
    "    def logar(self):\n",
    "        print('logando no sistema...')"
   ]
  },
  {
   "cell_type": "code",
   "execution_count": 13,
   "metadata": {},
   "outputs": [
    {
     "name": "stdout",
     "output_type": "stream",
     "text": [
      "logando no sistema...\n"
     ]
    }
   ],
   "source": [
    "usuario1 = Usuario('Ronald')  \n",
    "identificador1 = Identificador('0001')  \n",
    "usuario1.logar = identificador1  \n",
    "# Irá repassar como argumento para o método de classe logar(logar)  \n",
    "# da classe Usuario( ) a classe Identificador('0001'), dessa forma  \n",
    "# Usuario( ) irá incorporar para si a estrutura de Identificador( )  \n",
    "usuario1.logar.logar()"
   ]
  },
  {
   "cell_type": "markdown",
   "metadata": {},
   "source": [
    "# Agregação e composição de classes"
   ]
  },
  {
   "cell_type": "code",
   "execution_count": 21,
   "metadata": {},
   "outputs": [],
   "source": [
    "class Contato:\n",
    "    def __init__(self, residencial, celular):\n",
    "        self.residencial = residencial\n",
    "        self.celular = celular"
   ]
  },
  {
   "cell_type": "code",
   "execution_count": 22,
   "metadata": {},
   "outputs": [],
   "source": [
    "class Cliente:\n",
    "    def __init__(self, nome, idade, fone=None):\n",
    "        self.nome = nome\n",
    "        self.idade = idade\n",
    "        self.fone = []\n",
    "        \n",
    "    def addFone(self, residencial, celular):\n",
    "        self.fone.append(Contato(residencial, celular))\n",
    "        # Adiciona a estrutura e conteúdo dos objetos de classe residencial          \n",
    "        # e celular da classe Contato( ) como atributo para o objeto fone da          \n",
    "        # classe Cliente( ).\n",
    "        \n",
    "    def listaFone(self):\n",
    "        for fone in self.fone:\n",
    "            print(fone.residencial, fone.celular)"
   ]
  },
  {
   "cell_type": "code",
   "execution_count": 23,
   "metadata": {},
   "outputs": [
    {
     "name": "stdout",
     "output_type": "stream",
     "text": [
      "Ronald\n",
      "26429464 992811175\n",
      "None\n"
     ]
    }
   ],
   "source": [
    "cliente1 = Cliente('Ronald', 35)\n",
    "cliente1.addFone(26429464, 992811175)\n",
    "print(cliente1.nome)\n",
    "print(cliente1.listaFone())"
   ]
  },
  {
   "cell_type": "markdown",
   "metadata": {},
   "source": [
    "# Herança Simples"
   ]
  },
  {
   "cell_type": "code",
   "execution_count": 24,
   "metadata": {},
   "outputs": [],
   "source": [
    "class Corsa:\n",
    "    def __init__(self, nome, ano):\n",
    "        self.nome = nome\n",
    "        self.ano = ano"
   ]
  },
  {
   "cell_type": "code",
   "execution_count": 25,
   "metadata": {},
   "outputs": [],
   "source": [
    "class Gol:\n",
    "    def __init__(self, nome, ano):\n",
    "        self.nome = nome\n",
    "        self.ano = ano"
   ]
  },
  {
   "cell_type": "code",
   "execution_count": 26,
   "metadata": {},
   "outputs": [],
   "source": [
    "class Carro:\n",
    "    def __init__(self, nome, ano):\n",
    "        self.nome = nome\n",
    "        self.ano = ano"
   ]
  },
  {
   "cell_type": "code",
   "execution_count": 27,
   "metadata": {},
   "outputs": [],
   "source": [
    "class Vectra(Carro):\n",
    "    # Incorpora toda estrutura da classe Carro() para a classe Vectra()      \n",
    "    pass"
   ]
  },
  {
   "cell_type": "code",
   "execution_count": 28,
   "metadata": {},
   "outputs": [],
   "source": [
    "class Fit(Carro):\n",
    "    pass"
   ]
  },
  {
   "cell_type": "markdown",
   "metadata": {},
   "source": [
    "# Cadeia de Herança "
   ]
  },
  {
   "cell_type": "code",
   "execution_count": 35,
   "metadata": {},
   "outputs": [],
   "source": [
    "class Carro:\n",
    "    def __init__(self, nome, ano):\n",
    "        self.nome = nome\n",
    "        self.ano = ano"
   ]
  },
  {
   "cell_type": "code",
   "execution_count": 36,
   "metadata": {},
   "outputs": [],
   "source": [
    "class Gasolina(Carro):\n",
    "    def __init__(self, tipogasolina=True, tipoalcool = False):\n",
    "        self.tipogasolina = tipogasolina\n",
    "        self.tipoalcool = tipoalcool"
   ]
  },
  {
   "cell_type": "code",
   "execution_count": 41,
   "metadata": {},
   "outputs": [],
   "source": [
    "class Jeep(Gasolina):\n",
    "    # A classe Jeep( ) incorpora em sua estrutura as estruturas da classe      \n",
    "    # Gasolina( ) que por sua vez possui em sua estrutura a estrutura da      \n",
    "    # classe Carro( )\n",
    "    pass\n",
    "\n",
    "# Internamente é o mesmo que:  \n",
    "# class Jeep():  \n",
    "#    def __init__(self, nome, ano, tipogasolina=True, tipoalcool=False):  \n",
    "#        self.nome = nome  \n",
    "#        self.ano = ano  \n",
    "#        self.tipogasolina = tipogasolina  \n",
    "#        self.tipoalcool = tipoalcool"
   ]
  },
  {
   "cell_type": "code",
   "execution_count": 42,
   "metadata": {},
   "outputs": [
    {
     "name": "stdout",
     "output_type": "stream",
     "text": [
      "True\n"
     ]
    }
   ],
   "source": [
    "carro1 = Jeep()\n",
    "print(carro1.tipogasolina)"
   ]
  },
  {
   "cell_type": "markdown",
   "metadata": {},
   "source": [
    "# Herança Multipla"
   ]
  },
  {
   "cell_type": "code",
   "execution_count": 43,
   "metadata": {},
   "outputs": [],
   "source": [
    "class Mercadoria:\n",
    "    def __init__(self, nome, preco):\n",
    "        self.nome = nome\n",
    "        self.preco = preco"
   ]
  },
  {
   "cell_type": "code",
   "execution_count": 44,
   "metadata": {},
   "outputs": [],
   "source": [
    "class Carnes(Mercadoria):\n",
    "    def __init__(self, tipo, peso):\n",
    "        self.tipo = tipo\n",
    "        self.peso = peso"
   ]
  },
  {
   "cell_type": "code",
   "execution_count": 47,
   "metadata": {},
   "outputs": [],
   "source": [
    "class Utensilios:\n",
    "    def __init__(self, espetos, carvao):\n",
    "        self.espetos = espetos\n",
    "        self.carvao = carvao"
   ]
  },
  {
   "cell_type": "code",
   "execution_count": 48,
   "metadata": {},
   "outputs": [],
   "source": [
    "class KitChurrasco(Carnes, Utensilios):\n",
    "    pass"
   ]
  },
  {
   "cell_type": "code",
   "execution_count": 53,
   "metadata": {},
   "outputs": [],
   "source": [
    "pacote1 = KitChurrasco('carne', 14.90)\n",
    "pacote1.tipo = 'costela'\n",
    "pacote1.peso = 1\n",
    "pacote1.espetos = 2\n",
    "pacote1.carvao = 1\n"
   ]
  },
  {
   "cell_type": "markdown",
   "metadata": {},
   "source": [
    "# Sobreposição de Membros"
   ]
  },
  {
   "cell_type": "code",
   "execution_count": 12,
   "metadata": {},
   "outputs": [],
   "source": [
    "class Pessoa:\n",
    "    def __init__(self, nome):\n",
    "        self.nome = nome\n",
    "        \n",
    "    def acao1(self):\n",
    "        print(f'{self.nome} está dormindo!')"
   ]
  },
  {
   "cell_type": "code",
   "execution_count": 13,
   "metadata": {},
   "outputs": [],
   "source": [
    "class Jogador1(Pessoa):\n",
    "    def acao2(self):\n",
    "        print(f'{self.nome} está comendo')"
   ]
  },
  {
   "cell_type": "code",
   "execution_count": 14,
   "metadata": {},
   "outputs": [],
   "source": [
    "class SaveJogador1(Jogador1):\n",
    "    pass"
   ]
  },
  {
   "cell_type": "code",
   "execution_count": 15,
   "metadata": {},
   "outputs": [
    {
     "name": "stdout",
     "output_type": "stream",
     "text": [
      "Ronald\n",
      "Ronald está dormindo!\n",
      "Ronald está comendo\n"
     ]
    }
   ],
   "source": [
    "p1 = SaveJogador1('Ronald')\n",
    "print(p1.nome)\n",
    "p1.acao1()\n",
    "p1.acao2()\n",
    "\n",
    "# O argumento 'Ronald' será repassado para o atributo de classe nome da  \n",
    "# classe Pessoa(), que por sua vez é objeto da classe Jogador1(), que por  \n",
    "# sua vez é objeto da classe SaveJogador1( )."
   ]
  },
  {
   "cell_type": "markdown",
   "metadata": {},
   "source": [
    "# Sobreposição via super()"
   ]
  },
  {
   "cell_type": "code",
   "execution_count": 18,
   "metadata": {},
   "outputs": [],
   "source": [
    "class Pessoa:\n",
    "    def __init__(self, nome):\n",
    "        self.nome = nome\n",
    "        \n",
    "    def acao1(self):\n",
    "        print(f'{self.nome} está dormindo!')\n",
    "        \n",
    "\n",
    "class Jogador1(Pessoa):\n",
    "    def acao2(self):\n",
    "        print(f'{self.nome} está comendo')\n",
    "        \n",
    "class SaveJogador1(Jogador1):      \n",
    "    def acao1(self):          \n",
    "        super().acao2()          \n",
    "        # Define que dos métodos de classe associados a classe Pessoa(),          \n",
    "        # Acao2() terá prioridade de execução          \n",
    "        print(f'{self.nome} encerrando as atividades')\n",
    "\n"
   ]
  },
  {
   "cell_type": "code",
   "execution_count": 19,
   "metadata": {},
   "outputs": [
    {
     "name": "stdout",
     "output_type": "stream",
     "text": [
      "Ronald está comendo\n",
      "Ronald encerrando as atividades\n"
     ]
    }
   ],
   "source": [
    "p1 = SaveJogador1('Ronald')\n",
    "p1.acao1()"
   ]
  },
  {
   "cell_type": "markdown",
   "metadata": {},
   "source": [
    "# Classes Abstratas"
   ]
  },
  {
   "cell_type": "code",
   "execution_count": 20,
   "metadata": {},
   "outputs": [],
   "source": [
    "from abc import ABC, abstractclassmethod"
   ]
  },
  {
   "cell_type": "code",
   "execution_count": 21,
   "metadata": {},
   "outputs": [],
   "source": [
    "class Pessoa(ABC):\n",
    "    @abstractclassmethod\n",
    "    def logar(self):\n",
    "        pass\n",
    "    \n",
    "class Usuario(Pessoa):\n",
    "    def logar(self):\n",
    "        print('Usuário logado no sistema')"
   ]
  },
  {
   "cell_type": "code",
   "execution_count": 22,
   "metadata": {},
   "outputs": [
    {
     "name": "stdout",
     "output_type": "stream",
     "text": [
      "Usuário logado no sistema\n"
     ]
    }
   ],
   "source": [
    "user1 = Usuario()\n",
    "user1.logar()"
   ]
  },
  {
   "cell_type": "markdown",
   "metadata": {},
   "source": [
    "# Polimorfismo"
   ]
  },
  {
   "cell_type": "code",
   "execution_count": 23,
   "metadata": {},
   "outputs": [],
   "source": [
    "from abc import ABC, abstractclassmethod"
   ]
  },
  {
   "cell_type": "code",
   "execution_count": 24,
   "metadata": {},
   "outputs": [],
   "source": [
    "class Pessoa(ABC):\n",
    "    @abstractclassmethod\n",
    "    def logar(self, chaveseguranca):\n",
    "        pass\n",
    "    \n",
    "class Usuario(Pessoa):\n",
    "    def logar(self, chaveseguranca):\n",
    "        print('Usuário logado no sistema!')\n",
    "        \n",
    "class Bot(Pessoa):\n",
    "    def logar(self, chaveseguranca):\n",
    "        print('Sistema rodando em segundo plano!')"
   ]
  },
  {
   "cell_type": "code",
   "execution_count": 26,
   "metadata": {},
   "outputs": [
    {
     "name": "stdout",
     "output_type": "stream",
     "text": [
      "Usuário logado no sistema!\n"
     ]
    }
   ],
   "source": [
    "user1 = Usuario()\n",
    "user1.logar('fsrf9687')"
   ]
  },
  {
   "cell_type": "markdown",
   "metadata": {},
   "source": [
    "# Sobrecarga de Operadores"
   ]
  },
  {
   "cell_type": "code",
   "execution_count": 28,
   "metadata": {},
   "outputs": [],
   "source": [
    "class Caixa:\n",
    "    def __init__(self, altura, largura):\n",
    "        self.largura = largura\n",
    "        self.altura = altura\n",
    "        \n",
    "    def __add__(self, other):\n",
    "        largura1 = self.largura + other.largura\n",
    "        altura1 = self.altura + other.altura\n",
    "        return Caixa(largura1, altura1)\n",
    "    \n",
    "    def __repr__(self):\n",
    "        return f\"<class 'Caixa({self.largura}, {self.altura})'>\""
   ]
  },
  {
   "cell_type": "code",
   "execution_count": 29,
   "metadata": {},
   "outputs": [
    {
     "name": "stdout",
     "output_type": "stream",
     "text": [
      "<class 'Caixa(20, 30)'>\n"
     ]
    }
   ],
   "source": [
    "caixa1 = Caixa(10,10)\n",
    "caixa2 = Caixa(10,20)\n",
    "caixa3 = caixa1 + caixa2\n",
    "print(caixa3)"
   ]
  },
  {
   "cell_type": "markdown",
   "metadata": {},
   "source": [
    "# callable()\n",
    "##### retorna True caso a função esteja declarada corretamente"
   ]
  },
  {
   "cell_type": "code",
   "execution_count": 32,
   "metadata": {},
   "outputs": [
    {
     "name": "stdout",
     "output_type": "stream",
     "text": [
      "True\n"
     ]
    }
   ],
   "source": [
    "def soma(n1, n2):\n",
    "    return n1 + n2\n",
    "\n",
    "print(callable(soma))"
   ]
  },
  {
   "cell_type": "code",
   "execution_count": null,
   "metadata": {},
   "outputs": [],
   "source": []
  }
 ],
 "metadata": {
  "kernelspec": {
   "display_name": "Python 3",
   "language": "python",
   "name": "python3"
  },
  "language_info": {
   "codemirror_mode": {
    "name": "ipython",
    "version": 3
   },
   "file_extension": ".py",
   "mimetype": "text/x-python",
   "name": "python",
   "nbconvert_exporter": "python",
   "pygments_lexer": "ipython3",
   "version": "3.8.3"
  }
 },
 "nbformat": 4,
 "nbformat_minor": 4
}
