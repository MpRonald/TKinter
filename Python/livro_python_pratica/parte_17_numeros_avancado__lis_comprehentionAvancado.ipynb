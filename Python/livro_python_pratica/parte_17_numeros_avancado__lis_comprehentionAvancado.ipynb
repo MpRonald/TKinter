{
 "cells": [
  {
   "cell_type": "markdown",
   "metadata": {},
   "source": [
    "# Numeros (avancado)"
   ]
  },
  {
   "cell_type": "markdown",
   "metadata": {},
   "source": [
    "# Números complexos \n",
    "#### Números complexos são compostos de uma parte real e uma imaginária  sendo cada parte representada por um número de casa decimal.\n",
    "\n"
   ]
  },
  {
   "cell_type": "code",
   "execution_count": 10,
   "metadata": {},
   "outputs": [],
   "source": [
    "num = 3.1 + 8.5j"
   ]
  },
  {
   "cell_type": "code",
   "execution_count": 11,
   "metadata": {},
   "outputs": [
    {
     "name": "stdout",
     "output_type": "stream",
     "text": [
      "<class 'complex'>\n"
     ]
    }
   ],
   "source": [
    "print(type(num))"
   ]
  },
  {
   "cell_type": "code",
   "execution_count": 12,
   "metadata": {},
   "outputs": [
    {
     "name": "stdout",
     "output_type": "stream",
     "text": [
      "(3.1+8.5j)\n"
     ]
    }
   ],
   "source": [
    "print(num)\n",
    "# irá retornar um numero imaginario"
   ]
  },
  {
   "cell_type": "code",
   "execution_count": 13,
   "metadata": {},
   "outputs": [
    {
     "name": "stdout",
     "output_type": "stream",
     "text": [
      "3.1\n"
     ]
    }
   ],
   "source": [
    "print(num.real)\n",
    "# irá retornar apenas a parte real"
   ]
  },
  {
   "cell_type": "code",
   "execution_count": 14,
   "metadata": {},
   "outputs": [
    {
     "name": "stdout",
     "output_type": "stream",
     "text": [
      "8.5\n"
     ]
    }
   ],
   "source": [
    "print(num.imag)\n",
    "# irá retornar apenas a parte imaginaria"
   ]
  },
  {
   "cell_type": "code",
   "execution_count": 15,
   "metadata": {},
   "outputs": [],
   "source": [
    "# criando um numero complexo via construtor;\n",
    "num2 = complex(4.3, 9.9)\n",
    "# primeiro argumento referente a parte real, segundo argumento referente  \n",
    "# a parte imaginária"
   ]
  },
  {
   "cell_type": "code",
   "execution_count": 16,
   "metadata": {},
   "outputs": [
    {
     "name": "stdout",
     "output_type": "stream",
     "text": [
      "(4.3+9.9j)\n"
     ]
    }
   ],
   "source": [
    "print(num2)"
   ]
  },
  {
   "cell_type": "code",
   "execution_count": 17,
   "metadata": {},
   "outputs": [
    {
     "name": "stdout",
     "output_type": "stream",
     "text": [
      "<class 'complex'>\n"
     ]
    }
   ],
   "source": [
    "print(type(num2))"
   ]
  },
  {
   "cell_type": "code",
   "execution_count": 18,
   "metadata": {},
   "outputs": [],
   "source": [
    "# string como argumento;\n",
    "num3 = complex('1.9+2.9j')"
   ]
  },
  {
   "cell_type": "code",
   "execution_count": 19,
   "metadata": {},
   "outputs": [
    {
     "name": "stdout",
     "output_type": "stream",
     "text": [
      "(1.9+2.9j)\n"
     ]
    }
   ],
   "source": [
    "print(num3)"
   ]
  },
  {
   "cell_type": "code",
   "execution_count": 20,
   "metadata": {},
   "outputs": [
    {
     "name": "stdout",
     "output_type": "stream",
     "text": [
      "<class 'complex'>\n"
     ]
    }
   ],
   "source": [
    "print(type(num3))"
   ]
  },
  {
   "cell_type": "code",
   "execution_count": 21,
   "metadata": {},
   "outputs": [],
   "source": [
    "# binário;\n",
    "num1 = 1987\n",
    "num1_bin = bin(num1)"
   ]
  },
  {
   "cell_type": "code",
   "execution_count": 23,
   "metadata": {},
   "outputs": [
    {
     "name": "stdout",
     "output_type": "stream",
     "text": [
      "O numero no formato decimal: 1987\n",
      "O numero no formato binário: 0b11111000011\n"
     ]
    }
   ],
   "source": [
    "print(f'O numero no formato decimal: {num1}')\n",
    "print(f'O numero no formato binário: {num1_bin}')"
   ]
  },
  {
   "cell_type": "code",
   "execution_count": 24,
   "metadata": {},
   "outputs": [
    {
     "name": "stdout",
     "output_type": "stream",
     "text": [
      "O numero no formato decimal: 1987\n",
      "O numero no formato hexadecimal: 0x7c3\n"
     ]
    }
   ],
   "source": [
    "# hexadecimal\n",
    "num1 = 1987\n",
    "num1_hex = hex(num1)\n",
    "print(f'O numero no formato decimal: {num1}')\n",
    "print(f'O numero no formato hexadecimal: {num1_hex}')"
   ]
  },
  {
   "cell_type": "markdown",
   "metadata": {},
   "source": [
    "# List Comprehension (Avançado) \n",
    "#### Gerando uma nova lista via comprehension\n",
    "\n"
   ]
  },
  {
   "cell_type": "code",
   "execution_count": 26,
   "metadata": {},
   "outputs": [],
   "source": [
    "lista = [1,2,3,4,5,6,7,8,9,]"
   ]
  },
  {
   "cell_type": "code",
   "execution_count": 27,
   "metadata": {},
   "outputs": [
    {
     "name": "stdout",
     "output_type": "stream",
     "text": [
      "2\n",
      "4\n",
      "6\n",
      "8\n",
      "10\n",
      "12\n",
      "14\n",
      "16\n",
      "18\n"
     ]
    }
   ],
   "source": [
    "for i in lista:\n",
    "    print(i * 2)"
   ]
  },
  {
   "cell_type": "code",
   "execution_count": 28,
   "metadata": {},
   "outputs": [],
   "source": [
    "lista2 = [i * 2 for i in lista]"
   ]
  },
  {
   "cell_type": "code",
   "execution_count": 29,
   "metadata": {},
   "outputs": [
    {
     "name": "stdout",
     "output_type": "stream",
     "text": [
      "[2, 4, 6, 8, 10, 12, 14, 16, 18]\n"
     ]
    }
   ],
   "source": [
    "print(lista2)"
   ]
  },
  {
   "cell_type": "markdown",
   "metadata": {},
   "source": [
    "# Desmembrando uma string elemento por elemento\n",
    "\n"
   ]
  },
  {
   "cell_type": "code",
   "execution_count": 30,
   "metadata": {},
   "outputs": [
    {
     "name": "stdout",
     "output_type": "stream",
     "text": [
      "['1', '2', '3', '4', '5', '6', '7', '8', '9', '0']\n"
     ]
    }
   ],
   "source": [
    "string = '1234567890'\n",
    "comp = [letra for letra in string]\n",
    "print(comp)"
   ]
  },
  {
   "cell_type": "code",
   "execution_count": 31,
   "metadata": {},
   "outputs": [
    {
     "name": "stdout",
     "output_type": "stream",
     "text": [
      "1234567890\n"
     ]
    }
   ],
   "source": [
    "# Desmembrando uma string dentro de um intervalo de índice \n",
    "string = '123456789012345678905925249529562'  \n",
    "print(string[0:10])  \n",
    "# Retornará do primeiro ao décimo elemento da string"
   ]
  },
  {
   "cell_type": "markdown",
   "metadata": {},
   "source": [
    "# Combinando diferentes métodos em comprehension\n",
    "\n"
   ]
  },
  {
   "cell_type": "code",
   "execution_count": 35,
   "metadata": {},
   "outputs": [
    {
     "name": "stdout",
     "output_type": "stream",
     "text": [
      "Carros em Estoque: Azera,Civic,Golf,Montana,Tucson,Uno,Vectra\n"
     ]
    }
   ],
   "source": [
    "carros = ['Vectra', 'Golf', 'Civic', 'Tucson', 'Uno', 'Azera', 'Montana']\n",
    "print(f'Carros em Estoque: ' + ','.join(sorted(set(carros))))\n",
    "# sorted( ) organizará os elementos em ordem alfabética de acordo com sua inicial\n",
    "# Se houverem elementos repetidos na string, no retorno será apresentado apenas  \n",
    "# uma amostra destes elementos"
   ]
  },
  {
   "cell_type": "markdown",
   "metadata": {},
   "source": [
    "# Frequência de um elemento de uma lista\n",
    "\n"
   ]
  },
  {
   "cell_type": "code",
   "execution_count": 36,
   "metadata": {},
   "outputs": [],
   "source": [
    "carros = ['Vectra', 'Golf', 'Civic', 'Tucson', 'Uno', 'Azera', 'Montana',\n",
    "          'Golf', 'Civic', 'Tucson', 'Uno', 'Vectra', 'Golf', 'Civic']"
   ]
  },
  {
   "cell_type": "code",
   "execution_count": 39,
   "metadata": {},
   "outputs": [
    {
     "name": "stdout",
     "output_type": "stream",
     "text": [
      "{'Vectra': 2, 'Golf': 3, 'Civic': 3, 'Tucson': 2, 'Uno': 2, 'Azera': 1, 'Montana': 1}\n",
      "Carros em Estoque: Azera,Civic,Golf,Montana,Tucson,Uno,Vectra\n"
     ]
    }
   ],
   "source": [
    "lista_frequencia = dict()\n",
    "for carro in carros:\n",
    "    lista_frequencia[carro] = lista_frequencia.get(carro, 0) + 1\n",
    "    \n",
    "print(lista_frequencia)\n",
    "print(f'Carros em Estoque: ' + ','.join(sorted(set(lista_frequencia))))"
   ]
  },
  {
   "cell_type": "code",
   "execution_count": 41,
   "metadata": {},
   "outputs": [],
   "source": [
    "# ordenando por frquencia a lista anterior;\n",
    "from operator import itemgetter"
   ]
  },
  {
   "cell_type": "code",
   "execution_count": 42,
   "metadata": {},
   "outputs": [
    {
     "data": {
      "text/plain": [
       "'Golf, Civic, Vectra, Tucson, Uno, Azera, Montana'"
      ]
     },
     "execution_count": 42,
     "metadata": {},
     "output_type": "execute_result"
    }
   ],
   "source": [
    "', '.join([carro for carro, frequencia in sorted(lista_frequencia.items(),\n",
    "                                                 key = itemgetter(1),reverse = True)])  \n",
    "# Retornará uma lista com os elementos ordenados do mais frequente para o  \n",
    "# menos frequente."
   ]
  },
  {
   "cell_type": "markdown",
   "metadata": {},
   "source": [
    "# Expressões ternárias"
   ]
  },
  {
   "cell_type": "code",
   "execution_count": 44,
   "metadata": {},
   "outputs": [
    {
     "data": {
      "text/plain": [
       "'Negativo'"
      ]
     },
     "execution_count": 44,
     "metadata": {},
     "output_type": "execute_result"
    }
   ],
   "source": [
    "# Parecido com comprehension, mas iterando sobre estruturas condicionais  \n",
    "# tornando as mesmas reduzidas.\n",
    "num = -2\n",
    "'Positivo' if num >= 0 else 'Negativo'"
   ]
  },
  {
   "cell_type": "markdown",
   "metadata": {},
   "source": [
    "# Expressão ternária aplicada à função print( )\n",
    "\n"
   ]
  },
  {
   "cell_type": "code",
   "execution_count": 46,
   "metadata": {},
   "outputs": [
    {
     "name": "stdout",
     "output_type": "stream",
     "text": [
      "Digite um numero entre 0 e 10: 2\n",
      "Menor que 5\n"
     ]
    }
   ],
   "source": [
    "num = int(input('Digite um numero entre 0 e 10: '))\n",
    "\n",
    "if num >= 0 and num <= 10:\n",
    "    print('Maior que 5') if num >= 5 else print('Menor que 5')\n",
    "else:\n",
    "    print('Numero invalido!')"
   ]
  },
  {
   "cell_type": "markdown",
   "metadata": {},
   "source": [
    "# Any e All any( ) \n",
    "#### Retornará True se ao menos um dos elementos de uma tupla/lista/dicionário  # ou qualquer contêiner de dados for válido\n",
    "\n"
   ]
  },
  {
   "cell_type": "code",
   "execution_count": 48,
   "metadata": {},
   "outputs": [],
   "source": [
    "condicoes = [False, False, False, True, False, False]\n",
    "condicoes2 = {'ligado': 1, 'desligado': 0}"
   ]
  },
  {
   "cell_type": "code",
   "execution_count": 52,
   "metadata": {},
   "outputs": [
    {
     "name": "stdout",
     "output_type": "stream",
     "text": [
      "True\n",
      "True\n"
     ]
    }
   ],
   "source": [
    "print(any(condicoes))\n",
    "print(any(condicoes2))"
   ]
  },
  {
   "cell_type": "code",
   "execution_count": null,
   "metadata": {},
   "outputs": [],
   "source": []
  }
 ],
 "metadata": {
  "kernelspec": {
   "display_name": "Python 3",
   "language": "python",
   "name": "python3"
  },
  "language_info": {
   "codemirror_mode": {
    "name": "ipython",
    "version": 3
   },
   "file_extension": ".py",
   "mimetype": "text/x-python",
   "name": "python",
   "nbconvert_exporter": "python",
   "pygments_lexer": "ipython3",
   "version": "3.8.3"
  }
 },
 "nbformat": 4,
 "nbformat_minor": 4
}
