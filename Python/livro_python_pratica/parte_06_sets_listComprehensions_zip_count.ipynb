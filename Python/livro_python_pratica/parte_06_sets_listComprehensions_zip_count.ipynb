{
 "cells": [
  {
   "cell_type": "markdown",
   "metadata": {},
   "source": [
    "# Sets (Conjuntos)"
   ]
  },
  {
   "cell_type": "code",
   "execution_count": 1,
   "metadata": {},
   "outputs": [],
   "source": [
    "set1 = {1,2,3,4,5,6,7,8,9}"
   ]
  },
  {
   "cell_type": "code",
   "execution_count": 2,
   "metadata": {},
   "outputs": [
    {
     "name": "stdout",
     "output_type": "stream",
     "text": [
      "{1, 2, 3, 4, 5, 6, 7, 8, 9}\n",
      "<class 'set'>\n"
     ]
    }
   ],
   "source": [
    "print(set1)\n",
    "print(type(set1))"
   ]
  },
  {
   "cell_type": "markdown",
   "metadata": {},
   "source": [
    "### o set é diferente do dicionario pois ele não tem a opção chave -> valor\n",
    " o set não possui indice, portanto se tentarmos verificar o valor de um indice dará erro;"
   ]
  },
  {
   "cell_type": "code",
   "execution_count": 6,
   "metadata": {},
   "outputs": [
    {
     "name": "stdout",
     "output_type": "stream",
     "text": [
      "{35, 'Ronald'}\n"
     ]
    }
   ],
   "source": [
    "# criando um set via construtor;\n",
    "set1 = set()\n",
    "set1.add('Ronald')\n",
    "set1.add(35)\n",
    "print(set1)"
   ]
  },
  {
   "cell_type": "code",
   "execution_count": 7,
   "metadata": {},
   "outputs": [
    {
     "name": "stdout",
     "output_type": "stream",
     "text": [
      "{'Ronald'}\n"
     ]
    }
   ],
   "source": [
    "# removendo um elemento de um set;\n",
    "set1.discard(35)\n",
    "print(set1)"
   ]
  },
  {
   "cell_type": "code",
   "execution_count": 8,
   "metadata": {},
   "outputs": [
    {
     "name": "stdout",
     "output_type": "stream",
     "text": [
      "[1, 2, 2, 56, 6, 56, 56, 7, 7, 8, 'ana', 'ana', 'maria', 'joao', 'joao']\n"
     ]
    }
   ],
   "source": [
    "# convertendo listas em sets para remoção de itens duplicados;\n",
    "lista = [1,2,2,56,6,56,56,7,7,8,'ana', 'ana', 'maria', 'joao', 'joao']\n",
    "print(lista)"
   ]
  },
  {
   "cell_type": "code",
   "execution_count": 10,
   "metadata": {},
   "outputs": [
    {
     "name": "stdout",
     "output_type": "stream",
     "text": [
      "Lista modificada para set: {1, 2, 6, 7, 8, 'ana', 'joao', 'maria', 56}\n"
     ]
    }
   ],
   "source": [
    "lista = set(lista) # modificando par set;\n",
    "print(f'Lista modificada para set: {lista}')"
   ]
  },
  {
   "cell_type": "markdown",
   "metadata": {},
   "source": [
    "Perceba que os itens duplicados foram removidos"
   ]
  },
  {
   "cell_type": "code",
   "execution_count": 14,
   "metadata": {},
   "outputs": [
    {
     "name": "stdout",
     "output_type": "stream",
     "text": [
      "[1, 2, 6, 7, 8, 'ana', 'joao', 'maria', 56]\n"
     ]
    }
   ],
   "source": [
    "# agora temos uma lista sem itens duplicados;\n",
    "print(list(lista))"
   ]
  },
  {
   "cell_type": "markdown",
   "metadata": {},
   "source": [
    "# List Comprehensions"
   ]
  },
  {
   "cell_type": "code",
   "execution_count": 31,
   "metadata": {},
   "outputs": [],
   "source": [
    "lista_comp_01 = [1,2,3,4,5,6,8,9,10,11,12]"
   ]
  },
  {
   "cell_type": "code",
   "execution_count": 34,
   "metadata": {},
   "outputs": [
    {
     "name": "stdout",
     "output_type": "stream",
     "text": [
      "Lista 1: [1, 2, 3, 4, 5, 6, 8, 9, 10, 11, 12]\n"
     ]
    }
   ],
   "source": [
    "print(f'Lista 1: {lista_comp_01}')\n"
   ]
  },
  {
   "cell_type": "code",
   "execution_count": 36,
   "metadata": {},
   "outputs": [],
   "source": [
    "lista_comp_02 = [i * 2 for i in lista_comp_01] # list comprehension;"
   ]
  },
  {
   "cell_type": "code",
   "execution_count": 38,
   "metadata": {},
   "outputs": [
    {
     "name": "stdout",
     "output_type": "stream",
     "text": [
      "[2, 4, 6, 8, 10, 12, 16, 18, 20, 22, 24]\n"
     ]
    }
   ],
   "source": [
    "print(lista_comp_02)"
   ]
  },
  {
   "cell_type": "code",
   "execution_count": 39,
   "metadata": {},
   "outputs": [
    {
     "name": "stdout",
     "output_type": "stream",
     "text": [
      "['1', '2', '3', '4', '5', '6', '7', '8', '9', '9', '8', '7', '6', '5', '4', '3', '2', '1']\n"
     ]
    }
   ],
   "source": [
    "# desmenbrando uma string elemento por elemento;\n",
    "string = '123456789987654321'\n",
    "comp = [letra for letra in string]\n",
    "print(comp)"
   ]
  },
  {
   "cell_type": "code",
   "execution_count": 47,
   "metadata": {},
   "outputs": [
    {
     "name": "stdout",
     "output_type": "stream",
     "text": [
      "3214569874\n",
      "56321456987\n",
      "74566546546549874561\n",
      "23321654654621354687\n"
     ]
    }
   ],
   "source": [
    "# extraindo partes de uma string;\n",
    "string2 = '3214569874563214569874566546546549874561233216546546213546879846351384'\n",
    "print(string2[:10])\n",
    "print(string2[10:20+1])\n",
    "print(string2[20:40])\n",
    "print(string2[40:60])"
   ]
  },
  {
   "cell_type": "code",
   "execution_count": 49,
   "metadata": {},
   "outputs": [
    {
     "name": "stdout",
     "output_type": "stream",
     "text": [
      "[0, 10, 20, 30, 40]\n"
     ]
    }
   ],
   "source": [
    "# trabalhando com partes de uma string;\n",
    "string3 = '32145698745632145698745665465465498745612332165465'\n",
    "n = 10\n",
    "# separando a string de 10 em 10;\n",
    "comp = [i for i in range(0, len(string3),n)]\n",
    "print(comp)"
   ]
  },
  {
   "cell_type": "code",
   "execution_count": 50,
   "metadata": {},
   "outputs": [
    {
     "name": "stdout",
     "output_type": "stream",
     "text": [
      "[(0, 10), (10, 20), (20, 30), (30, 40), (40, 50)]\n"
     ]
    }
   ],
   "source": [
    "# verificando de quanto em quanto é o intervalo;\n",
    "comp2 = [(i, i+n) for i in range(0, len(string3),n)]\n",
    "print(comp2)"
   ]
  },
  {
   "cell_type": "code",
   "execution_count": 51,
   "metadata": {},
   "outputs": [
    {
     "name": "stdout",
     "output_type": "stream",
     "text": [
      "['3214569874', '5632145698', '7456654654', '6549874561', '2332165465']\n"
     ]
    }
   ],
   "source": [
    "# realizando o fatiamento da string;\n",
    "comp3 = [string3[i:i + n] for i in range(0, len(string3), n)]\n",
    "print(comp3)"
   ]
  },
  {
   "cell_type": "markdown",
   "metadata": {},
   "source": [
    "# Optimizando código\n"
   ]
  },
  {
   "cell_type": "code",
   "execution_count": 53,
   "metadata": {},
   "outputs": [
    {
     "name": "stdout",
     "output_type": "stream",
     "text": [
      "Método tradicional 30\n",
      "Método tradicional 75\n",
      "Método tradicional 97\n",
      "Usando funções internas 30\n",
      "Usando funções internas 75\n",
      "Usando funções internas 97\n"
     ]
    }
   ],
   "source": [
    "carrinho = []  \n",
    "carrinho.append(('Item 1', 30))  \n",
    "carrinho.append(('Item 2', 45))  \n",
    "carrinho.append(('Item 3', 22))  \n",
    "total = 0  \n",
    "for produto in carrinho:    \n",
    "    total = total + produto[1] \n",
    "    print('Método tradicional', total) \n",
    "\n",
    "# Mesmo que:  \n",
    "carrinho = [] \n",
    "carrinho.append(('Item 1', 30))  \n",
    "carrinho.append(('Item 2', 45))  \n",
    "carrinho.append(('Item 3', 22))  \n",
    "total2 = []  \n",
    "for produto in carrinho:    \n",
    "    total2.append(produto[1])  \n",
    "    print('Usando funções internas', sum(total2))  \n",
    "\n"
   ]
  },
  {
   "cell_type": "code",
   "execution_count": 62,
   "metadata": {},
   "outputs": [
    {
     "name": "stdout",
     "output_type": "stream",
     "text": [
      "O valor total é: R$ 30\n",
      "O valor total é: R$ 75\n",
      "O valor total é: R$ 97\n",
      "O valor total é: R$ 190\n",
      "O valor total é: R$ 196\n"
     ]
    }
   ],
   "source": [
    "# agora refatorando o código com list comprehensions;\n",
    "carrinho = []  \n",
    "carrinho.append(('Item 1', 30))  \n",
    "carrinho.append(('Item 2', 45))  \n",
    "carrinho.append(('Item 3', 22))  \n",
    "carrinho.append(('Item 4', 93)) \n",
    "carrinho.append(('Item 5', 6))  \n",
    "total = 0  \n",
    "for produto in carrinho:    \n",
    "    total = total + produto[1]  \n",
    "    print(f'O valor total é: R$ {total}')  "
   ]
  },
  {
   "cell_type": "code",
   "execution_count": 63,
   "metadata": {},
   "outputs": [
    {
     "name": "stdout",
     "output_type": "stream",
     "text": [
      "O Valor total é: R$ 196\n"
     ]
    }
   ],
   "source": [
    "# Código Otimizado  \n",
    "total2 = sum([y for x, y in carrinho])  \n",
    "print(f'O Valor total é: R$ {total2}')"
   ]
  },
  {
   "cell_type": "markdown",
   "metadata": {},
   "source": [
    "# Dictionary Comprehension \n",
    "Basicamente a mesma lógica implementada de list comprehension,  mas quando temos chave:valor podemos transormar em dicionário.\n",
    "\n"
   ]
  },
  {
   "cell_type": "code",
   "execution_count": 64,
   "metadata": {},
   "outputs": [
    {
     "name": "stdout",
     "output_type": "stream",
     "text": [
      "{'chave1': 'chave2', 'chave2': 'valor2', 'chave3': 'valor3'}\n"
     ]
    }
   ],
   "source": [
    "lista = [('chave1','chave2'), ('chave2','valor2'),('chave3','valor3')]\n",
    "dicionario = {x:y for x,y in lista}\n",
    "print(dicionario)"
   ]
  },
  {
   "cell_type": "code",
   "execution_count": 65,
   "metadata": {},
   "outputs": [
    {
     "name": "stdout",
     "output_type": "stream",
     "text": [
      "Preços sem imposto: [('Caneta', 1.99), ('Lápis', 1.49), ('Caderno', 8.99)]\n",
      "Preços com imposto: {'Caneta': 3.184, 'Lápis': 2.384, 'Caderno': 14.384}\n"
     ]
    }
   ],
   "source": [
    "# Realizando operações dentro de um dicionário via comprehension \n",
    "produtos = [('Caneta',1.99), ('Lápis',1.49), ('Caderno',8.99)]\n",
    "produtos_com_imposto = {x:y * 1.6 for x,y in produtos}\n",
    "print(f\"Preços sem imposto: {produtos}\")\n",
    "print(f\"Preços com imposto: {produtos_com_imposto}\")\n"
   ]
  },
  {
   "cell_type": "markdown",
   "metadata": {},
   "source": [
    "# Geradores e Iteradores"
   ]
  },
  {
   "cell_type": "code",
   "execution_count": 66,
   "metadata": {},
   "outputs": [],
   "source": [
    "lista = [1,2,3,4]\n",
    "nome = 'Ronald'"
   ]
  },
  {
   "cell_type": "code",
   "execution_count": 67,
   "metadata": {},
   "outputs": [
    {
     "name": "stdout",
     "output_type": "stream",
     "text": [
      "1\n",
      "2\n",
      "3\n",
      "4\n"
     ]
    }
   ],
   "source": [
    "for i in lista:\n",
    "    print(i)"
   ]
  },
  {
   "cell_type": "code",
   "execution_count": 68,
   "metadata": {},
   "outputs": [
    {
     "name": "stdout",
     "output_type": "stream",
     "text": [
      "R\n",
      "o\n",
      "n\n",
      "a\n",
      "l\n",
      "d\n"
     ]
    }
   ],
   "source": [
    "for j in nome:\n",
    "    print(j)"
   ]
  },
  {
   "cell_type": "markdown",
   "metadata": {},
   "source": [
    "# Zip Iterando e unindo listas via zip( )\n",
    "\n"
   ]
  },
  {
   "cell_type": "code",
   "execution_count": 70,
   "metadata": {},
   "outputs": [],
   "source": [
    "cidades = ['Porto Alegre', 'Curitiba','Salvador', 'Belo Horizonte']  \n",
    "estados = ['RS', 'PR', 'BH', 'MG']"
   ]
  },
  {
   "cell_type": "code",
   "execution_count": 71,
   "metadata": {},
   "outputs": [
    {
     "name": "stdout",
     "output_type": "stream",
     "text": [
      "('Porto Alegre', 'RS')\n",
      "('Curitiba', 'PR')\n",
      "('Salvador', 'BH')\n",
      "('Belo Horizonte', 'MG')\n"
     ]
    }
   ],
   "source": [
    "cidades_estados = zip(cidades, estados)\n",
    "for i in cidades_estados:\n",
    "    print(i)"
   ]
  },
  {
   "cell_type": "markdown",
   "metadata": {},
   "source": [
    "# Zip_longest para iterar e unir listas de diferentes tamanhos"
   ]
  },
  {
   "cell_type": "code",
   "execution_count": 73,
   "metadata": {},
   "outputs": [],
   "source": [
    "from itertools import zip_longest"
   ]
  },
  {
   "cell_type": "code",
   "execution_count": 75,
   "metadata": {},
   "outputs": [],
   "source": [
    "cidades = ['Porto Alegre', 'Curitiba','Salvador', 'Belo Horizonte',\n",
    "           'Rio de Janeiro', 'Goiânia'] \n",
    "estados = ['RS', 'PR', 'BH', 'MG']"
   ]
  },
  {
   "cell_type": "code",
   "execution_count": 77,
   "metadata": {},
   "outputs": [
    {
     "name": "stdout",
     "output_type": "stream",
     "text": [
      "('Porto Alegre', 'RS')\n",
      "('Curitiba', 'PR')\n",
      "('Salvador', 'BH')\n",
      "('Belo Horizonte', 'MG')\n",
      "('Rio de Janeiro', None)\n",
      "('Goiânia', None)\n",
      "\n",
      "\n",
      "('Porto Alegre', 'RS')\n",
      "('Curitiba', 'PR')\n",
      "('Salvador', 'BH')\n",
      "('Belo Horizonte', 'MG')\n",
      "('Rio de Janeiro', 'Desconhecido')\n",
      "('Goiânia', 'Desconhecido')\n"
     ]
    }
   ],
   "source": [
    "cidades_estados2 = zip_longest(cidades, estados)\n",
    "cidades_estados3 = zip_longest(cidades, estados, fillvalue=\"Desconhecido\")\n",
    "for i in cidades_estados2:\n",
    "    print(i)\n",
    "print(\"\\n\")\n",
    "for j in cidades_estados3:\n",
    "    print(j)"
   ]
  },
  {
   "cell_type": "markdown",
   "metadata": {},
   "source": [
    "# Count Usando do contador do sistema\n",
    "\n"
   ]
  },
  {
   "cell_type": "code",
   "execution_count": 82,
   "metadata": {},
   "outputs": [],
   "source": [
    "from itertools import count\n",
    "contador = count()"
   ]
  },
  {
   "cell_type": "code",
   "execution_count": 83,
   "metadata": {},
   "outputs": [
    {
     "name": "stdout",
     "output_type": "stream",
     "text": [
      "0\n",
      "1\n",
      "2\n",
      "3\n",
      "4\n",
      "5\n",
      "6\n",
      "7\n",
      "8\n",
      "9\n",
      "10\n"
     ]
    }
   ],
   "source": [
    "for numero in contador:\n",
    "    print(numero)\n",
    "    if numero >= 10:\n",
    "        break\n",
    "   "
   ]
  },
  {
   "cell_type": "code",
   "execution_count": 84,
   "metadata": {},
   "outputs": [],
   "source": [
    "# Contando dentro de um intervalo personalizado;\n",
    "from itertools import count"
   ]
  },
  {
   "cell_type": "code",
   "execution_count": 85,
   "metadata": {},
   "outputs": [],
   "source": [
    "contador = count(start=40)"
   ]
  },
  {
   "cell_type": "code",
   "execution_count": 86,
   "metadata": {},
   "outputs": [
    {
     "name": "stdout",
     "output_type": "stream",
     "text": [
      "40\n",
      "41\n",
      "42\n",
      "43\n",
      "44\n",
      "45\n",
      "46\n",
      "47\n",
      "48\n",
      "49\n",
      "50\n"
     ]
    }
   ],
   "source": [
    "for numero in contador:\n",
    "    print(numero)\n",
    "    if numero >= 50:\n",
    "        break"
   ]
  },
  {
   "cell_type": "code",
   "execution_count": 87,
   "metadata": {},
   "outputs": [
    {
     "name": "stdout",
     "output_type": "stream",
     "text": [
      "0\n",
      "2\n",
      "4\n",
      "6\n",
      "8\n",
      "10\n",
      "12\n",
      "14\n",
      "16\n",
      "18\n",
      "20\n"
     ]
    }
   ],
   "source": [
    "# Personalizando de quantos em quantos números o contador irá trabalhar\n",
    "from itertools import count\n",
    "contador = count(start = 0, step = 2)\n",
    "for numero in contador:\n",
    "    print(numero)\n",
    "    if numero >= 20:\n",
    "        break"
   ]
  },
  {
   "cell_type": "code",
   "execution_count": null,
   "metadata": {},
   "outputs": [],
   "source": []
  },
  {
   "cell_type": "code",
   "execution_count": null,
   "metadata": {},
   "outputs": [],
   "source": []
  }
 ],
 "metadata": {
  "kernelspec": {
   "display_name": "Python 3",
   "language": "python",
   "name": "python3"
  },
  "language_info": {
   "codemirror_mode": {
    "name": "ipython",
    "version": 3
   },
   "file_extension": ".py",
   "mimetype": "text/x-python",
   "name": "python",
   "nbconvert_exporter": "python",
   "pygments_lexer": "ipython3",
   "version": "3.8.3"
  }
 },
 "nbformat": 4,
 "nbformat_minor": 4
}
