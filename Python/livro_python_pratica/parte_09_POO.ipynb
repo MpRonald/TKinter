{
 "cells": [
  {
   "cell_type": "markdown",
   "metadata": {},
   "source": [
    "# Orientação Objeto"
   ]
  },
  {
   "cell_type": "code",
   "execution_count": 5,
   "metadata": {},
   "outputs": [],
   "source": [
    "class Pessoa:\n",
    "    pass"
   ]
  },
  {
   "cell_type": "code",
   "execution_count": 7,
   "metadata": {},
   "outputs": [],
   "source": [
    "pessoa1 = Pessoa()\n",
    "# Variável pessoa1 instancia a classe Pessoa, incorporando toda sua estrutura"
   ]
  },
  {
   "cell_type": "code",
   "execution_count": 8,
   "metadata": {},
   "outputs": [],
   "source": [
    "pessoa1.nome = Pessoa()\n",
    "# Aplicando sobre pessoa1 nome = 'Fernando' é criado dentro da classe Pessoa  \n",
    "# o objeto/atributo de classe nome com seu respectivo dado/valor 'Fernando'"
   ]
  },
  {
   "cell_type": "code",
   "execution_count": 9,
   "metadata": {},
   "outputs": [],
   "source": [
    "pessoa1.idade = Pessoa()\n",
    "# Da mesma forma, cria o atributo de classe idade, com valor 32"
   ]
  },
  {
   "cell_type": "code",
   "execution_count": 10,
   "metadata": {},
   "outputs": [
    {
     "name": "stdout",
     "output_type": "stream",
     "text": [
      "<__main__.Pessoa object at 0x000001855715C520>\n"
     ]
    }
   ],
   "source": [
    "print(pessoa1.nome)"
   ]
  },
  {
   "cell_type": "markdown",
   "metadata": {},
   "source": [
    "# Criando funções (métodos de classe) dentro de uma classe\n",
    "\n"
   ]
  },
  {
   "cell_type": "code",
   "execution_count": 13,
   "metadata": {},
   "outputs": [
    {
     "name": "stdout",
     "output_type": "stream",
     "text": [
      "Ação 1 sendo executada...\n"
     ]
    }
   ],
   "source": [
    "class Pessoa:    \n",
    "    def acao1(self):    \n",
    "        # Cria o método de classe acao1( ) que realiza uma ação e retorna algum    \n",
    "        # dado ou valor dentro da classe via self.      \n",
    "        print('Ação 1 sendo executada...')  \n",
    "\n",
    "pessoa1 = Pessoa()  # Variável pessoa1 instancia a classe Pessoa( ), \n",
    "                    # incorporando toda sua estrutura  \n",
    "    \n",
    "pessoa1.acao1()  \n",
    "# Variável pessoa1 possui todas as estruturas da classe, sendo assim, consegue  \n",
    "# executar a função/método acao1( ) que por sua vez exibirá em tela uma mensagem  \n",
    "# via função print( )"
   ]
  },
  {
   "cell_type": "markdown",
   "metadata": {},
   "source": [
    "# Criando uma classe com método construtor e objetos internos\n",
    "\n"
   ]
  },
  {
   "cell_type": "code",
   "execution_count": 14,
   "metadata": {},
   "outputs": [],
   "source": [
    "class Pessoa:\n",
    "    def __init__(self, nome, idade, sexo, altura):\n",
    "        self.nome = nome\n",
    "        self.idade = idade\n",
    "        self.sexo = sexo\n",
    "        self.altura = altura"
   ]
  },
  {
   "cell_type": "code",
   "execution_count": 15,
   "metadata": {},
   "outputs": [],
   "source": [
    "pessoa1 = Pessoa('Ronald', 35, 'M', 1.76)"
   ]
  },
  {
   "cell_type": "code",
   "execution_count": 16,
   "metadata": {},
   "outputs": [
    {
     "name": "stdout",
     "output_type": "stream",
     "text": [
      "Ronald 35\n"
     ]
    }
   ],
   "source": [
    "print(pessoa1.nome, pessoa1.idade)"
   ]
  },
  {
   "cell_type": "code",
   "execution_count": 18,
   "metadata": {},
   "outputs": [
    {
     "name": "stdout",
     "output_type": "stream",
     "text": [
      "Olá Ronald, parabéns pelos seu 35 anos de idade!\n"
     ]
    }
   ],
   "source": [
    "print(f\"Olá {pessoa1.nome}, parabéns pelos seu {pessoa1.idade} anos de idade!\")"
   ]
  },
  {
   "cell_type": "markdown",
   "metadata": {},
   "source": [
    "# destrinchando codigo acima\n",
    "class Pessoa:  \n",
    "\n",
    "    def __init__(self, nome, idade, sexo, altura):    \n",
    "        # Método construtor __init__( ) cria objetos/atributos de classe iteráveis    \n",
    "        # por qualquer outra estrutura interna a classe.      \n",
    "        self.nome = nome     \n",
    "            # self.nome cria o objeto nome no escopo global da classe, recebendo um     \n",
    "            # nome a ser repassado pela variávei/objeto que instanciar a classe Pessoa      \n",
    "        self.idade = idade      \n",
    "        self.sexo = sexo      \n",
    "        self.altura = altura  \n",
    " \n",
    "pessoa1 = Pessoa('Fernando', 32, 'M', 1.90)  \n",
    "##### Variável pessoa1 instancia a classe Pessoa, repassando por justaposição  # parâmetros para os objetos nome, idade, sexo e altura.  \n",
    "print(pessoa1.nome, pessoa1.idade)  \n",
    "print(f'Bem vindo {pessoa1.nome}, parabéns pelos seus {pessoa1.idade} anos!!!')\n",
    "\n"
   ]
  },
  {
   "cell_type": "markdown",
   "metadata": {},
   "source": [
    "# Mais de um método de classe dentro de uma classe\n",
    "\n"
   ]
  },
  {
   "cell_type": "code",
   "execution_count": 19,
   "metadata": {},
   "outputs": [],
   "source": [
    "class Pessoa:\n",
    "    ano_atual = 2021\n",
    "    \n",
    "    def __init__(self, nome, idade):\n",
    "        self.nome = nome\n",
    "        self.idade = idade\n",
    "        \n",
    "    def ano_nascimento(self):\n",
    "        ano_nasc = self.ano_atual - self.idade\n",
    "        print(f\"Seu ano de nascimento é: {ano_nasc}\")"
   ]
  },
  {
   "cell_type": "code",
   "execution_count": 22,
   "metadata": {},
   "outputs": [],
   "source": [
    "pessoa1 = Pessoa('Ronald', 36)"
   ]
  },
  {
   "cell_type": "code",
   "execution_count": 23,
   "metadata": {},
   "outputs": [
    {
     "name": "stdout",
     "output_type": "stream",
     "text": [
      "Seu ano de nascimento é: 1985\n",
      "None\n"
     ]
    }
   ],
   "source": [
    "print(pessoa1.ano_nascimento())"
   ]
  },
  {
   "cell_type": "markdown",
   "metadata": {},
   "source": [
    "# destrinchando código acima;\n",
    "class Pessoa:    \n",
    "\n",
    "    ano_atual = 2021    \n",
    "    \n",
    "    def __init__(self, nome, idade):    \n",
    "    # Método construtor/inicializador de objetos      \n",
    "        self.nome = nome      \n",
    "        self.idade = idade    \n",
    "    \n",
    "    def ano_nascimento(self):    \n",
    "    # Método ano_nascimento( ) com comportamento padrão de uma função qualquer      \n",
    "        ano_nasc = self.ano_atual - self.idade      \n",
    "        print(f'Seu ano de nascimento é {ano_nasc}')  \n",
    "        \n",
    "pessoa1 = Pessoa('Fernando', 32)  \n",
    "print(pessoa1.ano_nascimento())  \n",
    "##### Lembrando que nesse exemplo ano_atual é um objeto/atributo da classe,  # e está acessível a todas funções internas, já ano_nasc por exemplo  # é uma variável do escopo da função ano_nascimento(), e não está  # acessível fora dessa função. Funções dentro de classes podem receber  # a nomenclatura de \"métodos\" assim como seus atributos podem ser  # chamados de \"instâncias\".'''\n",
    "\n"
   ]
  },
  {
   "cell_type": "markdown",
   "metadata": {},
   "source": [
    "# Métodos de classe"
   ]
  },
  {
   "cell_type": "code",
   "execution_count": 24,
   "metadata": {},
   "outputs": [],
   "source": [
    "class Pessoa:\n",
    "    ano_atual = 2021\n",
    "    \n",
    "    def __init__(self, nome, idade):\n",
    "        self.nome = nome\n",
    "        self.idade = idade\n",
    "        \n",
    "    @classmethod\n",
    "    def ano_nasc(cls, nome, ano_nascimento):\n",
    "        idade = cls.ano_atual - ano_nascimento\n",
    "        return cls(nome, idade)"
   ]
  },
  {
   "cell_type": "code",
   "execution_count": 25,
   "metadata": {},
   "outputs": [],
   "source": [
    "pessoa2 = Pessoa.ano_nasc('ronald', 1985)"
   ]
  },
  {
   "cell_type": "code",
   "execution_count": 26,
   "metadata": {},
   "outputs": [
    {
     "name": "stdout",
     "output_type": "stream",
     "text": [
      "O ronald tem 36 anos.\n"
     ]
    }
   ],
   "source": [
    "print(f'O {pessoa2.nome} tem {pessoa2.idade} anos.')"
   ]
  },
  {
   "cell_type": "markdown",
   "metadata": {},
   "source": [
    "# Métodos Estáticos\n",
    "##### Aqueles que não possuem instâncias como atributos,  funciona como uma função normal dentro da classe.\n",
    "\n"
   ]
  },
  {
   "cell_type": "code",
   "execution_count": 27,
   "metadata": {},
   "outputs": [],
   "source": [
    "from random import randint"
   ]
  },
  {
   "cell_type": "code",
   "execution_count": 30,
   "metadata": {},
   "outputs": [
    {
     "name": "stdout",
     "output_type": "stream",
     "text": [
      "542\n"
     ]
    }
   ],
   "source": [
    "class Pessoa:\n",
    "    @staticmethod\n",
    "    def gerador_id():\n",
    "        gerador = randint(100, 999)\n",
    "        return gerador\n",
    "\n",
    "print(Pessoa.gerador_id())\n",
    "# Instancia diretamente da classe Pessoa o método de classe gerador_id( )"
   ]
  },
  {
   "cell_type": "code",
   "execution_count": 32,
   "metadata": {},
   "outputs": [
    {
     "name": "stdout",
     "output_type": "stream",
     "text": [
      "<__main__.Pessoa object at 0x00000185572330A0>\n"
     ]
    }
   ],
   "source": [
    "pessoa3 = Pessoa()\n",
    "pessoa3.gerador_id()\n",
    "print(pessoa3)\n",
    "# Apenas como exemplo, retornará o identificador do objeto dentro da classe"
   ]
  },
  {
   "cell_type": "markdown",
   "metadata": {},
   "source": [
    "# @property, Getters e Setters\n",
    "\n"
   ]
  },
  {
   "cell_type": "code",
   "execution_count": 35,
   "metadata": {},
   "outputs": [],
   "source": [
    "class Produto:\n",
    "    def __init__(self, nome, preco):\n",
    "        self.nome = nome\n",
    "        self.preco = preco\n",
    "        \n",
    "    def desconto(self, percentual):\n",
    "        self.preco = self.preco - (self.preco * (percentual / 100))\n",
    "        \n",
    "# GETTER;\n",
    "@property\n",
    "def preco(self):\n",
    "    return self._preco\n",
    "\n",
    "#SETTER;\n",
    "@preco.setter\n",
    "def preco(self, valor):\n",
    "    if isintance(valor, str):\n",
    "        valor = (float(valor.replace('R$', '')))\n",
    "    self.preco = valor"
   ]
  },
  {
   "cell_type": "code",
   "execution_count": 38,
   "metadata": {},
   "outputs": [
    {
     "name": "stdout",
     "output_type": "stream",
     "text": [
      "94.05\n"
     ]
    }
   ],
   "source": [
    "produto1 = Produto('camisa', 99)\n",
    "produto1.desconto(5)\n",
    "print(produto1.preco)"
   ]
  },
  {
   "cell_type": "markdown",
   "metadata": {},
   "source": [
    "Supondo que o usuário passou um valor que não pode ser processado porque foi passado em tipo de dado incorreto <br><br> produto2 = Produto('Calça', \"59,00\")\n",
    "<br><br> produto2.desconto(15)  \n",
    "<br> print(produto2.preco) <br>\n",
    "Irá gerar um erro pois '59' não é um int, então é necessário criar  # uma estrutura de métodos que farão essa correção.\n",
    "\n"
   ]
  },
  {
   "cell_type": "code",
   "execution_count": 40,
   "metadata": {},
   "outputs": [
    {
     "name": "stdout",
     "output_type": "stream",
     "text": [
      "50.15\n"
     ]
    }
   ],
   "source": [
    "produto2 = Produto('calça', 59)\n",
    "produto2.desconto(15)\n",
    "print(produto2.preco)"
   ]
  },
  {
   "cell_type": "markdown",
   "metadata": {},
   "source": [
    "# Atributos de classe \n",
    "##### Variáveis de classe vão ser as variáveis que estarão declaradas  # dentro de uma classe, e que serão atribuídas a toda variável  externa que instanciar essa classe.\n"
   ]
  },
  {
   "cell_type": "code",
   "execution_count": 47,
   "metadata": {},
   "outputs": [
    {
     "name": "stdout",
     "output_type": "stream",
     "text": [
      "101001\n",
      "101001\n"
     ]
    }
   ],
   "source": [
    "class Classe1:    \n",
    "    var1 = 101001  \n",
    "\n",
    "variavel1 = Classe1()  \n",
    "\n",
    "print(Classe1.var1)  \n",
    "print(variavel1.var1)\n",
    "\n"
   ]
  },
  {
   "cell_type": "markdown",
   "metadata": {},
   "source": [
    "# Alterando um Atributo da Classe"
   ]
  },
  {
   "cell_type": "code",
   "execution_count": 49,
   "metadata": {},
   "outputs": [
    {
     "name": "stdout",
     "output_type": "stream",
     "text": [
      "111111\n"
     ]
    }
   ],
   "source": [
    "class Classe1:\n",
    "    var1 = 101001\n",
    "    \n",
    "variavel1 = Classe1()\n",
    "Classe1.var1 = 111111\n",
    "\n",
    "print(Classe1.var1)"
   ]
  },
  {
   "cell_type": "markdown",
   "metadata": {},
   "source": [
    "# Exemplo de aplicação de orientação à objetos"
   ]
  },
  {
   "cell_type": "code",
   "execution_count": 55,
   "metadata": {},
   "outputs": [],
   "source": [
    "class BaseDeDados:\n",
    "    def __init__(self):\n",
    "        self.base = {}\n",
    "        \n",
    "    def inserir(self, nome, fone):\n",
    "        if 'clientes' not in self.base:\n",
    "            self.base['clientes'] = {nome:fone}\n",
    "        else:\n",
    "            self.base['clientes'].update({nome:fone})\n",
    "            \n",
    "    def listar(self):\n",
    "        for n, f in self.base['clientes'].items():\n",
    "            print(n, f)\n",
    "        \n",
    "    def apagar(self, nome):\n",
    "        del self.base['clientes'][nome]"
   ]
  },
  {
   "cell_type": "code",
   "execution_count": 56,
   "metadata": {},
   "outputs": [],
   "source": [
    "clientes = BaseDeDados()\n",
    "clientes.inserir('Ronald', 26429464)\n",
    "clientes.inserir('Lulu', 27431678)\n",
    "clientes.inserir('Toddy', 26420971)"
   ]
  },
  {
   "cell_type": "code",
   "execution_count": 57,
   "metadata": {},
   "outputs": [
    {
     "name": "stdout",
     "output_type": "stream",
     "text": [
      "Ronald 26429464\n",
      "Lulu 27431678\n",
      "Toddy 26420971\n"
     ]
    }
   ],
   "source": [
    "clientes.listar()"
   ]
  },
  {
   "cell_type": "code",
   "execution_count": 58,
   "metadata": {},
   "outputs": [],
   "source": [
    "clientes.apagar('Ronald')"
   ]
  },
  {
   "cell_type": "code",
   "execution_count": 59,
   "metadata": {},
   "outputs": [
    {
     "name": "stdout",
     "output_type": "stream",
     "text": [
      "Lulu 27431678\n",
      "Toddy 26420971\n"
     ]
    }
   ],
   "source": [
    "clientes.listar()"
   ]
  },
  {
   "cell_type": "markdown",
   "metadata": {},
   "source": [
    "# Encapsulamento \n",
    "##### Serve para definir se alguma função de alguma classe será acessível ou não fora dela. Muito pareceido com o public ou private em outras linguagens de programação.\n",
    "\n"
   ]
  },
  {
   "cell_type": "markdown",
   "metadata": {},
   "source": [
    "class BaseDeDados:    \n",
    "    def __init__(self):      \n",
    "        self.dados = {}      \n",
    "        #self._dados = {} declarado como protegido (ainda acessível de fora da classe)      \n",
    "        #self.__dados = {} declarado como privado (inacessível de fora da classe)  \n",
    "        base = BaseDeDados()\n",
    "        \n",
    "print(base.dados)"
   ]
  },
  {
   "cell_type": "code",
   "execution_count": null,
   "metadata": {},
   "outputs": [],
   "source": []
  }
 ],
 "metadata": {
  "kernelspec": {
   "display_name": "Python 3",
   "language": "python",
   "name": "python3"
  },
  "language_info": {
   "codemirror_mode": {
    "name": "ipython",
    "version": 3
   },
   "file_extension": ".py",
   "mimetype": "text/x-python",
   "name": "python",
   "nbconvert_exporter": "python",
   "pygments_lexer": "ipython3",
   "version": "3.8.3"
  }
 },
 "nbformat": 4,
 "nbformat_minor": 4
}
