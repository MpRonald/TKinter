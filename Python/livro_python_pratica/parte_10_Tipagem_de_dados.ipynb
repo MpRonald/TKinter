{
 "cells": [
  {
   "cell_type": "markdown",
   "metadata": {},
   "source": [
    "# Tipagem de Dados Avançada"
   ]
  },
  {
   "cell_type": "code",
   "execution_count": 1,
   "metadata": {},
   "outputs": [
    {
     "name": "stdout",
     "output_type": "stream",
     "text": [
      "Interactive namespace is empty.\n",
      "Variable   Type    Data/Info\n",
      "----------------------------\n",
      "num        int     1987\n"
     ]
    }
   ],
   "source": [
    "%whos\n",
    "num = 1987\n",
    "%whos"
   ]
  },
  {
   "cell_type": "markdown",
   "metadata": {},
   "source": [
    "# Tipagem dinâmica vs estática \n",
    "##### Python é uma linguagem de programação dinamicamente tipada, logo, todos os tipos de dados são automaticamente identificados pelo interpretador.\n",
    "\n"
   ]
  },
  {
   "cell_type": "code",
   "execution_count": 2,
   "metadata": {},
   "outputs": [
    {
     "name": "stdout",
     "output_type": "stream",
     "text": [
      "<class 'int'>\n"
     ]
    }
   ],
   "source": [
    "num = 1985\n",
    "print(type(num))"
   ]
  },
  {
   "cell_type": "code",
   "execution_count": 3,
   "metadata": {},
   "outputs": [
    {
     "name": "stdout",
     "output_type": "stream",
     "text": [
      "<class 'str'>\n"
     ]
    }
   ],
   "source": [
    "num = '1985'\n",
    "print(type(num))"
   ]
  },
  {
   "cell_type": "code",
   "execution_count": 5,
   "metadata": {},
   "outputs": [
    {
     "name": "stdout",
     "output_type": "stream",
     "text": [
      "<class 'int'>\n"
     ]
    }
   ],
   "source": [
    "# tipando manualmente;\n",
    "num = int(1985)\n",
    "print(type(num))"
   ]
  },
  {
   "cell_type": "code",
   "execution_count": 7,
   "metadata": {},
   "outputs": [
    {
     "name": "stdout",
     "output_type": "stream",
     "text": [
      "['ana', 'joao', 'pedro']\n",
      "<class 'list'>\n"
     ]
    }
   ],
   "source": [
    "# tipagem manual via gerador de objeto;\n",
    "nomes: list = ['ana', 'joao', 'pedro']\n",
    "print(nomes)\n",
    "print(type(nomes))"
   ]
  },
  {
   "cell_type": "code",
   "execution_count": 9,
   "metadata": {},
   "outputs": [],
   "source": [
    "idades: tuple = (74,33,61)"
   ]
  },
  {
   "cell_type": "code",
   "execution_count": 10,
   "metadata": {},
   "outputs": [
    {
     "name": "stdout",
     "output_type": "stream",
     "text": [
      "(74, 33, 61)\n",
      "<class 'tuple'>\n"
     ]
    }
   ],
   "source": [
    "print(idades)\n",
    "print(type(idades))"
   ]
  },
  {
   "cell_type": "code",
   "execution_count": 11,
   "metadata": {},
   "outputs": [
    {
     "name": "stdout",
     "output_type": "stream",
     "text": [
      "{'nomes': <class 'list'>, 'idades': <class 'tuple'>, 'var1': <class 'set'>, 'var2': <class 'list'>, 'var3': <class 'tuple'>, 'var4': <class 'dict'>}\n"
     ]
    }
   ],
   "source": [
    "var1: set = {}\n",
    "var2: list = []\n",
    "var3: tuple = ()\n",
    "var4: dict = {}\n",
    "    \n",
    "print(__annotations__) # reorna cada variavel e seu respectivo dados;"
   ]
  },
  {
   "cell_type": "code",
   "execution_count": 12,
   "metadata": {},
   "outputs": [
    {
     "name": "stdout",
     "output_type": "stream",
     "text": [
      "['nomes', 'idades', 'var1', 'var2', 'var3', 'var4']\n"
     ]
    }
   ],
   "source": [
    "print(list(__annotations__))"
   ]
  },
  {
   "cell_type": "markdown",
   "metadata": {},
   "source": [
    "# Tipo Esperado e Tipo Retornado"
   ]
  },
  {
   "cell_type": "code",
   "execution_count": 15,
   "metadata": {},
   "outputs": [],
   "source": [
    "def dobro_valor(num: int) -> float:\n",
    "    return num * 2\n",
    "\n",
    "# Nesse caso é esperado que o número fornecido seja do tipo int, e que  \n",
    "# o número retornado pela função seja float. Ainda sim, por conta de o  \n",
    "# Python ser dinamicamente tipado, para evitar erros o interpretador  \n",
    "# pode ignorar tais instruções."
   ]
  },
  {
   "cell_type": "code",
   "execution_count": 1,
   "metadata": {},
   "outputs": [],
   "source": [
    "# Definindo manualmente o tipo de dado da variável e de seu atributo \n",
    "from typing import List\n",
    "# Também é possível importar Dict, Tuple e Set"
   ]
  },
  {
   "cell_type": "code",
   "execution_count": 2,
   "metadata": {},
   "outputs": [
    {
     "name": "stdout",
     "output_type": "stream",
     "text": [
      "<class 'list'>\n",
      "<class 'int'>\n",
      "<class 'list'>\n",
      "<class 'str'>\n",
      "{'digitos1': typing.List[int], 'digitos2': typing.List[str]}\n"
     ]
    }
   ],
   "source": [
    "digitos1: List[int] = [2, 4, 6, 8]  \n",
    "digitos2: List[str] = ['1', '3', '5', '7']  \n",
    "    \n",
    "print(type(digitos1))  \n",
    "print(type(digitos1[0]))  \n",
    "print(type(digitos2))  \n",
    "print(type(digitos2[0]))  \n",
    "print(__annotations__)  \n",
    "\n",
    "# Irá retornar digitos1': typing.List[int] e 'digitos2': typing.List[str]  \n",
    "# pois digitos1 é uma lista de inteiros assim como digitos2 é uma lista  # de strings.\n",
    "\n"
   ]
  },
  {
   "cell_type": "code",
   "execution_count": null,
   "metadata": {},
   "outputs": [],
   "source": []
  }
 ],
 "metadata": {
  "kernelspec": {
   "display_name": "Python 3",
   "language": "python",
   "name": "python3"
  },
  "language_info": {
   "codemirror_mode": {
    "name": "ipython",
    "version": 3
   },
   "file_extension": ".py",
   "mimetype": "text/x-python",
   "name": "python",
   "nbconvert_exporter": "python",
   "pygments_lexer": "ipython3",
   "version": "3.8.3"
  }
 },
 "nbformat": 4,
 "nbformat_minor": 4
}
