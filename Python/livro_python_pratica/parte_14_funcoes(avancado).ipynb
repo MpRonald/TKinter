{
 "cells": [
  {
   "cell_type": "markdown",
   "metadata": {},
   "source": [
    "# Funções (Avançado) \n",
    "# Parâmetros em justaposição e parâmetros nomeados # Justaposição = ordenados sequencialmente \n",
    "#            1º    2º     3º\n"
   ]
  },
  {
   "cell_type": "code",
   "execution_count": 10,
   "metadata": {},
   "outputs": [],
   "source": [
    "def pessoa1(nome, idade, funcao):\n",
    "    print(f'{nome.title()} tem {idade} anos de idade e faz a seguinte função: {funcao.title()}')"
   ]
  },
  {
   "cell_type": "code",
   "execution_count": 11,
   "metadata": {},
   "outputs": [
    {
     "name": "stdout",
     "output_type": "stream",
     "text": [
      "Ronald tem 35 anos de idade e faz a seguinte função: Manager\n"
     ]
    }
   ],
   "source": [
    "p1 = pessoa1('ronald', 35, 'manager')"
   ]
  },
  {
   "cell_type": "markdown",
   "metadata": {},
   "source": [
    "# Função com número de parâmetros indefinido \n",
    "##### *args - marcador para múltiplos parâmetros\n",
    "\n"
   ]
  },
  {
   "cell_type": "code",
   "execution_count": 14,
   "metadata": {},
   "outputs": [
    {
     "name": "stdout",
     "output_type": "stream",
     "text": [
      "ronald = ()\n",
      "ronald = ('idade=35', 'profissão=manager')\n"
     ]
    }
   ],
   "source": [
    "def msg(nome, *args):\n",
    "    print(f'{nome} = {args}')\n",
    "    \n",
    "exe1 = msg('ronald')\n",
    "exe2 = msg('ronald', 'idade=35', 'profissão=manager')\n",
    "\n",
    "# O primeiro parâmetro nome é obrigatório, *args reserva espaço para que  \n",
    "# outros parâmetros sejam repassados conforme necessário."
   ]
  },
  {
   "cell_type": "code",
   "execution_count": 16,
   "metadata": {},
   "outputs": [
    {
     "name": "stdout",
     "output_type": "stream",
     "text": [
      "103\n"
     ]
    }
   ],
   "source": [
    "def soma(*args):\n",
    "    num = 0\n",
    "    for valordigitado in args:\n",
    "        num += valordigitado\n",
    "    print(num)\n",
    "    \n",
    "soma = soma(14,89)\n",
    "# É possível definir diretamente que a função tem parâmetros indefinidos"
   ]
  },
  {
   "cell_type": "markdown",
   "metadata": {},
   "source": [
    "# Função com número de parâmetros indefinido, porém nomeados \n",
    "##### **kwargs - marcador para parâmetros nomeados\n",
    "\n",
    "\n",
    "\n"
   ]
  },
  {
   "cell_type": "code",
   "execution_count": 18,
   "metadata": {},
   "outputs": [
    {
     "name": "stdout",
     "output_type": "stream",
     "text": [
      "{'nome': 'ronald'}\n",
      "{'nome': 'toddy', 'idade': 5}\n",
      "{'nome': 'lulu', 'idade': 28, 'funcao': 'masterchef'}\n"
     ]
    }
   ],
   "source": [
    "def identificacao(**kwargs):\n",
    "    print(kwargs)\n",
    "\n",
    "pessoa1 = identificacao(nome='ronald')\n",
    "pessoa2 = identificacao(nome='toddy', idade=5)\n",
    "pessoa3 = identificacao(nome='lulu', idade=28, funcao='masterchef')"
   ]
  },
  {
   "cell_type": "markdown",
   "metadata": {},
   "source": [
    "# Função que recebe parâmetros tanto por justaposição quanto nomeados\n",
    "\n"
   ]
  },
  {
   "cell_type": "code",
   "execution_count": 19,
   "metadata": {},
   "outputs": [],
   "source": [
    "def identificacao(*args, **kwargs):\n",
    "    print(args, kwargs)"
   ]
  },
  {
   "cell_type": "code",
   "execution_count": 22,
   "metadata": {},
   "outputs": [
    {
     "name": "stdout",
     "output_type": "stream",
     "text": [
      "('ronald',) {'idade': 35}\n"
     ]
    }
   ],
   "source": [
    "pessoa = identificacao('ronald', idade=35)"
   ]
  },
  {
   "cell_type": "markdown",
   "metadata": {},
   "source": [
    "# Empacotamento e desempacotamento \n",
    "##### Criando uma função que recebe parâmetros tanto por justaposição  quanto nomeados, a partir de uma lista e de um dicionário,  desempacotando os elementos e reorganizando os mesmos na função:\n",
    "\n"
   ]
  },
  {
   "cell_type": "code",
   "execution_count": 24,
   "metadata": {},
   "outputs": [],
   "source": [
    "numeros = (33, 1987, 2020, 19.90, 1000000000)\n",
    "dados = {'nome': 'ronald', 'profession': 'manager'}"
   ]
  },
  {
   "cell_type": "code",
   "execution_count": 25,
   "metadata": {},
   "outputs": [],
   "source": [
    "def identificacao(*args, **kwargs):\n",
    "    print(args)\n",
    "    print(kwargs)"
   ]
  },
  {
   "cell_type": "code",
   "execution_count": 26,
   "metadata": {},
   "outputs": [
    {
     "name": "stdout",
     "output_type": "stream",
     "text": [
      "(33, 1987, 2020, 19.9, 1000000000)\n",
      "{'nome': 'ronald', 'profession': 'manager'}\n"
     ]
    }
   ],
   "source": [
    "identificacao(*numeros, **dados)"
   ]
  },
  {
   "cell_type": "markdown",
   "metadata": {},
   "source": [
    "# Funções aninhadas"
   ]
  },
  {
   "cell_type": "markdown",
   "metadata": {},
   "source": [
    "###### Basicamente quando se fala em uma função aninhada significa que  temos uma função dentro de outra função. Em algumas literaturas  essa particularidade é chamada como funções de alta ordem e de  baixa ordem, sendo a se alta a função principal, e a de baixa a  # função interna a função principal.\n",
    "\n"
   ]
  },
  {
   "cell_type": "code",
   "execution_count": 27,
   "metadata": {},
   "outputs": [
    {
     "name": "stdout",
     "output_type": "stream",
     "text": [
      "olá quem fala?\n",
      "tchau até mais\n"
     ]
    }
   ],
   "source": [
    "def funcao1(): # função externa;\n",
    "    print('olá quem fala?')\n",
    "    def funcao2(): # função interna;\n",
    "        print('tchau até mais')\n",
    "    funcao2()\n",
    "    \n",
    "funcao1()"
   ]
  },
  {
   "cell_type": "code",
   "execution_count": 29,
   "metadata": {},
   "outputs": [
    {
     "name": "stdout",
     "output_type": "stream",
     "text": [
      "33\n"
     ]
    }
   ],
   "source": [
    "# funções aninhadas interagindo;\n",
    "def make_adder(x):\n",
    "    def add(y):\n",
    "        return x + y\n",
    "    return add\n",
    "        \n",
    "plus5 = make_adder(23)\n",
    "print(plus5(10))"
   ]
  },
  {
   "cell_type": "markdown",
   "metadata": {},
   "source": [
    "# Parâmetro/argumento somente posicional\n",
    "\n"
   ]
  },
  {
   "cell_type": "code",
   "execution_count": 31,
   "metadata": {},
   "outputs": [
    {
     "name": "stdout",
     "output_type": "stream",
     "text": [
      "Olá Fernando, você tem 33 anos.\n"
     ]
    },
    {
     "ename": "TypeError",
     "evalue": "msg() got some positional-only arguments passed as keyword arguments: 'nome'",
     "output_type": "error",
     "traceback": [
      "\u001b[1;31m---------------------------------------------------------------------------\u001b[0m",
      "\u001b[1;31mTypeError\u001b[0m                                 Traceback (most recent call last)",
      "\u001b[1;32m<ipython-input-31-be610b33b3bb>\u001b[0m in \u001b[0;36m<module>\u001b[1;34m\u001b[0m\n\u001b[0;32m      6\u001b[0m \u001b[1;31m# Irá executar normalmente repassando esses dados como parâmetros\u001b[0m\u001b[1;33m\u001b[0m\u001b[1;33m\u001b[0m\u001b[1;33m\u001b[0m\u001b[0m\n\u001b[0;32m      7\u001b[0m \u001b[1;33m\u001b[0m\u001b[0m\n\u001b[1;32m----> 8\u001b[1;33m \u001b[0mprint\u001b[0m\u001b[1;33m(\u001b[0m\u001b[0mmsg\u001b[0m\u001b[1;33m(\u001b[0m\u001b[0mnome\u001b[0m \u001b[1;33m=\u001b[0m \u001b[1;34m'Alberto'\u001b[0m\u001b[1;33m,\u001b[0m \u001b[0midade\u001b[0m \u001b[1;33m=\u001b[0m \u001b[1;36m67\u001b[0m\u001b[1;33m)\u001b[0m\u001b[1;33m)\u001b[0m\u001b[1;33m\u001b[0m\u001b[1;33m\u001b[0m\u001b[0m\n\u001b[0m\u001b[0;32m      9\u001b[0m \u001b[1;31m# Irá gerar um erro pois o parâmetro nome é somente posicional,\u001b[0m\u001b[1;33m\u001b[0m\u001b[1;33m\u001b[0m\u001b[1;33m\u001b[0m\u001b[0m\n\u001b[0;32m     10\u001b[0m \u001b[1;31m# em outras palavras, não aceita nenhum atributo nomeado.\u001b[0m\u001b[1;33m\u001b[0m\u001b[1;33m\u001b[0m\u001b[1;33m\u001b[0m\u001b[0m\n",
      "\u001b[1;31mTypeError\u001b[0m: msg() got some positional-only arguments passed as keyword arguments: 'nome'"
     ]
    }
   ],
   "source": [
    "def msg(nome, /, idade):      \n",
    "    # tudo o que estiver à esquerda de \" / \" será somente posicional      \n",
    "    return f'Olá {nome}, você tem {idade} anos.'  \n",
    "\n",
    "print(msg('Fernando', idade = 33))  \n",
    "# Irá executar normalmente repassando esses dados como parâmetros  \n",
    "\n",
    "print(msg(nome = 'Alberto', idade = 67))  \n",
    "# Irá gerar um erro pois o parâmetro nome é somente posicional,  \n",
    "# em outras palavras, não aceita nenhum atributo nomeado.  \n",
    "\n",
    "def msg(nome, idade, /):      \n",
    "# Nesse caso, todos parâmetros serão somente posicionais      \n",
    "    return f'Olá {nome}, você tem {idade} anos.'  \n",
    "\n",
    "print(msg('Fernando', 33))  \n",
    "# Irá executar normalmente repassando esses dados como parâmetros  \n",
    "# inclusive respeitando a justaposição.\n",
    "\n"
   ]
  },
  {
   "cell_type": "code",
   "execution_count": 32,
   "metadata": {},
   "outputs": [
    {
     "name": "stdout",
     "output_type": "stream",
     "text": [
      "Olá Fernando, você tem 33 anos.\n"
     ]
    }
   ],
   "source": [
    "# Parâmetro/argumento obrigatoriamente nomeado \n",
    "def msg(*, nome, idade):      \n",
    "    # tudo o que estiver após \" * \" terá de ser parâmetro nomeado      \n",
    "    return f'Olá {nome}, você tem {idade} anos.'  \n",
    "\n",
    "print(msg(nome = 'Fernando', idade = 33))  \n",
    "# Irá executar normalmente repassando esses dados como parâmetros  \n",
    "# pois ambos são parâmetros nomeados."
   ]
  },
  {
   "cell_type": "code",
   "execution_count": 33,
   "metadata": {},
   "outputs": [
    {
     "name": "stdout",
     "output_type": "stream",
     "text": [
      "Olá Fernando, você tem 33 anos e mede 1.9m.\n"
     ]
    }
   ],
   "source": [
    "# Ambos métodos combinados  \n",
    "def msg(nome, /, idade, *, altura):      \n",
    "    return f'Olá {nome}, você tem {idade} anos e mede {altura}m.'  \n",
    "\n",
    "print(msg('Fernando', 33, altura = 1.90))  \n",
    "# O primeiro parâmetro é posicional, o segundo é justaposto, o terceiro é nomeado"
   ]
  },
  {
   "cell_type": "markdown",
   "metadata": {},
   "source": [
    "# Funções em Python são objetos\n",
    "\n"
   ]
  },
  {
   "cell_type": "code",
   "execution_count": 34,
   "metadata": {},
   "outputs": [
    {
     "name": "stdout",
     "output_type": "stream",
     "text": [
      "2142455739440\n",
      "<class 'function'>\n",
      "['__annotations__', '__call__', '__class__', '__closure__', '__code__', '__defaults__', '__delattr__', '__dict__', '__dir__', '__doc__', '__eq__', '__format__', '__ge__', '__get__', '__getattribute__', '__globals__', '__gt__', '__hash__', '__init__', '__init_subclass__', '__kwdefaults__', '__le__', '__lt__', '__module__', '__name__', '__ne__', '__new__', '__qualname__', '__reduce__', '__reduce_ex__', '__repr__', '__setattr__', '__sizeof__', '__str__', '__subclasshook__']\n"
     ]
    }
   ],
   "source": [
    "def msg(nome):\n",
    "    print(f'Olá {nome}!!!')\n",
    "\n",
    "print(id(msg))\n",
    "# retornará o número identificador do objeto alocado em memória\n",
    "\n",
    "print(type(msg))  \n",
    "# retornará o tipo de objeto, neste caso, 'function'  \n",
    "\n",
    "print(dir(msg))  \n",
    "# retornará os builtins padrão para toda e qualquer função"
   ]
  },
  {
   "cell_type": "code",
   "execution_count": null,
   "metadata": {},
   "outputs": [],
   "source": []
  }
 ],
 "metadata": {
  "kernelspec": {
   "display_name": "Python 3",
   "language": "python",
   "name": "python3"
  },
  "language_info": {
   "codemirror_mode": {
    "name": "ipython",
    "version": 3
   },
   "file_extension": ".py",
   "mimetype": "text/x-python",
   "name": "python",
   "nbconvert_exporter": "python",
   "pygments_lexer": "ipython3",
   "version": "3.8.3"
  }
 },
 "nbformat": 4,
 "nbformat_minor": 4
}
