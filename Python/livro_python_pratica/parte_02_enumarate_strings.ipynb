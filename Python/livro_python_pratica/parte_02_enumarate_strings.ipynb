{
 "cells": [
  {
   "cell_type": "markdown",
   "metadata": {},
   "source": [
    "## Função enumerate()"
   ]
  },
  {
   "cell_type": "code",
   "execution_count": 1,
   "metadata": {},
   "outputs": [
    {
     "name": "stdout",
     "output_type": "stream",
     "text": [
      "[0, 'R']\n",
      "[1, 'o']\n",
      "[2, 'n']\n",
      "[3, 'a']\n",
      "[4, 'l']\n",
      "[5, 'd']\n"
     ]
    }
   ],
   "source": [
    "nome = \"Ronald\"\n",
    "n_indice = 0\n",
    "\n",
    "for n_indice in range(len(nome)):\n",
    "    print([n_indice, nome[n_indice]])"
   ]
  },
  {
   "cell_type": "code",
   "execution_count": 2,
   "metadata": {},
   "outputs": [
    {
     "name": "stdout",
     "output_type": "stream",
     "text": [
      "0 R\n",
      "1 o\n",
      "2 n\n",
      "3 a\n",
      "4 l\n",
      "5 d\n"
     ]
    }
   ],
   "source": [
    "# utilizando o codigo anterior com a função enumerate();\n",
    "for n_indice, valor in enumerate(nome):\n",
    "    print(n_indice, valor)"
   ]
  },
  {
   "cell_type": "markdown",
   "metadata": {},
   "source": [
    "o enumerate automaticamente realiza a contagem de elementos associados a uma determinada variavel;"
   ]
  },
  {
   "cell_type": "markdown",
   "metadata": {},
   "source": [
    "# Strings - Sintaxe básica"
   ]
  },
  {
   "cell_type": "code",
   "execution_count": 3,
   "metadata": {},
   "outputs": [],
   "source": [
    "nome = 'atributo alfanumerico'"
   ]
  },
  {
   "cell_type": "code",
   "execution_count": 4,
   "metadata": {},
   "outputs": [
    {
     "name": "stdout",
     "output_type": "stream",
     "text": [
      "A frase tem 42 caracteres!\n"
     ]
    }
   ],
   "source": [
    "# contando o nº de caracteres de uma string;\n",
    "frase = 'Sonho quem nunca teve um sonho pra sonhar!'\n",
    "numero_caracteres = len(frase)\n",
    "print(f\"A frase tem {numero_caracteres} caracteres!\")"
   ]
  },
  {
   "cell_type": "code",
   "execution_count": 5,
   "metadata": {},
   "outputs": [
    {
     "name": "stdout",
     "output_type": "stream",
     "text": [
      "Numero de espaço 7\n",
      "42\n",
      "A frase tem 42 caracteres!\n",
      "A frase tem 35 caracteres sem espaço!\n"
     ]
    }
   ],
   "source": [
    "# contando caracteres desconsiderando os espaços;\n",
    "frase = 'Sonho quem nunca teve um sonho pra sonhar!'\n",
    "numero_caracteres = len(frase)\n",
    "espacos = frase.count(' ')\n",
    "print(f\"Numero de espaço {espacos}\")\n",
    "print(numero_caracteres)\n",
    "print(f\"A frase tem {numero_caracteres} caracteres!\")\n",
    "print(f\"A frase tem {numero_caracteres - espacos} caracteres sem espaço!\")"
   ]
  },
  {
   "cell_type": "code",
   "execution_count": 6,
   "metadata": {},
   "outputs": [
    {
     "name": "stdout",
     "output_type": "stream",
     "text": [
      "Frase original: Sonho quem nunca teve um sonho pra sonhar!\n",
      "Frase alterada: Eu sei quem nunca teve um sonho pra sonhar!\n"
     ]
    }
   ],
   "source": [
    "# substituindo elementos da string;\n",
    "print(f\"Frase original: {frase}\")\n",
    "frase_alterada = frase.replace(\"Sonho\", \"Eu sei\") # passamos dois parametros\n",
    "# o primeiro a frase/palavra que será alterada;\n",
    "# o segundo a frase/palavra nova;\n",
    "print(f\"Frase alterada: {frase_alterada}\")"
   ]
  },
  {
   "cell_type": "code",
   "execution_count": 7,
   "metadata": {},
   "outputs": [
    {
     "name": "stdout",
     "output_type": "stream",
     "text": [
      "esta frase tem 3 letra a\n",
      "esta frase tem 3 letra e\n",
      "esta frase tem 0 letra i\n",
      "esta frase tem 5 letra o\n",
      "esta frase tem 3 letra u\n"
     ]
    }
   ],
   "source": [
    "# contando quantos de um tipo de caractere tem na frase;\n",
    "print(f\"esta frase tem {frase.count('a')} letra a\")\n",
    "print(f\"esta frase tem {frase.count('e')} letra e\")\n",
    "print(f\"esta frase tem {frase.count('i')} letra i\")\n",
    "print(f\"esta frase tem {frase.count('o')} letra o\")\n",
    "print(f\"esta frase tem {frase.count('u')} letra u\")"
   ]
  },
  {
   "cell_type": "code",
   "execution_count": 8,
   "metadata": {},
   "outputs": [
    {
     "name": "stdout",
     "output_type": "stream",
     "text": [
      "A posição letra 't' no indice é 17\n"
     ]
    }
   ],
   "source": [
    "# exibindo a posicao do caracter no indice;\n",
    "print(f\"A posição letra 't' no indice é {frase.find('t')}\")"
   ]
  },
  {
   "cell_type": "code",
   "execution_count": 9,
   "metadata": {},
   "outputs": [
    {
     "data": {
      "text/plain": [
       "'t'"
      ]
     },
     "execution_count": 9,
     "metadata": {},
     "output_type": "execute_result"
    }
   ],
   "source": [
    "# verificando o indice 17;\n",
    "frase[17]"
   ]
  },
  {
   "cell_type": "code",
   "execution_count": 10,
   "metadata": {},
   "outputs": [
    {
     "name": "stdout",
     "output_type": "stream",
     "text": [
      "A frase desmenbrada palavra por palavra:\n",
      " ['Sonho', 'quem', 'nunca', 'teve', 'um', 'sonho', 'pra', 'sonhar!']\n"
     ]
    }
   ],
   "source": [
    "# separando a string palvara por palavra;\n",
    "print(f\"A frase desmenbrada palavra por palavra:\\n {frase.split()}\")"
   ]
  },
  {
   "cell_type": "code",
   "execution_count": 11,
   "metadata": {},
   "outputs": [
    {
     "name": "stdout",
     "output_type": "stream",
     "text": [
      "fatiando uma parte da frase -> o quem n\n",
      "fatiando do começo da frase até o indice 8 -> Sonho qu\n",
      "fatiando a frase do indice 8 até o final-> em nunca teve um sonho pra sonhar!\n"
     ]
    }
   ],
   "source": [
    "# fatiando uma string pelo indice;\n",
    "print(f\"fatiando uma parte da frase -> {frase[4:12]}\")\n",
    "print(f\"fatiando do começo da frase até o indice 8 -> {frase[:8]}\")\n",
    "print(f\"fatiando a frase do indice 8 até o final-> {frase[8:]}\")"
   ]
  },
  {
   "cell_type": "code",
   "execution_count": 12,
   "metadata": {},
   "outputs": [
    {
     "name": "stdout",
     "output_type": "stream",
     "text": [
      "Imprimindo as strings concatenadas -> Ronald Marques\n"
     ]
    }
   ],
   "source": [
    "# concatenando strings\n",
    "nome = \"Ronald\"\n",
    "sobre_nome = \"Marques\"\n",
    "nome_completo = nome + ' ' + sobre_nome\n",
    "print(f\"Imprimindo as strings concatenadas -> {nome_completo}\")"
   ]
  },
  {
   "cell_type": "code",
   "execution_count": 13,
   "metadata": {},
   "outputs": [
    {
     "name": "stdout",
     "output_type": "stream",
     "text": [
      "anos está em aviso? True\n",
      "gestante está em aviso? False\n"
     ]
    }
   ],
   "source": [
    "# peradores lógicos em um string\n",
    "aviso = 'Não é permitida a entrada de menores de 18 anos!'\n",
    "print(f\"anos está em aviso? {'anos' in aviso}\")\n",
    "print(f\"gestante está em aviso? {'gestante' in aviso}\")"
   ]
  },
  {
   "cell_type": "code",
   "execution_count": 14,
   "metadata": {},
   "outputs": [
    {
     "name": "stdout",
     "output_type": "stream",
     "text": [
      "Modificando somente para letras minusculas:\n",
      " por favor voltem para seus lugares!\n",
      "Modificando somente para letras MAISCULAS:\n",
      " POR FAVOR VOLTEM PARA SEUS LUGARES!\n"
     ]
    }
   ],
   "source": [
    "# Letras maiusculos e minuscula em uma string;\n",
    "alerta = \"Por favor voltem para seus lugares!\"\n",
    "print(f\"Modificando somente para letras minusculas:\\n {alerta.lower()}\")\n",
    "print(f\"Modificando somente para letras MAISCULAS:\\n {alerta.upper()}\")"
   ]
  },
  {
   "cell_type": "code",
   "execution_count": 15,
   "metadata": {},
   "outputs": [
    {
     "name": "stdout",
     "output_type": "stream",
     "text": [
      "Frase original: voar voar, subir subir, ir por onde for!\n",
      "\n",
      "Frase com letras iniciais MAIUSCULAS:\n",
      " Voar Voar, Subir Subir, Ir Por Onde For!\n"
     ]
    }
   ],
   "source": [
    "# Colocado as letras inicias em maiusculo;\n",
    "frase = \"voar voar, subir subir, ir por onde for!\"\n",
    "print(f\"Frase original: {frase}\\n\")\n",
    "print(f\"Frase com letras iniciais MAIUSCULAS:\\n {frase.title()}\")"
   ]
  },
  {
   "cell_type": "code",
   "execution_count": 16,
   "metadata": {},
   "outputs": [
    {
     "name": "stdout",
     "output_type": "stream",
     "text": [
      "Num1 é um <class 'int'>\n",
      "Agora num1 é uma <class 'str'>\n"
     ]
    }
   ],
   "source": [
    "# realizando casting de outro tipo de dado para str;\n",
    "num1 = 10\n",
    "print(f\"Num1 é um {type(num1)}\")\n",
    "num1 = str(num1)\n",
    "print(f\"Agora num1 é uma {type(num1)}\")"
   ]
  },
  {
   "cell_type": "code",
   "execution_count": 17,
   "metadata": {},
   "outputs": [
    {
     "name": "stdout",
     "output_type": "stream",
     "text": [
      "                           Quando o inverno chegar!\n",
      "Imprindo a string normalizada:\n",
      " Quando o inverno chegar! \n"
     ]
    }
   ],
   "source": [
    "# Removendo espaços desnecessários em uma string;\n",
    "frase = \"                           Quando o inverno chegar!\"\n",
    "print(frase)\n",
    "print(f\"Imprindo a string normalizada:\\n {frase.strip()} \")"
   ]
  },
  {
   "cell_type": "code",
   "execution_count": 18,
   "metadata": {},
   "outputs": [
    {
     "name": "stdout",
     "output_type": "stream",
     "text": [
      "Frase com espaços: \n",
      "   The magic ballom, super fantastic the world is more fun!        \n",
      "\n",
      "Removendo espaços desnecessários à direita:\n",
      "   The magic ballom, super fantastic the world is more fun!\n",
      "\n",
      "Removendo espaços desnecessários à esquerda:\n",
      "The magic ballom, super fantastic the world is more fun!        \n"
     ]
    }
   ],
   "source": [
    "# removendo espaço desnecessários na direita e a esquerda;\n",
    "frase = \"   The magic ballom, super fantastic the world is more fun!        \"\n",
    "print(f\"Frase com espaços: \\n{frase}\\n\")\n",
    "print(f\"Removendo espaços desnecessários à direita:\\n{frase.rstrip()}\\n\")\n",
    "print(f\"Removendo espaços desnecessários à esquerda:\\n{frase.lstrip()}\")"
   ]
  },
  {
   "cell_type": "code",
   "execution_count": 19,
   "metadata": {},
   "outputs": [
    {
     "name": "stdout",
     "output_type": "stream",
     "text": [
      "Frase ajustada à esquerda:\n",
      " voar voar, subir subir, ir por onde for!          \n",
      "Frase ajustada à direita:\n",
      "           voar voar, subir subir, ir por onde for!\n",
      "Frase ajustada ao centro:\n",
      "      voar voar, subir subir, ir por onde for!     \n"
     ]
    }
   ],
   "source": [
    "# adicionando espaços antes e depois da string;\n",
    "frase = \"voar voar, subir subir, ir por onde for!\"\n",
    "print(f\"Frase ajustada à esquerda:\\n {frase.ljust(50)}\") # ajuste a esquerda;\n",
    "print(f\"Frase ajustada à direita:\\n {frase.rjust(50)}\") # ajuste a direita;\n",
    "print(f\"Frase ajustada ao centro:\\n {frase.center(50)}\") # ajustada ao centro;"
   ]
  },
  {
   "cell_type": "markdown",
   "metadata": {},
   "source": [
    "Resumo de todos métodos inclusos nos built-ins <br><br>capitalize()# Converte o primeiro caractere para maiúsculo <br><br>  casefold() #\n",
    "Converte uma string para letras minúsculas  <br><br>center()  # Retorna uma string centralizada<br><br>  count()  # Retorna o número de vezes em que um elemento aparece na string  <br><br>encode()  # Retorna uma versão convertida da string (parametrizar com o tipo de texto, ex: utf-8) <br><br> endswith()  # Dado um dado/valor a ser usado para identificador do fim do texto, retornará True caso o texto de fato termine com tal dado <br><br> expandtabs()  # Define o tamanho da tabulação do texto (margens)<br><br>  find()  # Busca no texto um determinado elemento, retornando a posição de índice onde o mesmo foi localizado <br><br> index()  # Dada uma certa palavra, retorna o número de índice onde a mesma foi localizada por primeiro <br><br> isalnum()  # Retorna True se todos os caracteres forem de um tipo numérico <br><br> isalpha()  # Retorna True se todos os caracteres forem alfanuméricos, sem símbolos especiais  <br><br>isdecimal()  # Retorna True se todos os elementos forem do tipo numérico com casa decimal <br><br> isdigit()  # Retorna True se todos os elementos forem dígitos <br><br> islower()  # Retorna True se todos os caracteres da string estiverem em minúsculo <br><br> isnumeric()  # Retorna True se todos os elementos forem números, sem símbolos especiais<br><br>  isspace()  # Retorna True se todos os elementos de uma string forem espaços em branco <br><br> istitle()  # Retorna True se todas as palavras de uma frase forem iniciadas com letra maiúscula  <br><br>isupper()  # Retorna True se todas as letras de uma string forem letras maiúsculas <br><br> join()  # Junta uma nova string ao final da primeira usada como referência <br><br> ljust()  # Alinha à esquerda uma string <br><br> rjust()  # Alinha à direita uma string  <br><br>lower()  # Converte todos elementos de uma string para letra minúscula  lstrip()  # Remove todos os espaços à esquerda de uma string <br><br> rstrip()  # Remove todos os espaços à direita de uma string<br><br>  maketrans()  # Retorna uma tradução para a string a partir de outra variável<br><br>  partition()  # Retorna uma tupla onde a string original é dividida em 3 partes <br><br> replace()  # Substitui um elemento de uma string por outro<br><br>  rfind()  # Busca por uma determinada string mas retorna a última instancia da mesma encontrada <br><br> rindex()  # Busca por uma determinada string mas retorna o último número de índice onde a mesma foi encontrada <br><br> startswith()  # Com base em uma palavra-chave, retorna True caso essa palavra seja a primeira da string <br><br> title()  # Converte o primeiro caractere de cada string para maiúsculo <br><br> translate()  # Retorna uma string traduzida com base em informação contida em uma variável <br><br> upper()  # Converte toda a string para letras maiúsculas\n",
    "\n",
    " "
   ]
  },
  {
   "cell_type": "code",
   "execution_count": null,
   "metadata": {},
   "outputs": [],
   "source": []
  }
 ],
 "metadata": {
  "kernelspec": {
   "display_name": "Python 3",
   "language": "python",
   "name": "python3"
  },
  "language_info": {
   "codemirror_mode": {
    "name": "ipython",
    "version": 3
   },
   "file_extension": ".py",
   "mimetype": "text/x-python",
   "name": "python",
   "nbconvert_exporter": "python",
   "pygments_lexer": "ipython3",
   "version": "3.8.3"
  }
 },
 "nbformat": 4,
 "nbformat_minor": 4
}
