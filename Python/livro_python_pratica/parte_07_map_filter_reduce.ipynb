{
 "cells": [
  {
   "cell_type": "markdown",
   "metadata": {},
   "source": [
    "# Map\n"
   ]
  },
  {
   "cell_type": "code",
   "execution_count": 1,
   "metadata": {},
   "outputs": [],
   "source": [
    "lista = [1,2,3,4,5,6,7,8,9,]"
   ]
  },
  {
   "cell_type": "code",
   "execution_count": 4,
   "metadata": {},
   "outputs": [],
   "source": [
    "nova_lista = map(lambda x: x * 2, lista) # forma 01"
   ]
  },
  {
   "cell_type": "code",
   "execution_count": 5,
   "metadata": {},
   "outputs": [],
   "source": [
    "nova_lista2 = [x * 2 for x in lista]"
   ]
  },
  {
   "cell_type": "code",
   "execution_count": 6,
   "metadata": {},
   "outputs": [
    {
     "name": "stdout",
     "output_type": "stream",
     "text": [
      "[1, 2, 3, 4, 5, 6, 7, 8, 9]\n"
     ]
    }
   ],
   "source": [
    "print(lista)"
   ]
  },
  {
   "cell_type": "code",
   "execution_count": 7,
   "metadata": {},
   "outputs": [
    {
     "name": "stdout",
     "output_type": "stream",
     "text": [
      "[2, 4, 6, 8, 10, 12, 14, 16, 18]\n"
     ]
    }
   ],
   "source": [
    "print(list(nova_lista))"
   ]
  },
  {
   "cell_type": "code",
   "execution_count": 8,
   "metadata": {},
   "outputs": [
    {
     "name": "stdout",
     "output_type": "stream",
     "text": [
      "[2, 4, 6, 8, 10, 12, 14, 16, 18]\n"
     ]
    }
   ],
   "source": [
    "print(nova_lista2)"
   ]
  },
  {
   "cell_type": "markdown",
   "metadata": {},
   "source": [
    "map( ) permite iterar individualmente sobre cada elemento de um contêiner de dados.\n",
    "\n"
   ]
  },
  {
   "cell_type": "code",
   "execution_count": 27,
   "metadata": {},
   "outputs": [],
   "source": [
    "lista = [1,2,3,4,5,6,7,8,9]"
   ]
  },
  {
   "cell_type": "code",
   "execution_count": 28,
   "metadata": {},
   "outputs": [],
   "source": [
    "nova_lista = map(lambda x: x * 2, lista)\n",
    "# map( ) recebe como parâmetros em justaposição uma função (podendo ser lambda)  \n",
    "# seguido de uma variável onde irá iterar sobre seus dados."
   ]
  },
  {
   "cell_type": "code",
   "execution_count": 29,
   "metadata": {},
   "outputs": [
    {
     "name": "stdout",
     "output_type": "stream",
     "text": [
      "Lista original: [1, 2, 3, 4, 5, 6, 7, 8, 9]\n",
      "Lista alterada pelo map: [2, 4, 6, 8, 10, 12, 14, 16, 18]\n"
     ]
    }
   ],
   "source": [
    "print(f\"Lista original: {lista}\")\n",
    "print(f\"Lista alterada pelo map: {list(nova_lista)}\")"
   ]
  },
  {
   "cell_type": "code",
   "execution_count": 43,
   "metadata": {},
   "outputs": [],
   "source": [
    "# usando o map para extrair dados de um dicionario;\n",
    "produtos = [{'nome': 'item 1', 'preco': 32},\n",
    "            {'nome': 'item 2', 'preco': 23},\n",
    "            {'nome': 'item 3', 'preco': 12},\n",
    "            {'nome': 'item 4', 'preco': 10},\n",
    "            {'nome': 'item 5', 'preco': 55},]"
   ]
  },
  {
   "cell_type": "code",
   "execution_count": 44,
   "metadata": {},
   "outputs": [],
   "source": [
    "precos = map(lambda p: p['preco'], produtos)\n",
    "# Combinando map( ) com lambda, extraindo dado por dado apenas do campo 'preco'"
   ]
  },
  {
   "cell_type": "code",
   "execution_count": 45,
   "metadata": {},
   "outputs": [
    {
     "name": "stdout",
     "output_type": "stream",
     "text": [
      "32\n",
      "23\n",
      "12\n",
      "10\n",
      "55\n"
     ]
    }
   ],
   "source": [
    "for preco in precos:\n",
    "    print(preco)"
   ]
  },
  {
   "cell_type": "markdown",
   "metadata": {},
   "source": [
    "# Usando uma função ativa no lugar da lambda\n",
    "\n"
   ]
  },
  {
   "cell_type": "code",
   "execution_count": 53,
   "metadata": {},
   "outputs": [
    {
     "name": "stdout",
     "output_type": "stream",
     "text": [
      "{'nome': 'item 1', 'preco': 35.28}\n",
      "{'nome': 'item 2', 'preco': 25.3575}\n",
      "{'nome': 'item 3', 'preco': 13.230000000000002}\n",
      "{'nome': 'item 4', 'preco': 11.025}\n",
      "{'nome': 'item 5', 'preco': 60.6375}\n"
     ]
    }
   ],
   "source": [
    "def aumenta_precos(p):    \n",
    "    p['preco'] = p['preco'] * 1.05   \n",
    "    return p  \n",
    "\n",
    "precos2 = map(aumenta_precos, produtos)  \n",
    "# Função aumenta_precos( ) como parâmetro de map( )  \n",
    "for produto in precos2:    \n",
    "    print(produto)"
   ]
  },
  {
   "cell_type": "markdown",
   "metadata": {},
   "source": [
    "# Filter \n",
    "## Aplicando funções sobre dados usando de lógica condicional\n",
    "\n"
   ]
  },
  {
   "cell_type": "code",
   "execution_count": 54,
   "metadata": {},
   "outputs": [],
   "source": [
    "pessoas = [{'nome': 'Ana', 'idade': 22},\n",
    "           {'nome': 'Maria', 'idade': 72},\n",
    "           {'nome': 'Paulo', 'idade': 55},\n",
    "           {'nome': 'Pedro', 'idade': 68},\n",
    "           {'nome': 'Rafael', 'idade': 99},\n",
    "           {'nome': 'Tania', 'idade': 18},]"
   ]
  },
  {
   "cell_type": "code",
   "execution_count": 57,
   "metadata": {},
   "outputs": [],
   "source": [
    "idoso = filter(lambda x: x['idade'] > 70, pessoas)\n",
    "# filter( ) pode receber como parâmetro uma função associada a uma  \n",
    "# expressão lógica, iterando individualmente sobre os elementos de  \n",
    "# um contêiner de dados."
   ]
  },
  {
   "cell_type": "code",
   "execution_count": 59,
   "metadata": {},
   "outputs": [
    {
     "name": "stdout",
     "output_type": "stream",
     "text": [
      "[{'nome': 'Maria', 'idade': 72}, {'nome': 'Rafael', 'idade': 99}]\n"
     ]
    }
   ],
   "source": [
    "print(list(idoso))"
   ]
  },
  {
   "cell_type": "code",
   "execution_count": 64,
   "metadata": {},
   "outputs": [],
   "source": [
    "produtos2 = [{'nome': 'item 1', 'preco': 32},\n",
    "            {'nome': 'item 2', 'preco': 23},\n",
    "            {'nome': 'item 3', 'preco': 12},\n",
    "            {'nome': 'item 4', 'preco': 10},\n",
    "            {'nome': 'item 5', 'preco': 55},]"
   ]
  },
  {
   "cell_type": "code",
   "execution_count": 65,
   "metadata": {},
   "outputs": [],
   "source": [
    "def filtra(p):\n",
    "    if p['preco'] > 50:\n",
    "        return True"
   ]
  },
  {
   "cell_type": "code",
   "execution_count": 66,
   "metadata": {},
   "outputs": [
    {
     "name": "stdout",
     "output_type": "stream",
     "text": [
      "{'nome': 'item 5', 'preco': 55}\n"
     ]
    }
   ],
   "source": [
    "nova_lista3 = filter(filtra, produtos2)\n",
    "for produto_x in nova_lista3:\n",
    "    print(produto_x)"
   ]
  },
  {
   "cell_type": "markdown",
   "metadata": {},
   "source": [
    "# Reduce"
   ]
  },
  {
   "cell_type": "code",
   "execution_count": 67,
   "metadata": {},
   "outputs": [],
   "source": [
    "from functools import reduce"
   ]
  },
  {
   "cell_type": "code",
   "execution_count": 68,
   "metadata": {},
   "outputs": [],
   "source": [
    "def soma(num1, num2):\n",
    "    return num1 + num2"
   ]
  },
  {
   "cell_type": "code",
   "execution_count": 69,
   "metadata": {},
   "outputs": [],
   "source": [
    "lista = [1,2,3,4,5,6,7,8,9,10]"
   ]
  },
  {
   "cell_type": "code",
   "execution_count": 70,
   "metadata": {},
   "outputs": [],
   "source": [
    "resultado = reduce(soma, lista)"
   ]
  },
  {
   "cell_type": "code",
   "execution_count": 71,
   "metadata": {},
   "outputs": [
    {
     "name": "stdout",
     "output_type": "stream",
     "text": [
      "55\n"
     ]
    }
   ],
   "source": [
    "print(resultado)"
   ]
  },
  {
   "cell_type": "markdown",
   "metadata": {},
   "source": [
    "reduce( ) \"reduz\" todo um conjunto de elementos de um contêiner de dados a um elemento único, resultado da soma de todos os elementos de um contêiner de dados.\n",
    "\n"
   ]
  },
  {
   "cell_type": "code",
   "execution_count": null,
   "metadata": {},
   "outputs": [],
   "source": []
  }
 ],
 "metadata": {
  "kernelspec": {
   "display_name": "Python 3",
   "language": "python",
   "name": "python3"
  },
  "language_info": {
   "codemirror_mode": {
    "name": "ipython",
    "version": 3
   },
   "file_extension": ".py",
   "mimetype": "text/x-python",
   "name": "python",
   "nbconvert_exporter": "python",
   "pygments_lexer": "ipython3",
   "version": "3.8.3"
  }
 },
 "nbformat": 4,
 "nbformat_minor": 4
}
