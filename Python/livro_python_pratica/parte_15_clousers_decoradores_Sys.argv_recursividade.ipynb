{
 "cells": [
  {
   "cell_type": "markdown",
   "metadata": {},
   "source": [
    "# Closures \n",
    "##### Equivalente ao escopo global e local, porém, tratando-se de escopos de funções aninhadas\n",
    "\n",
    "        "
   ]
  },
  {
   "cell_type": "code",
   "execution_count": 3,
   "metadata": {},
   "outputs": [
    {
     "data": {
      "text/plain": [
       "66.5"
      ]
     },
     "execution_count": 3,
     "metadata": {},
     "output_type": "execute_result"
    }
   ],
   "source": [
    "def media():\n",
    "    valores = [] # variavel de escopo global\n",
    "    \n",
    "    def calcula_media(valor):\n",
    "        valores.append(valor)\n",
    "        # usando da variável do escopo global da função externa, como escopo local/estendido\n",
    "        return sum(valores)/len(valores)\n",
    "    return calcula_media\n",
    "\n",
    "# Closure da função, é a junção do escopo da funcao externa com o da interna\n",
    "media = media()\n",
    "\n",
    "media(60)\n",
    "media(45)\n",
    "media(70)\n",
    "media(91)\n",
    "\n",
    "    "
   ]
  },
  {
   "cell_type": "markdown",
   "metadata": {},
   "source": [
    "# Decoradores \n",
    "##### Em Python até mesmo uma função é um objeto, sendo assim, podemos criar cadeias de funções dentro de funções, funções que usam funções como argumentos, ou  simplesmente adicionar funcionalidades em uma função a partir de outra. Tudo isso é possível criando um marcador (decorador) para identificar para o interpretador que uma determinada função pode ser usada como parâmetro para  outra. Em outras palavras, uma função decoradora recebe uma função e devolve outra função já com modificações.\n",
    "\n"
   ]
  },
  {
   "cell_type": "code",
   "execution_count": 5,
   "metadata": {},
   "outputs": [
    {
     "name": "stdout",
     "output_type": "stream",
     "text": [
      "Digite o primeiro número: 123\n",
      "Digite o segundo número: 321\n",
      "<function soma_dois_num.<locals>.nova_funcao at 0x00000228B9E248B0>\n"
     ]
    }
   ],
   "source": [
    "def soma_dois_num(funcao_decorada):    \n",
    "    def nova_funcao(*args, **kwargs):      \n",
    "        return funcao_decorada(*args, **kwargs)    \n",
    "    return nova_funcao\n",
    "\n",
    "@soma_dois_num\n",
    "# instancia a função soma_dois_num( ) passando como parâmetro a função soma( )\n",
    "def soma(num1, num2):\n",
    "    return num1 + num2\n",
    "\n",
    "num1 = int(input('Digite o primeiro número: '))  \n",
    "num2 = int(input('Digite o segundo número: '))\n",
    "\n",
    "print(soma_dois_num(soma))\n",
    "\n"
   ]
  },
  {
   "cell_type": "code",
   "execution_count": 8,
   "metadata": {},
   "outputs": [
    {
     "name": "stdout",
     "output_type": "stream",
     "text": [
      "O resultado sa soma é: 9\n",
      "O resultado sa soma é: 11\n",
      "2\n",
      "<function contar_acesso.<locals>.nova_func at 0x00000228B9EE1A60>\n",
      "<function contar_acesso.<locals>.nova_func at 0x00000228B9F04160>\n"
     ]
    }
   ],
   "source": [
    "# Outro exemplo, com variável de controle para identificar quantas vezes o decorador foi usado\n",
    "contador = 0\n",
    "def contar_acesso(funcao_decorada):\n",
    "    def nova_func(*args, **kw):\n",
    "        global contador\n",
    "        contador += 1\n",
    "        return funcao_decorada(*args, **kw)\n",
    "    return nova_func\n",
    "\n",
    "@contar_acesso\n",
    "def soma(a, b):\n",
    "    print(f'O resultado sa soma é: {a + b}')\n",
    "    return a + b\n",
    "\n",
    "ui = contar_acesso(soma(4,5))\n",
    "eu = contar_acesso(soma(9,2))\n",
    "\n",
    "print(contador)\n",
    "print(ui)\n",
    "print(eu)\n"
   ]
  },
  {
   "cell_type": "markdown",
   "metadata": {},
   "source": [
    "# Sys.argv\n",
    "\n"
   ]
  },
  {
   "cell_type": "code",
   "execution_count": 9,
   "metadata": {},
   "outputs": [],
   "source": [
    "import sys"
   ]
  },
  {
   "cell_type": "code",
   "execution_count": 11,
   "metadata": {},
   "outputs": [
    {
     "name": "stdout",
     "output_type": "stream",
     "text": [
      "Argumentos: ['C:\\\\Users\\\\ronal\\\\anaconda3\\\\lib\\\\site-packages\\\\ipykernel_launcher.py', '-f', 'C:\\\\Users\\\\ronal\\\\AppData\\\\Roaming\\\\jupyter\\\\runtime\\\\kernel-01bd32ec-23a5-4be8-b09c-b0991073b56a.json']\n"
     ]
    }
   ],
   "source": [
    "var1 = print(f'Argumentos: {sys.argv}')\n",
    "# executar o arquivo .py seguido dos argumentos, estes por sua vez aparecerão  \n",
    "# no campo sys.argv .  \n",
    "# Ex: via terminal digitar: python arquivo.py Casa Carro Celular  \n",
    "# O retorno será Argumentos: Casa Carro Celular"
   ]
  },
  {
   "cell_type": "markdown",
   "metadata": {},
   "source": [
    "# Recursividade \n",
    "##### Situações onde uma determinada ação/função do código tem de ser executada  # repetidas vezes, por inúmeras vezes.  \n",
    "\n"
   ]
  },
  {
   "cell_type": "code",
   "execution_count": 16,
   "metadata": {},
   "outputs": [
    {
     "name": "stdout",
     "output_type": "stream",
     "text": [
      "120\n"
     ]
    }
   ],
   "source": [
    "def fatorial(num):    \n",
    "    if num == 1:     \n",
    "        return 1    \n",
    "    return num * fatorial(num - 1)  \n",
    "fator = fatorial(5)  \n",
    "print(fator)"
   ]
  },
  {
   "cell_type": "code",
   "execution_count": null,
   "metadata": {},
   "outputs": [],
   "source": []
  }
 ],
 "metadata": {
  "kernelspec": {
   "display_name": "Python 3",
   "language": "python",
   "name": "python3"
  },
  "language_info": {
   "codemirror_mode": {
    "name": "ipython",
    "version": 3
   },
   "file_extension": ".py",
   "mimetype": "text/x-python",
   "name": "python",
   "nbconvert_exporter": "python",
   "pygments_lexer": "ipython3",
   "version": "3.8.3"
  }
 },
 "nbformat": 4,
 "nbformat_minor": 4
}
