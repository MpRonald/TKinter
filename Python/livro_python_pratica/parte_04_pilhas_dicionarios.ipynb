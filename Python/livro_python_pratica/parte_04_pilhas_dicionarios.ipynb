{
 "cells": [
  {
   "cell_type": "markdown",
   "metadata": {},
   "source": [
    "# Pilhas\n"
   ]
  },
  {
   "cell_type": "code",
   "execution_count": 4,
   "metadata": {},
   "outputs": [
    {
     "name": "stdout",
     "output_type": "stream",
     "text": [
      "Pilha: [11, 23, 44, 33]\n"
     ]
    }
   ],
   "source": [
    "# adicionando elementos em um apilha;\n",
    "sequencia = [11, 23, 44, 33]\n",
    "pilha = []\n",
    "for elemento in sequencia:\n",
    "    pilha.append(elemento)\n",
    "print(f\"Pilha: {pilha}\")"
   ]
  },
  {
   "cell_type": "code",
   "execution_count": 7,
   "metadata": {},
   "outputs": [
    {
     "name": "stdout",
     "output_type": "stream",
     "text": [
      "Pilha: [11, 23, 44, 33, 456]\n"
     ]
    }
   ],
   "source": [
    "# acrescentando ulitmo valor da pilha o numero 456;\n",
    "# todo novo elemento será adicionado ao filha da pilha;\n",
    "pilha.append(456)\n",
    "print(f\"Pilha: {pilha}\")"
   ]
  },
  {
   "cell_type": "code",
   "execution_count": 8,
   "metadata": {},
   "outputs": [
    {
     "name": "stdout",
     "output_type": "stream",
     "text": [
      "Pilha(antes): [11, 23, 44, 33, 456]\n",
      "Pilha(depois): [11, 23, 44, 33]\n"
     ]
    }
   ],
   "source": [
    "# removendo elementos da pilha;\n",
    "print(f\"Pilha(antes): {pilha}\")\n",
    "pilha.pop() # mesmo sem parametro será removido o ultimo elemento;\n",
    "print(f\"Pilha(depois): {pilha}\")"
   ]
  },
  {
   "cell_type": "code",
   "execution_count": 9,
   "metadata": {},
   "outputs": [
    {
     "name": "stdout",
     "output_type": "stream",
     "text": [
      "[11, 23, 44, 33, 11, 23, 44, 33]\n"
     ]
    }
   ],
   "source": [
    "# automatizando o processo de remoção de elementos da pilha;\n",
    "for elemento in sequencia:\n",
    "    pilha.append(elemento)\n",
    "print(pilha)\n",
    "    "
   ]
  },
  {
   "cell_type": "code",
   "execution_count": 17,
   "metadata": {},
   "outputs": [
    {
     "name": "stdout",
     "output_type": "stream",
     "text": [
      "Objeto do topo da pilha: 33\n"
     ]
    }
   ],
   "source": [
    "pilha = [11, 23, 44, 33, 11, 23, 44, 33]\n",
    "while len(pilha) < 0:\n",
    "    print(pilha)\n",
    "    \n",
    "topo = pilha.pop()\n",
    "print(f\"Objeto do topo da pilha: {topo}\")"
   ]
  },
  {
   "cell_type": "markdown",
   "metadata": {},
   "source": [
    "# Dicionario"
   ]
  },
  {
   "cell_type": "code",
   "execution_count": 21,
   "metadata": {},
   "outputs": [
    {
     "name": "stdout",
     "output_type": "stream",
     "text": [
      "{'chave': 'valor'}\n"
     ]
    }
   ],
   "source": [
    "# sintaxe basica;\n",
    "dicionario = {'chave': 'valor'}\n",
    "print(dicionario)"
   ]
  },
  {
   "cell_type": "code",
   "execution_count": 23,
   "metadata": {},
   "outputs": [
    {
     "name": "stdout",
     "output_type": "stream",
     "text": [
      "{'chave': 'valor', 'nome': 'Ronald', 'sobrenome': 'Marques'}\n"
     ]
    }
   ],
   "source": [
    "# adicnionando novos valores ao dicionario;\n",
    "dicionario['nome'] = 'Ronald' \n",
    "dicionario['sobrenome'] = 'Marques' \n",
    "print(dicionario)"
   ]
  },
  {
   "cell_type": "code",
   "execution_count": 24,
   "metadata": {},
   "outputs": [
    {
     "name": "stdout",
     "output_type": "stream",
     "text": [
      "{'chave': 'valor', 'nome': 'Toddy', 'sobrenome': 'Marques'}\n"
     ]
    }
   ],
   "source": [
    "# alterando o valor da chave;\n",
    "dicionario['nome'] = 'Toddy'\n",
    "print(dicionario)"
   ]
  },
  {
   "cell_type": "code",
   "execution_count": 32,
   "metadata": {},
   "outputs": [
    {
     "name": "stdout",
     "output_type": "stream",
     "text": [
      "{'Nome': 'Ronald', 'Sobrenome': 'Marques', 'Idade': 35, 'Sexo': 'Masculino'}\n"
     ]
    }
   ],
   "source": [
    "# acessando as chaves do dict;\n",
    "dicionario = {'Nome': 'Ronald', 'Sobrenome': 'Marques', 'Idade': 35, 'Sexo': 'Masculino'}\n",
    "print(dicionario)"
   ]
  },
  {
   "cell_type": "code",
   "execution_count": 35,
   "metadata": {},
   "outputs": [
    {
     "name": "stdout",
     "output_type": "stream",
     "text": [
      "Acessando a chave Idade: 35\n"
     ]
    }
   ],
   "source": [
    "print(f\"Acessando a chave Idade: {dicionario['Idade']}\")"
   ]
  },
  {
   "cell_type": "code",
   "execution_count": 76,
   "metadata": {},
   "outputs": [
    {
     "name": "stdout",
     "output_type": "stream",
     "text": [
      "{'Nome': 'Ronald', 'Sobrenome': 'Marques', 'Idade': 35, 'Sexo': 'Masculino'}\n",
      "{'Nome': 'Ronald', 'Sobrenome': 'Pio', 'Idade': 35, 'Sexo': 'Masculino'}\n"
     ]
    }
   ],
   "source": [
    "# atualizando um items do dicionario;\n",
    "dicionario = {'Nome': 'Ronald', 'Sobrenome': 'Marques', 'Idade': 35, 'Sexo': 'Masculino'}\n",
    "print(dicionario)\n",
    "dicionario.update({'Sobrenome': 'Pio'})\n",
    "print(dicionario)"
   ]
  },
  {
   "cell_type": "code",
   "execution_count": 78,
   "metadata": {},
   "outputs": [
    {
     "name": "stdout",
     "output_type": "stream",
     "text": [
      "{'Nome': 'Ronald', 'Sobrenome': 'Pio', 'Idade': 35, 'Sexo': 'Masculino'}\n",
      "{'Nome': 'Ronald', 'Sobrenome': 'Pio', 'Idade': 35}\n"
     ]
    }
   ],
   "source": [
    "# removendo um elemento do dicionario;\n",
    "print(dicionario)\n",
    "del dicionario['Sexo']\n",
    "print(dicionario)"
   ]
  },
  {
   "cell_type": "code",
   "execution_count": 80,
   "metadata": {},
   "outputs": [
    {
     "name": "stdout",
     "output_type": "stream",
     "text": [
      "O dicionario tem 3 elementos.\n"
     ]
    }
   ],
   "source": [
    "# verificando o tamanho do dicionario;\n",
    "print(f\"O dicionario tem {len(dicionario)} elementos.\")"
   ]
  },
  {
   "cell_type": "code",
   "execution_count": 81,
   "metadata": {},
   "outputs": [
    {
     "name": "stdout",
     "output_type": "stream",
     "text": [
      "dict_keys(['Nome', 'Sobrenome', 'Idade'])\n"
     ]
    }
   ],
   "source": [
    "# exibindo somente as chaves do dicionario;\n",
    "print(dicionario.keys())"
   ]
  },
  {
   "cell_type": "code",
   "execution_count": 82,
   "metadata": {},
   "outputs": [
    {
     "name": "stdout",
     "output_type": "stream",
     "text": [
      "dict_values(['Ronald', 'Pio', 35])\n"
     ]
    }
   ],
   "source": [
    "# exibindo somente os valores do dicionario;\n",
    "print(dicionario.values())"
   ]
  },
  {
   "cell_type": "code",
   "execution_count": 84,
   "metadata": {},
   "outputs": [
    {
     "name": "stdout",
     "output_type": "stream",
     "text": [
      "{'Nome': ['joao', 'jose'], 'Idade': [40, 33]}\n",
      "<class 'dict'>\n"
     ]
    }
   ],
   "source": [
    "# dicionarios com uma chave e dois elementos;\n",
    "dicionario = {'Nome': ['joao', 'jose'], 'Idade': [40, 33]}\n",
    "print(dicionario)\n",
    "print(type(dicionario))"
   ]
  },
  {
   "cell_type": "code",
   "execution_count": 89,
   "metadata": {},
   "outputs": [
    {
     "name": "stdout",
     "output_type": "stream",
     "text": [
      "joao\n",
      "33\n"
     ]
    }
   ],
   "source": [
    "# acessando um valor da chave;\n",
    "print(dicionario['Nome'][0])\n",
    "print(dicionario['Idade'][1])"
   ]
  },
  {
   "cell_type": "code",
   "execution_count": 97,
   "metadata": {},
   "outputs": [
    {
     "name": "stdout",
     "output_type": "stream",
     "text": [
      "dict_keys(['Nome', 'Idade'])\n",
      "('Nome', 'Idade')\n"
     ]
    }
   ],
   "source": [
    "# transfomando chaves ou valores de dict em tuplas;\n",
    "print(dicionario.keys())\n",
    "dict_keys = tuple(dicionario.keys())\n",
    "print(dict_keys)"
   ]
  },
  {
   "cell_type": "markdown",
   "metadata": {},
   "source": [
    "Lembrando que a transformação de uma lista para uma tupla normalmente tem o propósito de tornar tais dados imutáveis, ou protegidos para certas modificações.\n"
   ]
  },
  {
   "cell_type": "code",
   "execution_count": 100,
   "metadata": {},
   "outputs": [
    {
     "name": "stdout",
     "output_type": "stream",
     "text": [
      "Funcionario: João\n",
      "\t Identificador = 0001\n",
      "\t Cargo = Porteiro\n",
      "\t Salario = 2000\n",
      "Funcionario: Maria\n",
      "\t Identificador = 0003\n",
      "\t Cargo = Aux. Limpeza\n",
      "\t Salario = 1900\n",
      "Funcionario: José\n",
      "\t Identificador = 0002\n",
      "\t Cargo = Técnico\n",
      "\t Salario = 2500\n"
     ]
    }
   ],
   "source": [
    "# dicionarios dentro de dicionarios;\n",
    "usuarios = {'João':{'Identificador':'0001', 'Cargo':'Porteiro','Salario':'2000'},\n",
    "            'Maria':{'Identificador':'0003','Cargo':'Aux. Limpeza','Salario':'1900'},\n",
    "            'José':{'Identificador':'0002','Cargo':'Técnico','Salario':'2500'}}\n",
    "\n",
    "for i, j in usuarios.items():\n",
    "    print(f\"Funcionario: {i}\")\n",
    "    for k, l in j.items():\n",
    "        print(f\"\\t {k} = {l}\")\n"
   ]
  },
  {
   "cell_type": "code",
   "execution_count": 106,
   "metadata": {},
   "outputs": [
    {
     "name": "stdout",
     "output_type": "stream",
     "text": [
      "{'Nome': ['joao', 'jose'], 'Idade': [40, 33]}\n"
     ]
    },
    {
     "data": {
      "text/plain": [
       "['joao', 'jose']"
      ]
     },
     "execution_count": 106,
     "metadata": {},
     "output_type": "execute_result"
    }
   ],
   "source": [
    "# removendo elementos do dicionario;\n",
    "dicionario = {'Nome': ['joao', 'jose'], 'Idade': [40, 33]}\n",
    "print(dicionario)\n",
    "dicionario.pop(['Nome'][0])\n"
   ]
  },
  {
   "cell_type": "code",
   "execution_count": 107,
   "metadata": {},
   "outputs": [
    {
     "name": "stdout",
     "output_type": "stream",
     "text": [
      "{'Idade': [40, 33]}\n"
     ]
    }
   ],
   "source": [
    "print(dicionario)"
   ]
  },
  {
   "cell_type": "code",
   "execution_count": 108,
   "metadata": {},
   "outputs": [
    {
     "name": "stdout",
     "output_type": "stream",
     "text": [
      "{'camisas': 0, 'calcas': 0, 'vestidos': 0, 'sapatos': 0, 'tenis': 0, 'acessorios': 0}\n",
      "{'camisas': 22, 'calcas': 0, 'vestidos': 3, 'sapatos': 0, 'tenis': 10, 'acessorios': 0}\n"
     ]
    }
   ],
   "source": [
    "# Criando um dicionário, sendo suas chaves importadas de uma lista e seus valores \n",
    "# definidos manualmente \n",
    "lista = ['camisas','calcas','vestidos','sapatos','tenis','acessorios']\n",
    "mercadoria = dict.fromkeys(lista, 0)\n",
    "print(mercadoria)\n",
    "mercadoria['camisas'] = 22 \n",
    "mercadoria['vestidos'] = 3\n",
    "mercadoria['tenis'] = 10\n",
    "print(mercadoria)\n",
    "\n"
   ]
  },
  {
   "cell_type": "code",
   "execution_count": 111,
   "metadata": {},
   "outputs": [
    {
     "name": "stdout",
     "output_type": "stream",
     "text": [
      "-4746274343523651914\n"
     ]
    }
   ],
   "source": [
    "# Descobrindo a hash de um valor \n",
    "dicionario1 = {'Nome':'Fernando','Idade':32,'Sexo':'Masculino','Nacionalidade':'Brasileiro'}\n",
    "print(hash('Idade'))\n",
    "# Chaves em um dicionário normalmente são dados imutáveis, em função  \n",
    "# disso é possível descobrir sua hash de indexação interna."
   ]
  },
  {
   "cell_type": "markdown",
   "metadata": {},
   "source": [
    "Resumo de todos os métodos inclusos nos built-ins <br><br>keys()  # Retorna uma lista contendo todas as chaves de um dicionário <br><br> values()  # Retorna uma lista contendo todos os valores de um dicionário <br><br> items()  # Retorna uma lista contendo tuplas com os pares de chaves e valores de um dicionário <br><br> get()  # Retorna o valor de uma chave específica <br><br> clear()  # Remove todos os elementos de um dicionário <br><br> copy()  # Associado a outra variável, retorna uma cópia do dicionário original <br><br> fromkeys()  # Retorna um dicionário apenas com chaves e valores específicos<br><br>  pop()  # Remove uma chave e seu respectivo valor  popitem()  # Remove o último par de chaves:valores inserido no dicionário <br><br> setdefault()  # Retorna o valor de uma chave específica, caso a mesma não exista, cria uma chave com valor padrão <br><br> update()  # Atualiza um dicionário inserindo no mesmo um novo par de chaves:valores\n"
   ]
  },
  {
   "cell_type": "code",
   "execution_count": null,
   "metadata": {},
   "outputs": [],
   "source": []
  }
 ],
 "metadata": {
  "kernelspec": {
   "display_name": "Python 3",
   "language": "python",
   "name": "python3"
  },
  "language_info": {
   "codemirror_mode": {
    "name": "ipython",
    "version": 3
   },
   "file_extension": ".py",
   "mimetype": "text/x-python",
   "name": "python",
   "nbconvert_exporter": "python",
   "pygments_lexer": "ipython3",
   "version": "3.8.3"
  }
 },
 "nbformat": 4,
 "nbformat_minor": 4
}
