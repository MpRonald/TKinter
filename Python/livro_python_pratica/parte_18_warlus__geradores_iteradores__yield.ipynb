{
 "cells": [
  {
   "cell_type": "markdown",
   "metadata": {},
   "source": [
    "# Operador Warlus"
   ]
  },
  {
   "cell_type": "markdown",
   "metadata": {},
   "source": [
    "##### Operador que permite iterar, atribuir e retornar valor em forma reduzida.  Permite criar objetos diretamente dentro da função print( ).  variavel := expressão  # Operador \" := \"\n",
    "\n"
   ]
  },
  {
   "cell_type": "code",
   "execution_count": 1,
   "metadata": {},
   "outputs": [
    {
     "name": "stdout",
     "output_type": "stream",
     "text": [
      "Curitiba\n"
     ]
    }
   ],
   "source": [
    "print(cidade:=\"Curitiba\")"
   ]
  },
  {
   "cell_type": "markdown",
   "metadata": {},
   "source": [
    "     Dentro da função print( ) foi declarada a variável cidade com seu respectivo  \n",
    "     atributo e ao mesmo tempo foi executada a função realizada pelo print( )  \n",
    "     Mesmo que:  \n",
    "     cidade = 'Curitiba'  \n",
    "     print(cidade)  \n",
    "     Porém, a variável cidade é funcional, como se estivesse declarada no corpo/  \n",
    "     escopo global do código.\n"
   ]
  },
  {
   "cell_type": "code",
   "execution_count": 4,
   "metadata": {},
   "outputs": [
    {
     "name": "stdout",
     "output_type": "stream",
     "text": [
      "XXI\n",
      "2021\n",
      "XXI\n"
     ]
    }
   ],
   "source": [
    "num = 2021\n",
    "if num > 2000:\n",
    "    print(seculo := \"XXI\")\n",
    "    \n",
    "print(num)\n",
    "print(seculo)\n",
    "# Pela leitura léxica, uma variável recém criada pelo operador Walrus  \n",
    "# já é reconhecida e pode ser instanciada na mesma linha de código"
   ]
  },
  {
   "cell_type": "code",
   "execution_count": 6,
   "metadata": {},
   "outputs": [
    {
     "name": "stdout",
     "output_type": "stream",
     "text": [
      "8.0 é a metade de 16.0\n"
     ]
    }
   ],
   "source": [
    "print(f'{(metade:=16/2)} é a metade de {metade * 2}')\n",
    "# Na primeira máscara de substituição é criada a variável metade, que  \n",
    "# recebe como atributo o resultado da divisão de 16 por 2, em seguida \n",
    "# a própria variável metade é instanciada, agora sendo usada para  \n",
    "# uma operação matemática que pega seu valor e multiplica por 2."
   ]
  },
  {
   "cell_type": "code",
   "execution_count": 7,
   "metadata": {},
   "outputs": [
    {
     "name": "stdout",
     "output_type": "stream",
     "text": [
      "Quando quiser, digite \"sair\" para encerrar o programa.\n",
      "Digite um objeto: olá\n",
      "Digite um objeto: como voce esta?\n",
      "Digite um objeto: estou bem e vc?\n",
      "Digite um objeto: tbm estou bem\n",
      "Digite um objeto: ok, t+\n",
      "Digite um objeto: sair\n",
      "['olá', 'como voce esta?', 'estou bem e vc?', 'tbm estou bem', 'ok, t+']\n"
     ]
    }
   ],
   "source": [
    "carrinho = []\n",
    "print('Quando quiser, digite \"sair\" para encerrar o programa.')\n",
    "while (objeto := input('Digite um objeto: ')) !='sair':\n",
    "    carrinho.append(objeto)\n",
    "print(carrinho)"
   ]
  },
  {
   "cell_type": "markdown",
   "metadata": {},
   "source": [
    "# Geradores e Iteradores (avançado)"
   ]
  },
  {
   "cell_type": "code",
   "execution_count": 8,
   "metadata": {},
   "outputs": [
    {
     "name": "stdout",
     "output_type": "stream",
     "text": [
      "True\n",
      "1\n",
      "2\n",
      "3\n",
      "4\n"
     ]
    }
   ],
   "source": [
    "minha_lista = [1,2,3,4]\n",
    "minha_lista = iter(minha_lista)\n",
    "# o construtor iter() força o objeto a a permitir iterações;\n",
    "\n",
    "print(hasattr(minha_lista, '__iter__'))\n",
    "# verificando se minha_lista é iteravel;\n",
    "\n",
    "for i in minha_lista:\n",
    "    print(i)"
   ]
  },
  {
   "cell_type": "markdown",
   "metadata": {},
   "source": [
    "# Yeld \n",
    "##### Guardando valores em uma variável, de forma que a cada vez que eu chame ela ela me retorne um valor diferente.\n",
    "\n"
   ]
  },
  {
   "cell_type": "code",
   "execution_count": 9,
   "metadata": {},
   "outputs": [],
   "source": [
    "import sys"
   ]
  },
  {
   "cell_type": "code",
   "execution_count": 10,
   "metadata": {},
   "outputs": [],
   "source": [
    "def gera_numero():\n",
    "    num = 0\n",
    "    while True:\n",
    "        yield num\n",
    "        num += 1"
   ]
  },
  {
   "cell_type": "code",
   "execution_count": 11,
   "metadata": {},
   "outputs": [
    {
     "name": "stdout",
     "output_type": "stream",
     "text": [
      "0\n",
      "1\n",
      "2\n",
      "3\n"
     ]
    }
   ],
   "source": [
    "gerador = gera_numero()\n",
    "print(next(gerador))\n",
    "print(next(gerador))\n",
    "print(next(gerador))\n",
    "print(next(gerador))"
   ]
  },
  {
   "cell_type": "code",
   "execution_count": 12,
   "metadata": {},
   "outputs": [],
   "source": [
    "import sys\n",
    "import time"
   ]
  },
  {
   "cell_type": "code",
   "execution_count": 15,
   "metadata": {},
   "outputs": [
    {
     "name": "stdout",
     "output_type": "stream",
     "text": [
      "valor1\n",
      "valor2\n",
      "valor3\n"
     ]
    }
   ],
   "source": [
    "def variavel_iterada():\n",
    "    variavel = 'valor1'\n",
    "    yield variavel\n",
    "    variavel = 'valor2'\n",
    "    yield variavel\n",
    "    variavel = 'valor3'\n",
    "    yield variavel\n",
    "    \n",
    "var1 = variavel_iterada()\n",
    "print(next(var1))\n",
    "print(next(var1))\n",
    "print(next(var1))"
   ]
  },
  {
   "cell_type": "code",
   "execution_count": null,
   "metadata": {},
   "outputs": [],
   "source": []
  }
 ],
 "metadata": {
  "kernelspec": {
   "display_name": "Python 3",
   "language": "python",
   "name": "python3"
  },
  "language_info": {
   "codemirror_mode": {
    "name": "ipython",
    "version": 3
   },
   "file_extension": ".py",
   "mimetype": "text/x-python",
   "name": "python",
   "nbconvert_exporter": "python",
   "pygments_lexer": "ipython3",
   "version": "3.8.3"
  }
 },
 "nbformat": 4,
 "nbformat_minor": 4
}
