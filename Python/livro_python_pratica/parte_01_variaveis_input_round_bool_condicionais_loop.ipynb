{
 "cells": [
  {
   "cell_type": "markdown",
   "metadata": {},
   "source": [
    "## Declarando variaveis de forma reduzida"
   ]
  },
  {
   "cell_type": "code",
   "execution_count": 2,
   "metadata": {},
   "outputs": [
    {
     "name": "stdout",
     "output_type": "stream",
     "text": [
      "Nome: Maria, Idade: 25\n"
     ]
    }
   ],
   "source": [
    "# utilizado normalmente;\n",
    "nome = \"Maria\"\n",
    "idade = 25\n",
    "print(f\"Nome: {nome}, Idade: {idade}\")"
   ]
  },
  {
   "cell_type": "code",
   "execution_count": 3,
   "metadata": {},
   "outputs": [
    {
     "name": "stdout",
     "output_type": "stream",
     "text": [
      "Nome: Maria, Idade: 25\n"
     ]
    }
   ],
   "source": [
    "# forma reduzida;\n",
    "# note que o \";\" é usado como separador;\n",
    "nome = \"Maria\"; idade = 25; print(f\"Nome: {nome}, Idade: {idade}\")"
   ]
  },
  {
   "cell_type": "markdown",
   "metadata": {},
   "source": [
    "## Tornando numeros mais legiveis;"
   ]
  },
  {
   "cell_type": "code",
   "execution_count": 5,
   "metadata": {},
   "outputs": [
    {
     "name": "stdout",
     "output_type": "stream",
     "text": [
      "Numero1: 1000000000, numero2: 1000000000\n"
     ]
    }
   ],
   "source": [
    "num1 = 1000000000 # maneira dificil de identificar\n",
    "num2 = 1_000_000_000 # maneira facil de identificar\n",
    "print(f\"Numero1: {num1}, numero2: {num2}\")\n",
    "# repare abaixo que o numero foi impresso igual;"
   ]
  },
  {
   "cell_type": "code",
   "execution_count": 6,
   "metadata": {},
   "outputs": [
    {
     "name": "stdout",
     "output_type": "stream",
     "text": [
      "Numero com marcadores: 1,000,000,000,000\n"
     ]
    }
   ],
   "source": [
    "# aqui estamos tornando o marcador visivel no retorno;\n",
    "num3 = 1_000_000_000_000\n",
    "print(f\"Numero com marcadores: {num3:,}\")"
   ]
  },
  {
   "cell_type": "markdown",
   "metadata": {},
   "source": [
    "## Operações lógicas direto no print()"
   ]
  },
  {
   "cell_type": "code",
   "execution_count": 7,
   "metadata": {},
   "outputs": [
    {
     "name": "stdout",
     "output_type": "stream",
     "text": [
      "False\n"
     ]
    }
   ],
   "source": [
    "print(7>10)"
   ]
  },
  {
   "cell_type": "code",
   "execution_count": 9,
   "metadata": {},
   "outputs": [
    {
     "name": "stdout",
     "output_type": "stream",
     "text": [
      "True\n"
     ]
    }
   ],
   "source": [
    "print(115<120)"
   ]
  },
  {
   "cell_type": "code",
   "execution_count": 10,
   "metadata": {},
   "outputs": [
    {
     "name": "stdout",
     "output_type": "stream",
     "text": [
      "True\n"
     ]
    }
   ],
   "source": [
    "print(10==10)"
   ]
  },
  {
   "cell_type": "code",
   "execution_count": 11,
   "metadata": {},
   "outputs": [
    {
     "name": "stdout",
     "output_type": "stream",
     "text": [
      "False\n"
     ]
    }
   ],
   "source": [
    "print(10!=10)"
   ]
  },
  {
   "cell_type": "markdown",
   "metadata": {},
   "source": [
    "## utilizando o método de entrada input()"
   ]
  },
  {
   "cell_type": "code",
   "execution_count": 12,
   "metadata": {},
   "outputs": [
    {
     "name": "stdout",
     "output_type": "stream",
     "text": [
      "Qual seu nome: Ronald\n",
      "Seu nome é Ronald\n"
     ]
    }
   ],
   "source": [
    "nome = input(str(\"Qual seu nome: \"))\n",
    "print(f\"Seu nome é {nome}\")"
   ]
  },
  {
   "cell_type": "code",
   "execution_count": 14,
   "metadata": {},
   "outputs": [
    {
     "name": "stdout",
     "output_type": "stream",
     "text": [
      "Digite sua idade: 35\n",
      "Sua idade é: 35 anos\n"
     ]
    }
   ],
   "source": [
    "idade = input(\"Digite sua idade: \")\n",
    "print(f\"Sua idade é: {idade} anos\")"
   ]
  },
  {
   "cell_type": "markdown",
   "metadata": {},
   "source": [
    "## Arredondamento de casas decimais"
   ]
  },
  {
   "cell_type": "code",
   "execution_count": 23,
   "metadata": {},
   "outputs": [
    {
     "name": "stdout",
     "output_type": "stream",
     "text": [
      "O resultado bruto da equação é -> 142.10526315789474\n"
     ]
    }
   ],
   "source": [
    "equacao = ((50 + 25)* 7.2) / 3.8\n",
    "print(f\"O resultado bruto da equação é -> {equacao}\")"
   ]
  },
  {
   "cell_type": "code",
   "execution_count": 25,
   "metadata": {},
   "outputs": [
    {
     "name": "stdout",
     "output_type": "stream",
     "text": [
      "O resultado da equacao erredondado é -> 142.11\n"
     ]
    }
   ],
   "source": [
    "print(f\"O resultado da equacao erredondado é -> {round(equacao,2)}\")"
   ]
  },
  {
   "cell_type": "markdown",
   "metadata": {},
   "source": [
    "## Operador is"
   ]
  },
  {
   "cell_type": "code",
   "execution_count": 26,
   "metadata": {},
   "outputs": [],
   "source": [
    "num1 = 10\n",
    "num2 = 20\n",
    "num3 = 20"
   ]
  },
  {
   "cell_type": "code",
   "execution_count": 27,
   "metadata": {},
   "outputs": [
    {
     "name": "stdout",
     "output_type": "stream",
     "text": [
      "False\n"
     ]
    }
   ],
   "source": [
    "print(num1 is num2)"
   ]
  },
  {
   "cell_type": "code",
   "execution_count": 28,
   "metadata": {},
   "outputs": [
    {
     "name": "stdout",
     "output_type": "stream",
     "text": [
      "True\n"
     ]
    }
   ],
   "source": [
    "print(num2 is num3)"
   ]
  },
  {
   "cell_type": "markdown",
   "metadata": {},
   "source": [
    "## Operador de membro"
   ]
  },
  {
   "cell_type": "code",
   "execution_count": 29,
   "metadata": {},
   "outputs": [],
   "source": [
    "# verifica se o elemento está no tipo de dado;\n",
    "lista = [1, 2, 3, \"Ana\", \"Joana\", True]"
   ]
  },
  {
   "cell_type": "code",
   "execution_count": 30,
   "metadata": {},
   "outputs": [
    {
     "name": "stdout",
     "output_type": "stream",
     "text": [
      "True\n"
     ]
    }
   ],
   "source": [
    "print(3 in lista)"
   ]
  },
  {
   "cell_type": "code",
   "execution_count": 31,
   "metadata": {},
   "outputs": [
    {
     "name": "stdout",
     "output_type": "stream",
     "text": [
      "False\n"
     ]
    }
   ],
   "source": [
    "print(44 in lista)"
   ]
  },
  {
   "cell_type": "code",
   "execution_count": 32,
   "metadata": {},
   "outputs": [
    {
     "name": "stdout",
     "output_type": "stream",
     "text": [
      "True\n"
     ]
    }
   ],
   "source": [
    "print(\"Joana\" in lista)"
   ]
  },
  {
   "cell_type": "code",
   "execution_count": 33,
   "metadata": {},
   "outputs": [
    {
     "name": "stdout",
     "output_type": "stream",
     "text": [
      "False\n"
     ]
    }
   ],
   "source": [
    "# operador inverso;\n",
    "print(\"Ana\" not in lista)"
   ]
  },
  {
   "cell_type": "code",
   "execution_count": 34,
   "metadata": {},
   "outputs": [
    {
     "name": "stdout",
     "output_type": "stream",
     "text": [
      "True\n"
     ]
    }
   ],
   "source": [
    "print(144 not in lista)"
   ]
  },
  {
   "cell_type": "markdown",
   "metadata": {},
   "source": [
    "# Condicionais"
   ]
  },
  {
   "cell_type": "code",
   "execution_count": 57,
   "metadata": {},
   "outputs": [
    {
     "name": "stdout",
     "output_type": "stream",
     "text": [
      "Qual sua idade: 15\n",
      "Você tem 15 anos portanto NÃO pode dirigir!\n"
     ]
    }
   ],
   "source": [
    "idade = int(input(\"Qual sua idade: \"))\n",
    "if idade >= 18:\n",
    "    print(f\"Você tem {idade} anos já pode dirigir!\")\n",
    "else:\n",
    "    print(f\"Você tem {idade} anos portanto NÃO pode dirigir!\")"
   ]
  },
  {
   "cell_type": "code",
   "execution_count": 58,
   "metadata": {},
   "outputs": [
    {
     "name": "stdout",
     "output_type": "stream",
     "text": [
      "Qual sua idade: 18\n",
      "Você tem 18 anos já pode dirigir!\n"
     ]
    }
   ],
   "source": [
    "# utilizando o elif;\n",
    "idade = int(input(\"Qual sua idade: \"))\n",
    "if idade >= 18:\n",
    "    print(f\"Você tem {idade} anos já pode dirigir!\")\n",
    "elif idade < 18 and idade > 0:\n",
    "    print(f\"Você tem {idade} anos portanto NÃO pode dirigir!\")\n",
    "else:\n",
    "    print(f\"Valor inválido!\")"
   ]
  },
  {
   "cell_type": "code",
   "execution_count": 62,
   "metadata": {},
   "outputs": [
    {
     "name": "stdout",
     "output_type": "stream",
     "text": [
      "Digite seu nome: mario\n",
      "Seja bem vindo mario\n"
     ]
    }
   ],
   "source": [
    "nomes = [\"mario\", \"joao\", \"pedro\"]\n",
    "login = input(\"Digite seu nome: \")\n",
    "if login in nomes:\n",
    "    print(f\"Seja bem vindo {login}\")\n",
    "else:\n",
    "    print(\"usuário inválido!\")"
   ]
  },
  {
   "cell_type": "markdown",
   "metadata": {},
   "source": [
    "## Operadores de identidade"
   ]
  },
  {
   "cell_type": "code",
   "execution_count": 55,
   "metadata": {},
   "outputs": [],
   "source": [
    "num1 = 100\n",
    "num2 = 150\n",
    "num3 = 100"
   ]
  },
  {
   "cell_type": "code",
   "execution_count": 56,
   "metadata": {},
   "outputs": [
    {
     "name": "stdout",
     "output_type": "stream",
     "text": [
      "False\n",
      "True\n"
     ]
    }
   ],
   "source": [
    "print(num1 is num2)\n",
    "print(num1 is num3)"
   ]
  },
  {
   "cell_type": "markdown",
   "metadata": {},
   "source": [
    "## Estrutura de repetição"
   ]
  },
  {
   "cell_type": "code",
   "execution_count": 65,
   "metadata": {},
   "outputs": [
    {
     "name": "stdout",
     "output_type": "stream",
     "text": [
      "Numero: 0\n",
      "Numero: 1\n",
      "Numero: 2\n",
      "Numero: 3\n",
      "Numero: 4\n",
      "Numero: 5\n",
      "Numero: 6\n",
      "Numero: 7\n",
      "Numero: 8\n",
      "Numero: 9\n",
      "Numero: 10\n"
     ]
    }
   ],
   "source": [
    "x = 0\n",
    "while x <= 10:\n",
    "    print(f\"Numero: {x}\")\n",
    "    x +=1"
   ]
  },
  {
   "cell_type": "code",
   "execution_count": 66,
   "metadata": {},
   "outputs": [
    {
     "name": "stdout",
     "output_type": "stream",
     "text": [
      "Numero: 10\n",
      "Numero: 9\n",
      "Numero: 8\n",
      "Numero: 7\n",
      "Numero: 6\n",
      "Numero: 5\n",
      "Numero: 4\n",
      "Numero: 3\n",
      "Numero: 2\n",
      "Numero: 1\n",
      "Numero: 0\n"
     ]
    }
   ],
   "source": [
    "# realizando a operação decrescente;\n",
    "y = 10\n",
    "while y >= 0:\n",
    "    print(f\"Numero: {y}\")\n",
    "    y -=1"
   ]
  },
  {
   "cell_type": "code",
   "execution_count": 69,
   "metadata": {},
   "outputs": [
    {
     "name": "stdout",
     "output_type": "stream",
     "text": [
      "Deseja continuar: (s/n)n\n",
      "Programa continuado\n",
      "\n",
      "Deseja continuar: (s/n)n\n",
      "Programa continuado\n",
      "\n",
      "Deseja continuar: (s/n)s\n",
      "Programa terminado\n"
     ]
    }
   ],
   "source": [
    "# while True;\n",
    "while True:\n",
    "    validador = str(input(\"Deseja continuar: (s/n)\"))\n",
    "    if validador == 's':\n",
    "        print(\"Programa terminado\")\n",
    "        break\n",
    "    else:\n",
    "        print(\"Programa continuado\\n\")"
   ]
  },
  {
   "cell_type": "markdown",
   "metadata": {},
   "source": [
    "## Laço for"
   ]
  },
  {
   "cell_type": "code",
   "execution_count": 71,
   "metadata": {},
   "outputs": [
    {
     "name": "stdout",
     "output_type": "stream",
     "text": [
      "arroz\n",
      "feijão\n",
      "macarrão\n",
      "carne\n",
      "pão\n"
     ]
    }
   ],
   "source": [
    "compras = [\"arroz\", \"feijão\", \"macarrão\", \"carne\", \"pão\"]\n",
    "for i in compras:\n",
    "    print(i)\n",
    "\n",
    "# A variável temporária i a cada ciclo irá ler um dos elementos da lista \n",
    "# compras, sendo que a cada ciclo lê e retorna o elemento subsequente."
   ]
  },
  {
   "cell_type": "code",
   "execution_count": 72,
   "metadata": {},
   "outputs": [
    {
     "name": "stdout",
     "output_type": "stream",
     "text": [
      "C\n",
      "h\n",
      "i\n",
      "n\n",
      "f\n",
      "o\n",
      "r\n",
      "i\n",
      "n\n",
      "p\n",
      "u\n",
      "l\n",
      "a\n"
     ]
    }
   ],
   "source": [
    "# laço for percorrendo cada elemento de uma string;\n",
    "# a cada ciclo, a variavel temporaria i percorrerá cada charecter da string;\n",
    "nome = \"Chinforinpula\"\n",
    "for i in nome:\n",
    "    print(i)"
   ]
  },
  {
   "cell_type": "code",
   "execution_count": 73,
   "metadata": {},
   "outputs": [
    {
     "name": "stdout",
     "output_type": "stream",
     "text": [
      "1\n",
      "2\n",
      "3\n",
      "4\n",
      "5\n",
      "6\n",
      "7\n",
      "8\n",
      "9\n",
      "10\n"
     ]
    }
   ],
   "source": [
    "# laço for repetindo ciclo dentro de um intervalo numerico especifico;\n",
    "for i in range(1,11):\n",
    "    print(i)"
   ]
  },
  {
   "cell_type": "code",
   "execution_count": 74,
   "metadata": {},
   "outputs": [
    {
     "name": "stdout",
     "output_type": "stream",
     "text": [
      "6788\n"
     ]
    }
   ],
   "source": [
    "# laço for que atualiza valor/dado de uma variavél;\n",
    "vendas = [1000, 412, 127, 5231, 18]\n",
    "total = 0\n",
    "for i in vendas:\n",
    "    total +=i\n",
    "print(total)"
   ]
  },
  {
   "cell_type": "code",
   "execution_count": 76,
   "metadata": {},
   "outputs": [
    {
     "name": "stdout",
     "output_type": "stream",
     "text": [
      "['arroz', 'feijão']\n",
      "['carne', 'frango', 'peixe']\n",
      "['leite', 'queijo']\n"
     ]
    }
   ],
   "source": [
    "# desempacotando elementos de uma lista via laço de repetição;\n",
    "compras = [[\"arroz\", \"feijão\"], [\"carne\", \"frango\", \"peixe\"], [\"leite\", \"queijo\"]]\n",
    "for i in compras:\n",
    "    print(i)"
   ]
  },
  {
   "cell_type": "markdown",
   "metadata": {},
   "source": [
    "De acordo com o separador \" , \" , o primeiro elemento da lista compras é a lista ['Arroz', 'Feijão'], o segundo elemento é a lista ['Carne', 'Frango',  # 'Peixe'] e o terceiro elemento é a lista ['Leite'], de modo que o laço está  # extraindo as listas de dentro da lista compras.\n",
    "\n"
   ]
  },
  {
   "cell_type": "code",
   "execution_count": 77,
   "metadata": {},
   "outputs": [
    {
     "name": "stdout",
     "output_type": "stream",
     "text": [
      "verde : green\n",
      "azul : blue\n",
      "vermelho : red\n"
     ]
    }
   ],
   "source": [
    "# desempacotando itens de um dicionário;\n",
    "cores = {'verde': 'green', 'azul': 'blue', 'vermelho': 'red'}\n",
    "for i in cores:\n",
    "    print(i, \":\", cores[i])"
   ]
  },
  {
   "cell_type": "markdown",
   "metadata": {},
   "source": [
    "A cada ciclo, a variável i lê e retorna o dado/valor do dicionário cores,  na mensagem de retorno, instanciando cores na posição i, o interpretador retornará o padrão de um dicionário, onde quando se lê uma chave ele retorna seu respectivo valor."
   ]
  },
  {
   "cell_type": "code",
   "execution_count": 79,
   "metadata": {},
   "outputs": [
    {
     "name": "stdout",
     "output_type": "stream",
     "text": [
      "0\n",
      "2\n",
      "4\n",
      "6\n",
      "8\n",
      "10\n",
      "12\n",
      "14\n",
      "16\n",
      "18\n"
     ]
    }
   ],
   "source": [
    "# laço for contando de 2 em 2 elementos;\n",
    "for i in range(0,20,2):\n",
    "    print(i)"
   ]
  },
  {
   "cell_type": "code",
   "execution_count": 80,
   "metadata": {},
   "outputs": [
    {
     "name": "stdout",
     "output_type": "stream",
     "text": [
      "10\n",
      "9\n",
      "8\n",
      "7\n",
      "6\n",
      "5\n",
      "4\n",
      "3\n",
      "2\n",
      "1\n"
     ]
    }
   ],
   "source": [
    "# realizando contagem regressiva no laço for;\n",
    "for i in range(10,0,-1):\n",
    "    print(i)"
   ]
  },
  {
   "cell_type": "code",
   "execution_count": 82,
   "metadata": {},
   "outputs": [
    {
     "name": "stdout",
     "output_type": "stream",
     "text": [
      "Digite o valor limite: 4\n",
      "0\n",
      "1\n",
      "2\n",
      "3\n",
      "4\n"
     ]
    }
   ],
   "source": [
    "# realizando contagem com numero de entrada digitada pelo usuário;\n",
    "num = int(input(\"Digite o valor limite: \"))\n",
    "for i in range(0, num+1):\n",
    "    print(i)"
   ]
  },
  {
   "cell_type": "code",
   "execution_count": 84,
   "metadata": {},
   "outputs": [
    {
     "name": "stdout",
     "output_type": "stream",
     "text": [
      "Digite o produto: toalha de banho\n",
      "Digite o preço R$ 15.9\n",
      "Deseja cadastrar mais algum produto: s/ns\n",
      "toalha de banho : 15.9\n",
      "O total da fatura é: R$ 15.9\n",
      "Digite o produto: pano de prato\n",
      "Digite o preço R$ 5.99\n",
      "Deseja cadastrar mais algum produto: s/ns\n",
      "toalha de banho : 15.9\n",
      "pano de prato : 5.99\n",
      "O total da fatura é: R$ 21.89\n",
      "Digite o produto: travesseiro branco sem fronha\n",
      "Digite o preço R$ 44.50\n",
      "Deseja cadastrar mais algum produto: s/nn\n",
      "toalha de banho : 15.9\n",
      "pano de prato : 5.99\n",
      "travesseiro branco sem fronha : 44.5\n",
      "O total da fatura é: R$ 66.39\n"
     ]
    }
   ],
   "source": [
    "# laço de repetição com multiplos parametros;\n",
    "repetir = 's'\n",
    "fatura = []\n",
    "total = 0\n",
    "\n",
    "while repetir == 's':\n",
    "    produto = input(\"Digite o produto: \")\n",
    "    preco = float(input(\"Digite o preço R$ \"))\n",
    "    fatura.append([produto, preco])\n",
    "    total += preco\n",
    "    repetir = input(\"Deseja cadastrar mais algum produto: s/n\").lower()\n",
    "    for i in fatura:\n",
    "        print(i[0], ':', i[1])\n",
    "    print(f\"O total da fatura é: R$ {total}\")"
   ]
  },
  {
   "cell_type": "markdown",
   "metadata": {},
   "source": [
    "### Usando de alternativas quando o laço for não for eficiente Código convencional. Percorrendo os elementos de uma string e exibindo-os junto ao seu índice\n",
    "\n"
   ]
  },
  {
   "cell_type": "code",
   "execution_count": 86,
   "metadata": {},
   "outputs": [
    {
     "name": "stdout",
     "output_type": "stream",
     "text": [
      "0 t\n",
      "1 a\n",
      "2 n\n",
      "3 g\n",
      "4 a\n",
      "5 m\n",
      "6 a\n",
      "7 n\n",
      "8 d\n",
      "9 a\n",
      "10 p\n",
      "11 i\n",
      "12 o\n"
     ]
    }
   ],
   "source": [
    "nome = \"tangamandapio\"\n",
    "n_indice = 0\n",
    "\n",
    "for n_indice in range(len(nome)):\n",
    "    print(n_indice, nome[n_indice])"
   ]
  },
  {
   "cell_type": "code",
   "execution_count": null,
   "metadata": {},
   "outputs": [],
   "source": []
  }
 ],
 "metadata": {
  "kernelspec": {
   "display_name": "Python 3",
   "language": "python",
   "name": "python3"
  },
  "language_info": {
   "codemirror_mode": {
    "name": "ipython",
    "version": 3
   },
   "file_extension": ".py",
   "mimetype": "text/x-python",
   "name": "python",
   "nbconvert_exporter": "python",
   "pygments_lexer": "ipython3",
   "version": "3.8.3"
  }
 },
 "nbformat": 4,
 "nbformat_minor": 4
}
