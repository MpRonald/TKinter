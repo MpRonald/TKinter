{
 "cells": [
  {
   "cell_type": "markdown",
   "metadata": {},
   "source": [
    "# Listas"
   ]
  },
  {
   "cell_type": "code",
   "execution_count": 43,
   "metadata": {},
   "outputs": [
    {
     "name": "stdout",
     "output_type": "stream",
     "text": [
      "['janeiro', 'fevereiro', 'março', 'abril', 'maio']\n"
     ]
    }
   ],
   "source": [
    "lista = ['janeiro', 'fevereiro', 'março', 'abril', 'maio']\n",
    "print(lista)"
   ]
  },
  {
   "cell_type": "code",
   "execution_count": 44,
   "metadata": {},
   "outputs": [
    {
     "name": "stdout",
     "output_type": "stream",
     "text": [
      "Item no indice 2 na lista é: março\n",
      "Item no indice 4 na lista é: maio\n"
     ]
    }
   ],
   "source": [
    "# verificando um item da lista pelo indice;\n",
    "print(f\"Item no indice 2 na lista é: {lista[2]}\")\n",
    "print(f\"Item no indice 4 na lista é: {lista[4]}\")"
   ]
  },
  {
   "cell_type": "code",
   "execution_count": 45,
   "metadata": {},
   "outputs": [
    {
     "name": "stdout",
     "output_type": "stream",
     "text": [
      "O mes de abril está no indice 3 da lista\n",
      "Confirmando o indice na posição 3: abril\n"
     ]
    }
   ],
   "source": [
    "# verificando o numero do indice de um elemento na lista;\n",
    "print(f\"O mes de abril está no indice {lista.index('abril')} da lista\")\n",
    "print(f\"Confirmando o indice na posição 3: {lista[3]}\")"
   ]
  },
  {
   "cell_type": "code",
   "execution_count": 46,
   "metadata": {},
   "outputs": [
    {
     "name": "stdout",
     "output_type": "stream",
     "text": [
      "esta lista tem 5 elementos!\n"
     ]
    }
   ],
   "source": [
    "# verificando o tamanho da lista;\n",
    "print(f\"esta lista tem {len(lista)} elementos!\")"
   ]
  },
  {
   "cell_type": "code",
   "execution_count": 47,
   "metadata": {},
   "outputs": [
    {
     "name": "stdout",
     "output_type": "stream",
     "text": [
      "Imprimindo lista com item novo adicionado: \n",
      " ['janeiro', 'fevereiro', 'março', 'abril', 'maio', 'junho']\n"
     ]
    }
   ],
   "source": [
    "# adicionando um item à lista;\n",
    "lista.append('junho')\n",
    "print(f\"Imprimindo lista com item novo adicionado: \\n {lista}\")"
   ]
  },
  {
   "cell_type": "code",
   "execution_count": 48,
   "metadata": {},
   "outputs": [
    {
     "name": "stdout",
     "output_type": "stream",
     "text": [
      "Imprimindo lista com item novo adicionado na posição 0: \n",
      " ['dezembro', 'janeiro', 'fevereiro', 'março', 'abril', 'maio', 'junho']\n"
     ]
    }
   ],
   "source": [
    "# adicionando um item novo na lista, porém numa posição específica;\n",
    "lista.insert(0,'dezembro') \n",
    "print(f\"Imprimindo lista com item novo adicionado na posição 0: \\n {lista}\")"
   ]
  },
  {
   "cell_type": "code",
   "execution_count": 49,
   "metadata": {},
   "outputs": [
    {
     "name": "stdout",
     "output_type": "stream",
     "text": [
      "Lista: ['dezembro', 'janeiro', 'fevereiro', 'março', 'abril', 'maio', 'junho']\n"
     ]
    }
   ],
   "source": [
    "# removendo um elemento da lista por meio do seu indice;\n",
    "print(f\"Lista: {lista}\")"
   ]
  },
  {
   "cell_type": "code",
   "execution_count": 50,
   "metadata": {},
   "outputs": [
    {
     "name": "stdout",
     "output_type": "stream",
     "text": [
      "Lista sem o indice 3: ['dezembro', 'janeiro', 'março', 'abril', 'maio', 'junho']\n"
     ]
    }
   ],
   "source": [
    "lista_sem_indice_3 = lista.pop(2)\n",
    "print(f\"Lista sem o indice 3: {lista}\")"
   ]
  },
  {
   "cell_type": "code",
   "execution_count": 53,
   "metadata": {},
   "outputs": [
    {
     "name": "stdout",
     "output_type": "stream",
     "text": [
      "Lista desordenada: [1, 4, 5, -7, 43, 18, 11, 2, 6, 120]\n",
      "Lista ordenada: [-7, 1, 2, 4, 5, 6, 11, 18, 43, 120]\n"
     ]
    }
   ],
   "source": [
    "# ordenando elementos de uma lista;\n",
    "num = [1, 4, 5, -7, 43, 18, 11, 2, 6, 120]\n",
    "print(f\"Lista desordenada: {num}\")\n",
    "num.sort()\n",
    "print(f\"Lista ordenada: {num}\")"
   ]
  },
  {
   "cell_type": "code",
   "execution_count": 56,
   "metadata": {},
   "outputs": [
    {
     "name": "stdout",
     "output_type": "stream",
     "text": [
      "Lista desordenada: [1, 4, 5, -7, 43, 18, 11, 2, 6, 120]\n",
      "Lista ordenada: [120, 43, 18, 11, 6, 5, 4, 2, 1, -7]\n"
     ]
    }
   ],
   "source": [
    "# ordenando lista de modo reverso;\n",
    "num = [1, 4, 5, -7, 43, 18, 11, 2, 6, 120]\n",
    "print(f\"Lista desordenada: {num}\")\n",
    "num.sort(reverse=True)\n",
    "print(f\"Lista ordenada: {num}\")"
   ]
  },
  {
   "cell_type": "code",
   "execution_count": 60,
   "metadata": {},
   "outputs": [
    {
     "name": "stdout",
     "output_type": "stream",
     "text": [
      "Nome correto: ornitorrinco\n",
      "Nome ordenada pelo alfanumérico: ['c', 'i', 'i', 'n', 'n', 'o', 'o', 'o', 'r', 'r', 'r', 't']\n"
     ]
    }
   ],
   "source": [
    "# ordenando uma lista de alfanumericos;\n",
    "animal = \"ornitorrinco\"\n",
    "print(f\"Nome correto: {animal}\")\n",
    "letras = sorted(animal)\n",
    "print(f\"Nome ordenada pelo alfanumérico: {letras}\")"
   ]
  },
  {
   "cell_type": "code",
   "execution_count": 61,
   "metadata": {},
   "outputs": [
    {
     "name": "stdout",
     "output_type": "stream",
     "text": [
      "Lista aninhada: [[1, 2, 3, 4], ['joao', 'marcos', 'pedro', 'simão']]\n"
     ]
    }
   ],
   "source": [
    "# listas aninhadas;\n",
    "cadastro = [[1, 2, 3, 4], ['joao', 'marcos', 'pedro', 'simão']]\n",
    "print(f\"Lista aninhada: {cadastro}\")"
   ]
  },
  {
   "cell_type": "code",
   "execution_count": 63,
   "metadata": {},
   "outputs": [
    {
     "name": "stdout",
     "output_type": "stream",
     "text": [
      "Lista pessoa1: ['joao', 'marcos', 'pedro', 'simão']\n",
      "\n",
      "Lista pessoa2: ['maria', 'ana', 'jessica', 'diana']\n",
      "\n",
      "Listas concatenadas: ['joao', 'marcos', 'pedro', 'simão', 'maria', 'ana', 'jessica', 'diana']\n"
     ]
    }
   ],
   "source": [
    "# concatenando listas;\n",
    "pessoa1 = ['joao', 'marcos', 'pedro', 'simão']\n",
    "pessoa2 = ['maria', 'ana', 'jessica', 'diana']\n",
    "print(f\"Lista pessoa1: {pessoa1}\\n\")\n",
    "print(f\"Lista pessoa2: {pessoa2}\\n\")\n",
    "list_concat = pessoa1 + pessoa2\n",
    "print(f\"Listas concatenadas: {list_concat}\")"
   ]
  },
  {
   "cell_type": "code",
   "execution_count": 65,
   "metadata": {},
   "outputs": [
    {
     "name": "stdout",
     "output_type": "stream",
     "text": [
      "Lista pessoa1: ['joao', 'marcos', 'pedro', 'simão']\n",
      "\n",
      "Lista pessoa2: ['maria', 'ana', 'jessica', 'diana']\n",
      "\n",
      "Lista unificada: \n",
      " ['joao', 'marcos', 'pedro', 'simão', 'maria', 'ana', 'jessica', 'diana']\n"
     ]
    }
   ],
   "source": [
    "# Unindo listas com outras já existentes;\n",
    "pessoa1 = ['joao', 'marcos', 'pedro', 'simão']\n",
    "pessoa2 = ['maria', 'ana', 'jessica', 'diana']\n",
    "print(f\"Lista pessoa1: {pessoa1}\\n\")\n",
    "print(f\"Lista pessoa2: {pessoa2}\\n\")\n",
    "pessoa1.extend(pessoa2)\n",
    "print(f\"Lista unificada: \\n {pessoa1}\")"
   ]
  },
  {
   "cell_type": "code",
   "execution_count": 71,
   "metadata": {},
   "outputs": [
    {
     "name": "stdout",
     "output_type": "stream",
     "text": [
      "Lista completa: ['joao', 'marcos', 'pedro', 'simão', 'maria', 'ana', 'jessica', 'diana']\n",
      "\n",
      "Lista fatiada: ['pedro', 'simão']\n"
     ]
    }
   ],
   "source": [
    "# Fatiando elementos de uma lista;\n",
    "lista = pessoa1\n",
    "lista_fatiada = lista[2:4]\n",
    "print(f\"Lista completa: {lista}\\n\")\n",
    "print(f\"Lista fatiada: {lista_fatiada}\")"
   ]
  },
  {
   "cell_type": "markdown",
   "metadata": {},
   "source": [
    "# Resumo de todos métodos inclusos nos built-ins <br><br>\n",
    "append() # Adiciona um elemento ao final de uma lista <br><br> insert()  # Adiciona um elemento em uma posição específica do índice  <br><br>clear()  # Remove todos os elementos de uma lista  copy()  # Associado a outra variável, copia todo o conteúdo de uma lista <br><br> count()  # Retorna o número de vezes que um elemento aparece em uma lista  <br><br>extend()  # Adiciona os elementos de um objeto (ou de outra lista) ao final da lista original <br><br> index()  # Retorna o número de índice de um determinado elemento da lista <br><br> pop()  # Remove um determinado elemento da lista por meio de seu número de índice<br><br>  remove()  # Remove um determinado elemento da lista por meio de seu nome/dado/valor <br><br> reverse()  # Inverte a ordem dos elementos da lista <br><br> sort()  # Ordena os elementos da lista\n",
    "\n",
    " "
   ]
  },
  {
   "cell_type": "markdown",
   "metadata": {},
   "source": [
    "# Set -> Conjunto numerico"
   ]
  },
  {
   "cell_type": "code",
   "execution_count": 74,
   "metadata": {},
   "outputs": [
    {
     "name": "stdout",
     "output_type": "stream",
     "text": [
      "Conjunto numérico set: {1, 2, 3, 4}\n",
      "Tipo do conjunto -> <class 'set'>\n"
     ]
    }
   ],
   "source": [
    "conjunto = {1, 2, 3, 4}\n",
    "print(f\"Conjunto numérico set: {conjunto}\")\n",
    "print(f\"Tipo do conjunto -> {type(conjunto)}\")"
   ]
  },
  {
   "cell_type": "code",
   "execution_count": 75,
   "metadata": {},
   "outputs": [
    {
     "name": "stdout",
     "output_type": "stream",
     "text": [
      "Conjunto 1: {1, 2, 3, 4, 5}\n",
      "\n",
      "Conjunto 2: {6, 7, 8, 9, 10}\n"
     ]
    }
   ],
   "source": [
    "cj1 = {1,2,3,4,5}\n",
    "cj2 = {6,7,8,9,10}\n",
    "print(f\"Conjunto 1: {cj1}\\n\")\n",
    "print(f\"Conjunto 2: {cj2}\")"
   ]
  },
  {
   "cell_type": "code",
   "execution_count": 78,
   "metadata": {},
   "outputs": [
    {
     "name": "stdout",
     "output_type": "stream",
     "text": [
      "União de cj1 e cj2: \n",
      " {1, 2, 3, 4, 5, 6, 7, 8, 9, 10}\n"
     ]
    }
   ],
   "source": [
    "# realizando união entre conjuntos; FORMA 01\n",
    "uniao = cj1.union(cj2)\n",
    "print(f\"União de cj1 e cj2: \\n {uniao}\")"
   ]
  },
  {
   "cell_type": "code",
   "execution_count": 79,
   "metadata": {},
   "outputs": [
    {
     "name": "stdout",
     "output_type": "stream",
     "text": [
      "União de cj1 e cj2: \n",
      " {1, 2, 3, 4, 5, 6, 7, 8, 9, 10}\n"
     ]
    }
   ],
   "source": [
    "# realizando união entre conjuntos; FORMA 02\n",
    "uniao = cj1|cj2\n",
    "print(f\"União de cj1 e cj2: \\n {uniao}\")"
   ]
  },
  {
   "cell_type": "code",
   "execution_count": 80,
   "metadata": {},
   "outputs": [
    {
     "name": "stdout",
     "output_type": "stream",
     "text": [
      "Conjunto 01: {64, 43, 44, 12, 17, 51, 23}\n",
      "\n",
      "Conjunto 02: {2, 5, 7, 10, 43, 12, 13, 51}\n",
      "\n",
      "Interseção: {51, 43, 12}\n"
     ]
    }
   ],
   "source": [
    "# interseção entre set (FORMA 01)\n",
    "conj_01 = {44,23,12,43,17,51,64}\n",
    "conj_02 = {5,7,13,2,12,43,51,10}\n",
    "intersecao = conj_01.intersection(conj_02)\n",
    "print(f\"Conjunto 01: {conj_01}\\n\")\n",
    "print(f\"Conjunto 02: {conj_02}\\n\")\n",
    "print(f\"Interseção: {intersecao}\")"
   ]
  },
  {
   "cell_type": "code",
   "execution_count": 81,
   "metadata": {},
   "outputs": [
    {
     "name": "stdout",
     "output_type": "stream",
     "text": [
      "Conjunto 01: {64, 43, 44, 12, 17, 51, 23}\n",
      "\n",
      "Conjunto 02: {2, 5, 7, 10, 43, 12, 13, 51}\n",
      "\n",
      "Interseção: {51, 43, 12}\n"
     ]
    }
   ],
   "source": [
    "# interseção entre set (FORMA 02)\n",
    "conj_01 = {44,23,12,43,17,51,64}\n",
    "conj_02 = {5,7,13,2,12,43,51,10}\n",
    "intersecao = conj_01 & conj_02\n",
    "print(f\"Conjunto 01: {conj_01}\\n\")\n",
    "print(f\"Conjunto 02: {conj_02}\\n\")\n",
    "print(f\"Interseção: {intersecao}\")"
   ]
  },
  {
   "cell_type": "code",
   "execution_count": 84,
   "metadata": {},
   "outputs": [
    {
     "name": "stdout",
     "output_type": "stream",
     "text": [
      "Itens diferentes entre os sets: {64, 17, 44, 23}\n"
     ]
    }
   ],
   "source": [
    "# Verificando itens diferentes entre set;\n",
    "diferenca = conj_01 - conj_02\n",
    "print(f\"Itens diferentes entre os sets: {diferenca}\")"
   ]
  },
  {
   "cell_type": "code",
   "execution_count": 87,
   "metadata": {},
   "outputs": [
    {
     "name": "stdout",
     "output_type": "stream",
     "text": [
      "Conjunto com elementos: {64, 43, 44, 12, 17, 51, 23}\n",
      "Conjunto sem elementos: set()\n"
     ]
    }
   ],
   "source": [
    "# Limpando elementos do set;\n",
    "conjunto = {44,23,12,43,17,51,64}\n",
    "print(f\"Conjunto com elementos: {conjunto}\")\n",
    "conjunto.clear()\n",
    "print(f\"Conjunto sem elementos: {conjunto}\")"
   ]
  },
  {
   "cell_type": "code",
   "execution_count": null,
   "metadata": {},
   "outputs": [],
   "source": []
  }
 ],
 "metadata": {
  "kernelspec": {
   "display_name": "Python 3",
   "language": "python",
   "name": "python3"
  },
  "language_info": {
   "codemirror_mode": {
    "name": "ipython",
    "version": 3
   },
   "file_extension": ".py",
   "mimetype": "text/x-python",
   "name": "python",
   "nbconvert_exporter": "python",
   "pygments_lexer": "ipython3",
   "version": "3.8.3"
  }
 },
 "nbformat": 4,
 "nbformat_minor": 4
}
